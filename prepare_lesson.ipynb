{
 "cells": [
  {
   "cell_type": "markdown",
   "id": "d87e5676",
   "metadata": {},
   "source": [
    "# Prepare Data\n",
    "\n",
    "\n",
    "What is it? \n",
    "- the stage after acquiring our data that ensures our data is ready for exploration and eventually modeling\n",
    "\n",
    "- Pipeline: Plan - Acquire - **Prepare** - Explore - Model - Deliver\n",
    "\n",
    "\n",
    "Why do we care?\n",
    "- because we need our data to be tidy and clean for accurate exploration\n",
    "- because we need our data split to be able to adaquately evaluate our model \n",
    "\n",
    "\n",
    "How do we do it?\n",
    "- start with one dataframe from acquire\n",
    "1. summarize the data\n",
    "2. clean the data\n",
    "3. split the data: train, validate, and test\n",
    "- end with `prepare.py` file"
   ]
  },
  {
   "cell_type": "code",
   "execution_count": 1,
   "id": "a6560491",
   "metadata": {},
   "outputs": [],
   "source": [
    "import pandas as pd\n",
    "import numpy as np\n",
    "import matplotlib.pyplot as plt\n",
    "\n",
    "# import our own acquire module\n",
    "import acquire"
   ]
  },
  {
   "cell_type": "markdown",
   "id": "32cdf66a",
   "metadata": {},
   "source": [
    "## This Lesson - Titanic Dataset"
   ]
  },
  {
   "cell_type": "markdown",
   "id": "d2c512c1",
   "metadata": {},
   "source": [
    "Project goal: predict who survived the titanic"
   ]
  },
  {
   "cell_type": "markdown",
   "id": "6dd1e1b3",
   "metadata": {},
   "source": [
    "## Acquire "
   ]
  },
  {
   "cell_type": "markdown",
   "id": "7b24fc6c",
   "metadata": {},
   "source": [
    "- use my `acquire.py` since i've already established this step"
   ]
  },
  {
   "cell_type": "code",
   "execution_count": 81,
   "id": "32669579",
   "metadata": {},
   "outputs": [
    {
     "name": "stdout",
     "output_type": "stream",
     "text": [
      "csv file found and loaded\n"
     ]
    }
   ],
   "source": [
    "# get titanic data\n",
    "df = acquire.get_titanic_data()"
   ]
  },
  {
   "cell_type": "code",
   "execution_count": 82,
   "id": "74c84838",
   "metadata": {},
   "outputs": [
    {
     "name": "stdout",
     "output_type": "stream",
     "text": [
      "<class 'pandas.core.frame.DataFrame'>\n",
      "Int64Index: 891 entries, 0 to 890\n",
      "Data columns (total 13 columns):\n",
      " #   Column        Non-Null Count  Dtype  \n",
      "---  ------        --------------  -----  \n",
      " 0   passenger_id  891 non-null    int64  \n",
      " 1   survived      891 non-null    int64  \n",
      " 2   pclass        891 non-null    int64  \n",
      " 3   sex           891 non-null    object \n",
      " 4   age           714 non-null    float64\n",
      " 5   sibsp         891 non-null    int64  \n",
      " 6   parch         891 non-null    int64  \n",
      " 7   fare          891 non-null    float64\n",
      " 8   embarked      889 non-null    object \n",
      " 9   class         891 non-null    object \n",
      " 10  deck          203 non-null    object \n",
      " 11  embark_town   889 non-null    object \n",
      " 12  alone         891 non-null    int64  \n",
      "dtypes: float64(2), int64(6), object(5)\n",
      "memory usage: 97.5+ KB\n"
     ]
    }
   ],
   "source": [
    "#look at data\n",
    "df.info()"
   ]
  },
  {
   "cell_type": "code",
   "execution_count": 83,
   "id": "b6811634",
   "metadata": {},
   "outputs": [
    {
     "data": {
      "text/html": [
       "<div>\n",
       "<style scoped>\n",
       "    .dataframe tbody tr th:only-of-type {\n",
       "        vertical-align: middle;\n",
       "    }\n",
       "\n",
       "    .dataframe tbody tr th {\n",
       "        vertical-align: top;\n",
       "    }\n",
       "\n",
       "    .dataframe thead th {\n",
       "        text-align: right;\n",
       "    }\n",
       "</style>\n",
       "<table border=\"1\" class=\"dataframe\">\n",
       "  <thead>\n",
       "    <tr style=\"text-align: right;\">\n",
       "      <th></th>\n",
       "      <th>passenger_id</th>\n",
       "      <th>survived</th>\n",
       "      <th>pclass</th>\n",
       "      <th>sex</th>\n",
       "      <th>age</th>\n",
       "      <th>sibsp</th>\n",
       "      <th>parch</th>\n",
       "      <th>fare</th>\n",
       "      <th>embarked</th>\n",
       "      <th>class</th>\n",
       "      <th>deck</th>\n",
       "      <th>embark_town</th>\n",
       "      <th>alone</th>\n",
       "    </tr>\n",
       "  </thead>\n",
       "  <tbody>\n",
       "    <tr>\n",
       "      <th>count</th>\n",
       "      <td>891.000000</td>\n",
       "      <td>891.000000</td>\n",
       "      <td>891.000000</td>\n",
       "      <td>891</td>\n",
       "      <td>714.000000</td>\n",
       "      <td>891.000000</td>\n",
       "      <td>891.000000</td>\n",
       "      <td>891.000000</td>\n",
       "      <td>889</td>\n",
       "      <td>891</td>\n",
       "      <td>203</td>\n",
       "      <td>889</td>\n",
       "      <td>891.000000</td>\n",
       "    </tr>\n",
       "    <tr>\n",
       "      <th>unique</th>\n",
       "      <td>NaN</td>\n",
       "      <td>NaN</td>\n",
       "      <td>NaN</td>\n",
       "      <td>2</td>\n",
       "      <td>NaN</td>\n",
       "      <td>NaN</td>\n",
       "      <td>NaN</td>\n",
       "      <td>NaN</td>\n",
       "      <td>3</td>\n",
       "      <td>3</td>\n",
       "      <td>7</td>\n",
       "      <td>3</td>\n",
       "      <td>NaN</td>\n",
       "    </tr>\n",
       "    <tr>\n",
       "      <th>top</th>\n",
       "      <td>NaN</td>\n",
       "      <td>NaN</td>\n",
       "      <td>NaN</td>\n",
       "      <td>male</td>\n",
       "      <td>NaN</td>\n",
       "      <td>NaN</td>\n",
       "      <td>NaN</td>\n",
       "      <td>NaN</td>\n",
       "      <td>S</td>\n",
       "      <td>Third</td>\n",
       "      <td>C</td>\n",
       "      <td>Southampton</td>\n",
       "      <td>NaN</td>\n",
       "    </tr>\n",
       "    <tr>\n",
       "      <th>freq</th>\n",
       "      <td>NaN</td>\n",
       "      <td>NaN</td>\n",
       "      <td>NaN</td>\n",
       "      <td>577</td>\n",
       "      <td>NaN</td>\n",
       "      <td>NaN</td>\n",
       "      <td>NaN</td>\n",
       "      <td>NaN</td>\n",
       "      <td>644</td>\n",
       "      <td>491</td>\n",
       "      <td>59</td>\n",
       "      <td>644</td>\n",
       "      <td>NaN</td>\n",
       "    </tr>\n",
       "    <tr>\n",
       "      <th>mean</th>\n",
       "      <td>445.000000</td>\n",
       "      <td>0.383838</td>\n",
       "      <td>2.308642</td>\n",
       "      <td>NaN</td>\n",
       "      <td>29.699118</td>\n",
       "      <td>0.523008</td>\n",
       "      <td>0.381594</td>\n",
       "      <td>32.204208</td>\n",
       "      <td>NaN</td>\n",
       "      <td>NaN</td>\n",
       "      <td>NaN</td>\n",
       "      <td>NaN</td>\n",
       "      <td>0.602694</td>\n",
       "    </tr>\n",
       "    <tr>\n",
       "      <th>std</th>\n",
       "      <td>257.353842</td>\n",
       "      <td>0.486592</td>\n",
       "      <td>0.836071</td>\n",
       "      <td>NaN</td>\n",
       "      <td>14.526497</td>\n",
       "      <td>1.102743</td>\n",
       "      <td>0.806057</td>\n",
       "      <td>49.693429</td>\n",
       "      <td>NaN</td>\n",
       "      <td>NaN</td>\n",
       "      <td>NaN</td>\n",
       "      <td>NaN</td>\n",
       "      <td>0.489615</td>\n",
       "    </tr>\n",
       "    <tr>\n",
       "      <th>min</th>\n",
       "      <td>0.000000</td>\n",
       "      <td>0.000000</td>\n",
       "      <td>1.000000</td>\n",
       "      <td>NaN</td>\n",
       "      <td>0.420000</td>\n",
       "      <td>0.000000</td>\n",
       "      <td>0.000000</td>\n",
       "      <td>0.000000</td>\n",
       "      <td>NaN</td>\n",
       "      <td>NaN</td>\n",
       "      <td>NaN</td>\n",
       "      <td>NaN</td>\n",
       "      <td>0.000000</td>\n",
       "    </tr>\n",
       "    <tr>\n",
       "      <th>25%</th>\n",
       "      <td>222.500000</td>\n",
       "      <td>0.000000</td>\n",
       "      <td>2.000000</td>\n",
       "      <td>NaN</td>\n",
       "      <td>20.125000</td>\n",
       "      <td>0.000000</td>\n",
       "      <td>0.000000</td>\n",
       "      <td>7.910400</td>\n",
       "      <td>NaN</td>\n",
       "      <td>NaN</td>\n",
       "      <td>NaN</td>\n",
       "      <td>NaN</td>\n",
       "      <td>0.000000</td>\n",
       "    </tr>\n",
       "    <tr>\n",
       "      <th>50%</th>\n",
       "      <td>445.000000</td>\n",
       "      <td>0.000000</td>\n",
       "      <td>3.000000</td>\n",
       "      <td>NaN</td>\n",
       "      <td>28.000000</td>\n",
       "      <td>0.000000</td>\n",
       "      <td>0.000000</td>\n",
       "      <td>14.454200</td>\n",
       "      <td>NaN</td>\n",
       "      <td>NaN</td>\n",
       "      <td>NaN</td>\n",
       "      <td>NaN</td>\n",
       "      <td>1.000000</td>\n",
       "    </tr>\n",
       "    <tr>\n",
       "      <th>75%</th>\n",
       "      <td>667.500000</td>\n",
       "      <td>1.000000</td>\n",
       "      <td>3.000000</td>\n",
       "      <td>NaN</td>\n",
       "      <td>38.000000</td>\n",
       "      <td>1.000000</td>\n",
       "      <td>0.000000</td>\n",
       "      <td>31.000000</td>\n",
       "      <td>NaN</td>\n",
       "      <td>NaN</td>\n",
       "      <td>NaN</td>\n",
       "      <td>NaN</td>\n",
       "      <td>1.000000</td>\n",
       "    </tr>\n",
       "    <tr>\n",
       "      <th>max</th>\n",
       "      <td>890.000000</td>\n",
       "      <td>1.000000</td>\n",
       "      <td>3.000000</td>\n",
       "      <td>NaN</td>\n",
       "      <td>80.000000</td>\n",
       "      <td>8.000000</td>\n",
       "      <td>6.000000</td>\n",
       "      <td>512.329200</td>\n",
       "      <td>NaN</td>\n",
       "      <td>NaN</td>\n",
       "      <td>NaN</td>\n",
       "      <td>NaN</td>\n",
       "      <td>1.000000</td>\n",
       "    </tr>\n",
       "  </tbody>\n",
       "</table>\n",
       "</div>"
      ],
      "text/plain": [
       "        passenger_id    survived      pclass   sex         age       sibsp  \\\n",
       "count     891.000000  891.000000  891.000000   891  714.000000  891.000000   \n",
       "unique           NaN         NaN         NaN     2         NaN         NaN   \n",
       "top              NaN         NaN         NaN  male         NaN         NaN   \n",
       "freq             NaN         NaN         NaN   577         NaN         NaN   \n",
       "mean      445.000000    0.383838    2.308642   NaN   29.699118    0.523008   \n",
       "std       257.353842    0.486592    0.836071   NaN   14.526497    1.102743   \n",
       "min         0.000000    0.000000    1.000000   NaN    0.420000    0.000000   \n",
       "25%       222.500000    0.000000    2.000000   NaN   20.125000    0.000000   \n",
       "50%       445.000000    0.000000    3.000000   NaN   28.000000    0.000000   \n",
       "75%       667.500000    1.000000    3.000000   NaN   38.000000    1.000000   \n",
       "max       890.000000    1.000000    3.000000   NaN   80.000000    8.000000   \n",
       "\n",
       "             parch        fare embarked  class deck  embark_town       alone  \n",
       "count   891.000000  891.000000      889    891  203          889  891.000000  \n",
       "unique         NaN         NaN        3      3    7            3         NaN  \n",
       "top            NaN         NaN        S  Third    C  Southampton         NaN  \n",
       "freq           NaN         NaN      644    491   59          644         NaN  \n",
       "mean      0.381594   32.204208      NaN    NaN  NaN          NaN    0.602694  \n",
       "std       0.806057   49.693429      NaN    NaN  NaN          NaN    0.489615  \n",
       "min       0.000000    0.000000      NaN    NaN  NaN          NaN    0.000000  \n",
       "25%       0.000000    7.910400      NaN    NaN  NaN          NaN    0.000000  \n",
       "50%       0.000000   14.454200      NaN    NaN  NaN          NaN    1.000000  \n",
       "75%       0.000000   31.000000      NaN    NaN  NaN          NaN    1.000000  \n",
       "max       6.000000  512.329200      NaN    NaN  NaN          NaN    1.000000  "
      ]
     },
     "execution_count": 83,
     "metadata": {},
     "output_type": "execute_result"
    }
   ],
   "source": [
    "df.describe(include='all')"
   ]
  },
  {
   "cell_type": "code",
   "execution_count": 84,
   "id": "7aea4140",
   "metadata": {},
   "outputs": [
    {
     "data": {
      "text/plain": [
       "(891, 13)"
      ]
     },
     "execution_count": 84,
     "metadata": {},
     "output_type": "execute_result"
    }
   ],
   "source": [
    "df.shape"
   ]
  },
  {
   "cell_type": "markdown",
   "id": "33d04e7a",
   "metadata": {},
   "source": [
    "## Prepare"
   ]
  },
  {
   "cell_type": "markdown",
   "id": "e2af53be",
   "metadata": {},
   "source": [
    "## STEP 1: Summarize"
   ]
  },
  {
   "cell_type": "markdown",
   "id": "fd95acd7",
   "metadata": {},
   "source": [
    "- understand your data\n",
    "- visualize your variables (univariate only)"
   ]
  },
  {
   "cell_type": "markdown",
   "id": "956c9fda",
   "metadata": {},
   "source": [
    "#### understand your data"
   ]
  },
  {
   "cell_type": "code",
   "execution_count": 85,
   "id": "c950721a",
   "metadata": {},
   "outputs": [
    {
     "name": "stdout",
     "output_type": "stream",
     "text": [
      "<class 'pandas.core.frame.DataFrame'>\n",
      "Int64Index: 891 entries, 0 to 890\n",
      "Data columns (total 13 columns):\n",
      " #   Column        Non-Null Count  Dtype  \n",
      "---  ------        --------------  -----  \n",
      " 0   passenger_id  891 non-null    int64  \n",
      " 1   survived      891 non-null    int64  \n",
      " 2   pclass        891 non-null    int64  \n",
      " 3   sex           891 non-null    object \n",
      " 4   age           714 non-null    float64\n",
      " 5   sibsp         891 non-null    int64  \n",
      " 6   parch         891 non-null    int64  \n",
      " 7   fare          891 non-null    float64\n",
      " 8   embarked      889 non-null    object \n",
      " 9   class         891 non-null    object \n",
      " 10  deck          203 non-null    object \n",
      " 11  embark_town   889 non-null    object \n",
      " 12  alone         891 non-null    int64  \n",
      "dtypes: float64(2), int64(6), object(5)\n",
      "memory usage: 97.5+ KB\n"
     ]
    }
   ],
   "source": [
    "# Get information about the dataframe: column names, rows, datatypes, non-missing values\n",
    "df.info()"
   ]
  },
  {
   "cell_type": "markdown",
   "id": "37e399d0",
   "metadata": {},
   "source": [
    "Do we know what all the columns mean? \n",
    "- passenger_id: this the unique id of a passenger\n",
    "- survived: this is whether or not somewhere survived\n",
    "- pclass: Passenger Class\n",
    "- sex: sex\n",
    "- age: age\n",
    "- sibsp: Number of Siblings/Spouses Aboard\n",
    "- parch: Number of Parents/Children Aboard\n",
    "- fare: Passenger Fare\n",
    "- embarked: \n",
    "- class:\n",
    "- deck:\n",
    "- embarked_town: Port of Embarkation\tC = Cherbourg; Q = Queenstown; S = Southampton\n",
    "- alone:"
   ]
  },
  {
   "cell_type": "markdown",
   "id": "dfabad1d",
   "metadata": {},
   "source": [
    "What does one row of data respresent? \n",
    "- a unique passenger with all their demographic info and ship info "
   ]
  },
  {
   "cell_type": "markdown",
   "id": "b003232e",
   "metadata": {},
   "source": [
    "What is our target variable? \n",
    "- survived"
   ]
  },
  {
   "cell_type": "code",
   "execution_count": 86,
   "id": "1601182b",
   "metadata": {},
   "outputs": [
    {
     "data": {
      "text/html": [
       "<div>\n",
       "<style scoped>\n",
       "    .dataframe tbody tr th:only-of-type {\n",
       "        vertical-align: middle;\n",
       "    }\n",
       "\n",
       "    .dataframe tbody tr th {\n",
       "        vertical-align: top;\n",
       "    }\n",
       "\n",
       "    .dataframe thead th {\n",
       "        text-align: right;\n",
       "    }\n",
       "</style>\n",
       "<table border=\"1\" class=\"dataframe\">\n",
       "  <thead>\n",
       "    <tr style=\"text-align: right;\">\n",
       "      <th></th>\n",
       "      <th>passenger_id</th>\n",
       "      <th>survived</th>\n",
       "      <th>pclass</th>\n",
       "      <th>sex</th>\n",
       "      <th>age</th>\n",
       "      <th>sibsp</th>\n",
       "      <th>parch</th>\n",
       "      <th>fare</th>\n",
       "      <th>embarked</th>\n",
       "      <th>class</th>\n",
       "      <th>deck</th>\n",
       "      <th>embark_town</th>\n",
       "      <th>alone</th>\n",
       "    </tr>\n",
       "  </thead>\n",
       "  <tbody>\n",
       "    <tr>\n",
       "      <th>0</th>\n",
       "      <td>0</td>\n",
       "      <td>0</td>\n",
       "      <td>3</td>\n",
       "      <td>male</td>\n",
       "      <td>22.0</td>\n",
       "      <td>1</td>\n",
       "      <td>0</td>\n",
       "      <td>7.2500</td>\n",
       "      <td>S</td>\n",
       "      <td>Third</td>\n",
       "      <td>NaN</td>\n",
       "      <td>Southampton</td>\n",
       "      <td>0</td>\n",
       "    </tr>\n",
       "    <tr>\n",
       "      <th>1</th>\n",
       "      <td>1</td>\n",
       "      <td>1</td>\n",
       "      <td>1</td>\n",
       "      <td>female</td>\n",
       "      <td>38.0</td>\n",
       "      <td>1</td>\n",
       "      <td>0</td>\n",
       "      <td>71.2833</td>\n",
       "      <td>C</td>\n",
       "      <td>First</td>\n",
       "      <td>C</td>\n",
       "      <td>Cherbourg</td>\n",
       "      <td>0</td>\n",
       "    </tr>\n",
       "    <tr>\n",
       "      <th>2</th>\n",
       "      <td>2</td>\n",
       "      <td>1</td>\n",
       "      <td>3</td>\n",
       "      <td>female</td>\n",
       "      <td>26.0</td>\n",
       "      <td>0</td>\n",
       "      <td>0</td>\n",
       "      <td>7.9250</td>\n",
       "      <td>S</td>\n",
       "      <td>Third</td>\n",
       "      <td>NaN</td>\n",
       "      <td>Southampton</td>\n",
       "      <td>1</td>\n",
       "    </tr>\n",
       "    <tr>\n",
       "      <th>3</th>\n",
       "      <td>3</td>\n",
       "      <td>1</td>\n",
       "      <td>1</td>\n",
       "      <td>female</td>\n",
       "      <td>35.0</td>\n",
       "      <td>1</td>\n",
       "      <td>0</td>\n",
       "      <td>53.1000</td>\n",
       "      <td>S</td>\n",
       "      <td>First</td>\n",
       "      <td>C</td>\n",
       "      <td>Southampton</td>\n",
       "      <td>0</td>\n",
       "    </tr>\n",
       "    <tr>\n",
       "      <th>4</th>\n",
       "      <td>4</td>\n",
       "      <td>0</td>\n",
       "      <td>3</td>\n",
       "      <td>male</td>\n",
       "      <td>35.0</td>\n",
       "      <td>0</td>\n",
       "      <td>0</td>\n",
       "      <td>8.0500</td>\n",
       "      <td>S</td>\n",
       "      <td>Third</td>\n",
       "      <td>NaN</td>\n",
       "      <td>Southampton</td>\n",
       "      <td>1</td>\n",
       "    </tr>\n",
       "  </tbody>\n",
       "</table>\n",
       "</div>"
      ],
      "text/plain": [
       "   passenger_id  survived  pclass     sex   age  sibsp  parch     fare  \\\n",
       "0             0         0       3    male  22.0      1      0   7.2500   \n",
       "1             1         1       1  female  38.0      1      0  71.2833   \n",
       "2             2         1       3  female  26.0      0      0   7.9250   \n",
       "3             3         1       1  female  35.0      1      0  53.1000   \n",
       "4             4         0       3    male  35.0      0      0   8.0500   \n",
       "\n",
       "  embarked  class deck  embark_town  alone  \n",
       "0        S  Third  NaN  Southampton      0  \n",
       "1        C  First    C    Cherbourg      0  \n",
       "2        S  Third  NaN  Southampton      1  \n",
       "3        S  First    C  Southampton      0  \n",
       "4        S  Third  NaN  Southampton      1  "
      ]
     },
     "execution_count": 86,
     "metadata": {},
     "output_type": "execute_result"
    }
   ],
   "source": [
    "df.head()"
   ]
  },
  {
   "cell_type": "markdown",
   "id": "62333f28",
   "metadata": {},
   "source": [
    "#### visualize your data (univariate)"
   ]
  },
  {
   "cell_type": "code",
   "execution_count": 87,
   "id": "f0cb9361",
   "metadata": {},
   "outputs": [
    {
     "data": {
      "text/plain": [
       "Index(['passenger_id', 'survived', 'pclass', 'age', 'sibsp', 'parch', 'fare',\n",
       "       'alone'],\n",
       "      dtype='object')"
      ]
     },
     "execution_count": 87,
     "metadata": {},
     "output_type": "execute_result"
    }
   ],
   "source": [
    "#find numeric columns\n",
    "num_col = df.select_dtypes(include='number').columns\n",
    "num_col"
   ]
  },
  {
   "cell_type": "code",
   "execution_count": 88,
   "id": "70bec20b",
   "metadata": {
    "scrolled": false
   },
   "outputs": [
    {
     "data": {
      "image/png": "[encoded data removed]",
      "text/plain": [
       "<Figure size 432x288 with 1 Axes>"
      ]
     },
     "metadata": {
      "needs_background": "light"
     },
     "output_type": "display_data"
    },
    {
     "data": {
      "image/png": "[encoded data removed]",
      "text/plain": [
       "<Figure size 432x288 with 1 Axes>"
      ]
     },
     "metadata": {
      "needs_background": "light"
     },
     "output_type": "display_data"
    },
    {
     "data": {
      "image/png": "[encoded data removed]",
      "text/plain": [
       "<Figure size 432x288 with 1 Axes>"
      ]
     },
     "metadata": {
      "needs_background": "light"
     },
     "output_type": "display_data"
    },
    {
     "data": {
      "image/png": "[encoded data removed]",
      "text/plain": [
       "<Figure size 432x288 with 1 Axes>"
      ]
     },
     "metadata": {
      "needs_background": "light"
     },
     "output_type": "display_data"
    },
    {
     "data": {
      "image/png": "[encoded data removed]",
      "text/plain": [
       "<Figure size 432x288 with 1 Axes>"
      ]
     },
     "metadata": {
      "needs_background": "light"
     },
     "output_type": "display_data"
    },
    {
     "data": {
      "image/png": "[encoded data removed]",
      "text/plain": [
       "<Figure size 432x288 with 1 Axes>"
      ]
     },
     "metadata": {
      "needs_background": "light"
     },
     "output_type": "display_data"
    },
    {
     "data": {
      "image/png": "[encoded data removed]",
      "text/plain": [
       "<Figure size 432x288 with 1 Axes>"
      ]
     },
     "metadata": {
      "needs_background": "light"
     },
     "output_type": "display_data"
    },
    {
     "data": {
      "image/png": "[encoded data removed]",
      "text/plain": [
       "<Figure size 432x288 with 1 Axes>"
      ]
     },
     "metadata": {
      "needs_background": "light"
     },
     "output_type": "display_data"
    }
   ],
   "source": [
    "#plot distributions of numeric columns\n",
    "for col in num_col:\n",
    "#     print(col)\n",
    "    plt.hist(df[col])\n",
    "    plt.title(col)\n",
    "    plt.show()"
   ]
  },
  {
   "cell_type": "code",
   "execution_count": 89,
   "id": "26bd9df2",
   "metadata": {},
   "outputs": [
    {
     "data": {
      "text/plain": [
       "Index(['sex', 'embarked', 'class', 'deck', 'embark_town'], dtype='object')"
      ]
     },
     "execution_count": 89,
     "metadata": {},
     "output_type": "execute_result"
    }
   ],
   "source": [
    "#get string columns\n",
    "str_col = df.columns [df.dtypes == 'object']\n",
    "str_col"
   ]
  },
  {
   "cell_type": "code",
   "execution_count": 92,
   "id": "247d71a2",
   "metadata": {},
   "outputs": [
    {
     "data": {
      "text/plain": [
       "C    59\n",
       "B    47\n",
       "D    33\n",
       "E    32\n",
       "A    15\n",
       "F    13\n",
       "G     4\n",
       "Name: deck, dtype: int64"
      ]
     },
     "execution_count": 92,
     "metadata": {},
     "output_type": "execute_result"
    }
   ],
   "source": [
    "df.deck.value_counts()"
   ]
  },
  {
   "cell_type": "code",
   "execution_count": 90,
   "id": "01acc3e6",
   "metadata": {},
   "outputs": [
    {
     "data": {
      "text/plain": [
       "NaN    688\n",
       "C       59\n",
       "B       47\n",
       "D       33\n",
       "E       32\n",
       "A       15\n",
       "F       13\n",
       "G        4\n",
       "Name: deck, dtype: int64"
      ]
     },
     "execution_count": 90,
     "metadata": {},
     "output_type": "execute_result"
    }
   ],
   "source": [
    "#see the null values\n",
    "df.deck.value_counts(dropna=False)"
   ]
  },
  {
   "cell_type": "code",
   "execution_count": 91,
   "id": "bb9fd1a1",
   "metadata": {
    "scrolled": false
   },
   "outputs": [
    {
     "name": "stdout",
     "output_type": "stream",
     "text": [
      "sex\n",
      "male      577\n",
      "female    314\n",
      "Name: sex, dtype: int64\n",
      "male      0.647587\n",
      "female    0.352413\n",
      "Name: sex, dtype: float64\n"
     ]
    },
    {
     "data": {
      "image/png": "[encoded data removed]",
      "text/plain": [
       "<Figure size 432x288 with 1 Axes>"
      ]
     },
     "metadata": {
      "needs_background": "light"
     },
     "output_type": "display_data"
    },
    {
     "name": "stdout",
     "output_type": "stream",
     "text": [
      "\n",
      "embarked\n",
      "S    644\n",
      "C    168\n",
      "Q     77\n",
      "Name: embarked, dtype: int64\n",
      "S    0.724409\n",
      "C    0.188976\n",
      "Q    0.086614\n",
      "Name: embarked, dtype: float64\n"
     ]
    },
    {
     "data": {
      "image/png": "[encoded data removed]",
      "text/plain": [
       "<Figure size 432x288 with 1 Axes>"
      ]
     },
     "metadata": {
      "needs_background": "light"
     },
     "output_type": "display_data"
    },
    {
     "name": "stdout",
     "output_type": "stream",
     "text": [
      "\n",
      "class\n",
      "Third     491\n",
      "First     216\n",
      "Second    184\n",
      "Name: class, dtype: int64\n",
      "Third     0.551066\n",
      "First     0.242424\n",
      "Second    0.206510\n",
      "Name: class, dtype: float64\n"
     ]
    },
    {
     "data": {
      "image/png": "[encoded data removed]",
      "text/plain": [
       "<Figure size 432x288 with 1 Axes>"
      ]
     },
     "metadata": {
      "needs_background": "light"
     },
     "output_type": "display_data"
    },
    {
     "name": "stdout",
     "output_type": "stream",
     "text": [
      "\n",
      "deck\n",
      "C    59\n",
      "B    47\n",
      "D    33\n",
      "E    32\n",
      "A    15\n",
      "F    13\n",
      "G     4\n",
      "Name: deck, dtype: int64\n",
      "C    0.290640\n",
      "B    0.231527\n",
      "D    0.162562\n",
      "E    0.157635\n",
      "A    0.073892\n",
      "F    0.064039\n",
      "G    0.019704\n",
      "Name: deck, dtype: float64\n"
     ]
    },
    {
     "data": {
      "image/png": "[encoded data removed]",
      "text/plain": [
       "<Figure size 432x288 with 1 Axes>"
      ]
     },
     "metadata": {
      "needs_background": "light"
     },
     "output_type": "display_data"
    },
    {
     "name": "stdout",
     "output_type": "stream",
     "text": [
      "\n",
      "embark_town\n",
      "Southampton    644\n",
      "Cherbourg      168\n",
      "Queenstown      77\n",
      "Name: embark_town, dtype: int64\n",
      "Southampton    0.724409\n",
      "Cherbourg      0.188976\n",
      "Queenstown     0.086614\n",
      "Name: embark_town, dtype: float64\n"
     ]
    },
    {
     "data": {
      "image/png": "[encoded data removed]",
      "text/plain": [
       "<Figure size 432x288 with 1 Axes>"
      ]
     },
     "metadata": {
      "needs_background": "light"
     },
     "output_type": "display_data"
    },
    {
     "name": "stdout",
     "output_type": "stream",
     "text": [
      "\n"
     ]
    }
   ],
   "source": [
    "#plot distributions of string columns\n",
    "for col in str_col:\n",
    "    print(col)\n",
    "    print(df[col].value_counts())\n",
    "    print(df[col].value_counts(normalize=True)) #percentage\n",
    "    df[col].value_counts(dropna=False).sort_index().plot.bar()\n",
    "    plt.show()\n",
    "    print()"
   ]
  },
  {
   "cell_type": "markdown",
   "id": "faa1baff",
   "metadata": {},
   "source": [
    "# STEP 2: Clean the data\n",
    "\n",
    "- take care of duplicates\n",
    "- verify datatypes\n",
    "- handle nulls\n",
    "- consider outliers\n",
    "- for modeling: make all columns numeric\n",
    "\n",
    "Note: there are other things to consider in the prepare phase that we will talk about in future methodologies"
   ]
  },
  {
   "cell_type": "markdown",
   "id": "cbfa47e8",
   "metadata": {},
   "source": [
    "### Duplicate Data"
   ]
  },
  {
   "cell_type": "code",
   "execution_count": 45,
   "id": "479a4ece",
   "metadata": {},
   "outputs": [
    {
     "data": {
      "text/html": [
       "<div>\n",
       "<style scoped>\n",
       "    .dataframe tbody tr th:only-of-type {\n",
       "        vertical-align: middle;\n",
       "    }\n",
       "\n",
       "    .dataframe tbody tr th {\n",
       "        vertical-align: top;\n",
       "    }\n",
       "\n",
       "    .dataframe thead th {\n",
       "        text-align: right;\n",
       "    }\n",
       "</style>\n",
       "<table border=\"1\" class=\"dataframe\">\n",
       "  <thead>\n",
       "    <tr style=\"text-align: right;\">\n",
       "      <th></th>\n",
       "      <th>passenger_id</th>\n",
       "      <th>survived</th>\n",
       "      <th>pclass</th>\n",
       "      <th>sex</th>\n",
       "      <th>age</th>\n",
       "      <th>sibsp</th>\n",
       "      <th>parch</th>\n",
       "      <th>fare</th>\n",
       "      <th>embarked</th>\n",
       "      <th>class</th>\n",
       "      <th>deck</th>\n",
       "      <th>embark_town</th>\n",
       "      <th>alone</th>\n",
       "    </tr>\n",
       "  </thead>\n",
       "  <tbody>\n",
       "    <tr>\n",
       "      <th>0</th>\n",
       "      <td>0</td>\n",
       "      <td>0</td>\n",
       "      <td>3</td>\n",
       "      <td>male</td>\n",
       "      <td>22.0</td>\n",
       "      <td>1</td>\n",
       "      <td>0</td>\n",
       "      <td>7.2500</td>\n",
       "      <td>S</td>\n",
       "      <td>Third</td>\n",
       "      <td>NaN</td>\n",
       "      <td>Southampton</td>\n",
       "      <td>0</td>\n",
       "    </tr>\n",
       "    <tr>\n",
       "      <th>1</th>\n",
       "      <td>1</td>\n",
       "      <td>1</td>\n",
       "      <td>1</td>\n",
       "      <td>female</td>\n",
       "      <td>38.0</td>\n",
       "      <td>1</td>\n",
       "      <td>0</td>\n",
       "      <td>71.2833</td>\n",
       "      <td>C</td>\n",
       "      <td>First</td>\n",
       "      <td>C</td>\n",
       "      <td>Cherbourg</td>\n",
       "      <td>0</td>\n",
       "    </tr>\n",
       "    <tr>\n",
       "      <th>2</th>\n",
       "      <td>2</td>\n",
       "      <td>1</td>\n",
       "      <td>3</td>\n",
       "      <td>female</td>\n",
       "      <td>26.0</td>\n",
       "      <td>0</td>\n",
       "      <td>0</td>\n",
       "      <td>7.9250</td>\n",
       "      <td>S</td>\n",
       "      <td>Third</td>\n",
       "      <td>NaN</td>\n",
       "      <td>Southampton</td>\n",
       "      <td>1</td>\n",
       "    </tr>\n",
       "    <tr>\n",
       "      <th>3</th>\n",
       "      <td>3</td>\n",
       "      <td>1</td>\n",
       "      <td>1</td>\n",
       "      <td>female</td>\n",
       "      <td>35.0</td>\n",
       "      <td>1</td>\n",
       "      <td>0</td>\n",
       "      <td>53.1000</td>\n",
       "      <td>S</td>\n",
       "      <td>First</td>\n",
       "      <td>C</td>\n",
       "      <td>Southampton</td>\n",
       "      <td>0</td>\n",
       "    </tr>\n",
       "    <tr>\n",
       "      <th>4</th>\n",
       "      <td>4</td>\n",
       "      <td>0</td>\n",
       "      <td>3</td>\n",
       "      <td>male</td>\n",
       "      <td>35.0</td>\n",
       "      <td>0</td>\n",
       "      <td>0</td>\n",
       "      <td>8.0500</td>\n",
       "      <td>S</td>\n",
       "      <td>Third</td>\n",
       "      <td>NaN</td>\n",
       "      <td>Southampton</td>\n",
       "      <td>1</td>\n",
       "    </tr>\n",
       "  </tbody>\n",
       "</table>\n",
       "</div>"
      ],
      "text/plain": [
       "   passenger_id  survived  pclass     sex   age  sibsp  parch     fare  \\\n",
       "0             0         0       3    male  22.0      1      0   7.2500   \n",
       "1             1         1       1  female  38.0      1      0  71.2833   \n",
       "2             2         1       3  female  26.0      0      0   7.9250   \n",
       "3             3         1       1  female  35.0      1      0  53.1000   \n",
       "4             4         0       3    male  35.0      0      0   8.0500   \n",
       "\n",
       "  embarked  class deck  embark_town  alone  \n",
       "0        S  Third  NaN  Southampton      0  \n",
       "1        C  First    C    Cherbourg      0  \n",
       "2        S  Third  NaN  Southampton      1  \n",
       "3        S  First    C  Southampton      0  \n",
       "4        S  Third  NaN  Southampton      1  "
      ]
     },
     "execution_count": 45,
     "metadata": {},
     "output_type": "execute_result"
    }
   ],
   "source": [
    "#look at data\n",
    "df.head()"
   ]
  },
  {
   "cell_type": "markdown",
   "id": "ae8f053e",
   "metadata": {},
   "source": [
    "#### are there any duplicates in passenger_id?"
   ]
  },
  {
   "cell_type": "code",
   "execution_count": 51,
   "id": "99c77ea0",
   "metadata": {},
   "outputs": [
    {
     "data": {
      "text/plain": [
       "0      False\n",
       "1      False\n",
       "2      False\n",
       "3      False\n",
       "4      False\n",
       "       ...  \n",
       "886    False\n",
       "887    False\n",
       "888    False\n",
       "889    False\n",
       "890    False\n",
       "Name: passenger_id, Length: 891, dtype: bool"
      ]
     },
     "execution_count": 51,
     "metadata": {},
     "output_type": "execute_result"
    }
   ],
   "source": [
    "df.passenger_id.duplicated()"
   ]
  },
  {
   "cell_type": "code",
   "execution_count": 52,
   "id": "ab278f6e",
   "metadata": {},
   "outputs": [
    {
     "data": {
      "text/plain": [
       "0"
      ]
     },
     "execution_count": 52,
     "metadata": {},
     "output_type": "execute_result"
    }
   ],
   "source": [
    "df.passenger_id.duplicated().sum()"
   ]
  },
  {
   "cell_type": "code",
   "execution_count": 53,
   "id": "9cbd130d",
   "metadata": {},
   "outputs": [
    {
     "data": {
      "text/html": [
       "<div>\n",
       "<style scoped>\n",
       "    .dataframe tbody tr th:only-of-type {\n",
       "        vertical-align: middle;\n",
       "    }\n",
       "\n",
       "    .dataframe tbody tr th {\n",
       "        vertical-align: top;\n",
       "    }\n",
       "\n",
       "    .dataframe thead th {\n",
       "        text-align: right;\n",
       "    }\n",
       "</style>\n",
       "<table border=\"1\" class=\"dataframe\">\n",
       "  <thead>\n",
       "    <tr style=\"text-align: right;\">\n",
       "      <th></th>\n",
       "      <th>passenger_id</th>\n",
       "      <th>survived</th>\n",
       "      <th>pclass</th>\n",
       "      <th>sex</th>\n",
       "      <th>age</th>\n",
       "      <th>sibsp</th>\n",
       "      <th>parch</th>\n",
       "      <th>fare</th>\n",
       "      <th>embarked</th>\n",
       "      <th>class</th>\n",
       "      <th>deck</th>\n",
       "      <th>embark_town</th>\n",
       "      <th>alone</th>\n",
       "    </tr>\n",
       "  </thead>\n",
       "  <tbody>\n",
       "  </tbody>\n",
       "</table>\n",
       "</div>"
      ],
      "text/plain": [
       "Empty DataFrame\n",
       "Columns: [passenger_id, survived, pclass, sex, age, sibsp, parch, fare, embarked, class, deck, embark_town, alone]\n",
       "Index: []"
      ]
     },
     "execution_count": 53,
     "metadata": {},
     "output_type": "execute_result"
    }
   ],
   "source": [
    "df [df.passenger_id.duplicated()]"
   ]
  },
  {
   "cell_type": "markdown",
   "id": "28c56304",
   "metadata": {},
   "source": [
    "#### embarked and embark_town columns"
   ]
  },
  {
   "cell_type": "code",
   "execution_count": 55,
   "id": "930bdc4b",
   "metadata": {},
   "outputs": [
    {
     "data": {
      "text/plain": [
       "S    644\n",
       "C    168\n",
       "Q     77\n",
       "Name: embarked, dtype: int64"
      ]
     },
     "execution_count": 55,
     "metadata": {},
     "output_type": "execute_result"
    }
   ],
   "source": [
    "df.embarked.value_counts()"
   ]
  },
  {
   "cell_type": "code",
   "execution_count": 56,
   "id": "2ca7729a",
   "metadata": {},
   "outputs": [
    {
     "data": {
      "text/plain": [
       "Southampton    644\n",
       "Cherbourg      168\n",
       "Queenstown      77\n",
       "Name: embark_town, dtype: int64"
      ]
     },
     "execution_count": 56,
     "metadata": {},
     "output_type": "execute_result"
    }
   ],
   "source": [
    "df.embark_town.value_counts()"
   ]
  },
  {
   "cell_type": "code",
   "execution_count": 57,
   "id": "34be30af",
   "metadata": {},
   "outputs": [
    {
     "data": {
      "text/html": [
       "<div>\n",
       "<style scoped>\n",
       "    .dataframe tbody tr th:only-of-type {\n",
       "        vertical-align: middle;\n",
       "    }\n",
       "\n",
       "    .dataframe tbody tr th {\n",
       "        vertical-align: top;\n",
       "    }\n",
       "\n",
       "    .dataframe thead th {\n",
       "        text-align: right;\n",
       "    }\n",
       "</style>\n",
       "<table border=\"1\" class=\"dataframe\">\n",
       "  <thead>\n",
       "    <tr style=\"text-align: right;\">\n",
       "      <th>embarked</th>\n",
       "      <th>C</th>\n",
       "      <th>Q</th>\n",
       "      <th>S</th>\n",
       "    </tr>\n",
       "    <tr>\n",
       "      <th>embark_town</th>\n",
       "      <th></th>\n",
       "      <th></th>\n",
       "      <th></th>\n",
       "    </tr>\n",
       "  </thead>\n",
       "  <tbody>\n",
       "    <tr>\n",
       "      <th>Cherbourg</th>\n",
       "      <td>168</td>\n",
       "      <td>0</td>\n",
       "      <td>0</td>\n",
       "    </tr>\n",
       "    <tr>\n",
       "      <th>Queenstown</th>\n",
       "      <td>0</td>\n",
       "      <td>77</td>\n",
       "      <td>0</td>\n",
       "    </tr>\n",
       "    <tr>\n",
       "      <th>Southampton</th>\n",
       "      <td>0</td>\n",
       "      <td>0</td>\n",
       "      <td>644</td>\n",
       "    </tr>\n",
       "  </tbody>\n",
       "</table>\n",
       "</div>"
      ],
      "text/plain": [
       "embarked       C   Q    S\n",
       "embark_town              \n",
       "Cherbourg    168   0    0\n",
       "Queenstown     0  77    0\n",
       "Southampton    0   0  644"
      ]
     },
     "execution_count": 57,
     "metadata": {},
     "output_type": "execute_result"
    }
   ],
   "source": [
    "#view counts across both\n",
    "pd.crosstab(df.embark_town, df.embarked)"
   ]
  },
  {
   "cell_type": "code",
   "execution_count": 61,
   "id": "090f8aa7",
   "metadata": {},
   "outputs": [],
   "source": [
    "#drop unnecessary column\n",
    "df = df.drop(columns='embark_town')"
   ]
  },
  {
   "cell_type": "code",
   "execution_count": 62,
   "id": "caf95056",
   "metadata": {},
   "outputs": [
    {
     "data": {
      "text/html": [
       "<div>\n",
       "<style scoped>\n",
       "    .dataframe tbody tr th:only-of-type {\n",
       "        vertical-align: middle;\n",
       "    }\n",
       "\n",
       "    .dataframe tbody tr th {\n",
       "        vertical-align: top;\n",
       "    }\n",
       "\n",
       "    .dataframe thead th {\n",
       "        text-align: right;\n",
       "    }\n",
       "</style>\n",
       "<table border=\"1\" class=\"dataframe\">\n",
       "  <thead>\n",
       "    <tr style=\"text-align: right;\">\n",
       "      <th></th>\n",
       "      <th>passenger_id</th>\n",
       "      <th>survived</th>\n",
       "      <th>pclass</th>\n",
       "      <th>sex</th>\n",
       "      <th>age</th>\n",
       "      <th>sibsp</th>\n",
       "      <th>parch</th>\n",
       "      <th>fare</th>\n",
       "      <th>embarked</th>\n",
       "      <th>class</th>\n",
       "      <th>deck</th>\n",
       "      <th>alone</th>\n",
       "    </tr>\n",
       "  </thead>\n",
       "  <tbody>\n",
       "    <tr>\n",
       "      <th>0</th>\n",
       "      <td>0</td>\n",
       "      <td>0</td>\n",
       "      <td>3</td>\n",
       "      <td>male</td>\n",
       "      <td>22.0</td>\n",
       "      <td>1</td>\n",
       "      <td>0</td>\n",
       "      <td>7.2500</td>\n",
       "      <td>S</td>\n",
       "      <td>Third</td>\n",
       "      <td>NaN</td>\n",
       "      <td>0</td>\n",
       "    </tr>\n",
       "    <tr>\n",
       "      <th>1</th>\n",
       "      <td>1</td>\n",
       "      <td>1</td>\n",
       "      <td>1</td>\n",
       "      <td>female</td>\n",
       "      <td>38.0</td>\n",
       "      <td>1</td>\n",
       "      <td>0</td>\n",
       "      <td>71.2833</td>\n",
       "      <td>C</td>\n",
       "      <td>First</td>\n",
       "      <td>C</td>\n",
       "      <td>0</td>\n",
       "    </tr>\n",
       "    <tr>\n",
       "      <th>2</th>\n",
       "      <td>2</td>\n",
       "      <td>1</td>\n",
       "      <td>3</td>\n",
       "      <td>female</td>\n",
       "      <td>26.0</td>\n",
       "      <td>0</td>\n",
       "      <td>0</td>\n",
       "      <td>7.9250</td>\n",
       "      <td>S</td>\n",
       "      <td>Third</td>\n",
       "      <td>NaN</td>\n",
       "      <td>1</td>\n",
       "    </tr>\n",
       "    <tr>\n",
       "      <th>3</th>\n",
       "      <td>3</td>\n",
       "      <td>1</td>\n",
       "      <td>1</td>\n",
       "      <td>female</td>\n",
       "      <td>35.0</td>\n",
       "      <td>1</td>\n",
       "      <td>0</td>\n",
       "      <td>53.1000</td>\n",
       "      <td>S</td>\n",
       "      <td>First</td>\n",
       "      <td>C</td>\n",
       "      <td>0</td>\n",
       "    </tr>\n",
       "    <tr>\n",
       "      <th>4</th>\n",
       "      <td>4</td>\n",
       "      <td>0</td>\n",
       "      <td>3</td>\n",
       "      <td>male</td>\n",
       "      <td>35.0</td>\n",
       "      <td>0</td>\n",
       "      <td>0</td>\n",
       "      <td>8.0500</td>\n",
       "      <td>S</td>\n",
       "      <td>Third</td>\n",
       "      <td>NaN</td>\n",
       "      <td>1</td>\n",
       "    </tr>\n",
       "  </tbody>\n",
       "</table>\n",
       "</div>"
      ],
      "text/plain": [
       "   passenger_id  survived  pclass     sex   age  sibsp  parch     fare  \\\n",
       "0             0         0       3    male  22.0      1      0   7.2500   \n",
       "1             1         1       1  female  38.0      1      0  71.2833   \n",
       "2             2         1       3  female  26.0      0      0   7.9250   \n",
       "3             3         1       1  female  35.0      1      0  53.1000   \n",
       "4             4         0       3    male  35.0      0      0   8.0500   \n",
       "\n",
       "  embarked  class deck  alone  \n",
       "0        S  Third  NaN      0  \n",
       "1        C  First    C      0  \n",
       "2        S  Third  NaN      1  \n",
       "3        S  First    C      0  \n",
       "4        S  Third  NaN      1  "
      ]
     },
     "execution_count": 62,
     "metadata": {},
     "output_type": "execute_result"
    }
   ],
   "source": [
    "#verify\n",
    "df.head()"
   ]
  },
  {
   "cell_type": "markdown",
   "id": "f12f7392",
   "metadata": {},
   "source": [
    "#### pclass and class columns"
   ]
  },
  {
   "cell_type": "code",
   "execution_count": 64,
   "id": "929fc8e5",
   "metadata": {},
   "outputs": [
    {
     "data": {
      "text/html": [
       "<div>\n",
       "<style scoped>\n",
       "    .dataframe tbody tr th:only-of-type {\n",
       "        vertical-align: middle;\n",
       "    }\n",
       "\n",
       "    .dataframe tbody tr th {\n",
       "        vertical-align: top;\n",
       "    }\n",
       "\n",
       "    .dataframe thead th {\n",
       "        text-align: right;\n",
       "    }\n",
       "</style>\n",
       "<table border=\"1\" class=\"dataframe\">\n",
       "  <thead>\n",
       "    <tr style=\"text-align: right;\">\n",
       "      <th>class</th>\n",
       "      <th>First</th>\n",
       "      <th>Second</th>\n",
       "      <th>Third</th>\n",
       "    </tr>\n",
       "    <tr>\n",
       "      <th>pclass</th>\n",
       "      <th></th>\n",
       "      <th></th>\n",
       "      <th></th>\n",
       "    </tr>\n",
       "  </thead>\n",
       "  <tbody>\n",
       "    <tr>\n",
       "      <th>1</th>\n",
       "      <td>216</td>\n",
       "      <td>0</td>\n",
       "      <td>0</td>\n",
       "    </tr>\n",
       "    <tr>\n",
       "      <th>2</th>\n",
       "      <td>0</td>\n",
       "      <td>184</td>\n",
       "      <td>0</td>\n",
       "    </tr>\n",
       "    <tr>\n",
       "      <th>3</th>\n",
       "      <td>0</td>\n",
       "      <td>0</td>\n",
       "      <td>491</td>\n",
       "    </tr>\n",
       "  </tbody>\n",
       "</table>\n",
       "</div>"
      ],
      "text/plain": [
       "class   First  Second  Third\n",
       "pclass                      \n",
       "1         216       0      0\n",
       "2           0     184      0\n",
       "3           0       0    491"
      ]
     },
     "execution_count": 64,
     "metadata": {},
     "output_type": "execute_result"
    }
   ],
   "source": [
    "#view counts across both\n",
    "pd.crosstab(df.pclass, df['class'])"
   ]
  },
  {
   "cell_type": "markdown",
   "id": "6b530af3",
   "metadata": {},
   "source": [
    "**Note:** The machine learning models can only accept numeric values. Therefore, we will remove the class column instead the pclass column."
   ]
  },
  {
   "cell_type": "code",
   "execution_count": 66,
   "id": "1efb1296",
   "metadata": {},
   "outputs": [],
   "source": [
    "#drop unnecessary column\n",
    "df = df.drop(columns='class')"
   ]
  },
  {
   "cell_type": "code",
   "execution_count": 70,
   "id": "06c762eb",
   "metadata": {},
   "outputs": [
    {
     "data": {
      "text/html": [
       "<div>\n",
       "<style scoped>\n",
       "    .dataframe tbody tr th:only-of-type {\n",
       "        vertical-align: middle;\n",
       "    }\n",
       "\n",
       "    .dataframe tbody tr th {\n",
       "        vertical-align: top;\n",
       "    }\n",
       "\n",
       "    .dataframe thead th {\n",
       "        text-align: right;\n",
       "    }\n",
       "</style>\n",
       "<table border=\"1\" class=\"dataframe\">\n",
       "  <thead>\n",
       "    <tr style=\"text-align: right;\">\n",
       "      <th>alone</th>\n",
       "      <th>0</th>\n",
       "      <th>1</th>\n",
       "    </tr>\n",
       "    <tr>\n",
       "      <th>sibsp</th>\n",
       "      <th></th>\n",
       "      <th></th>\n",
       "    </tr>\n",
       "  </thead>\n",
       "  <tbody>\n",
       "    <tr>\n",
       "      <th>0</th>\n",
       "      <td>71</td>\n",
       "      <td>537</td>\n",
       "    </tr>\n",
       "    <tr>\n",
       "      <th>1</th>\n",
       "      <td>209</td>\n",
       "      <td>0</td>\n",
       "    </tr>\n",
       "    <tr>\n",
       "      <th>2</th>\n",
       "      <td>28</td>\n",
       "      <td>0</td>\n",
       "    </tr>\n",
       "    <tr>\n",
       "      <th>3</th>\n",
       "      <td>16</td>\n",
       "      <td>0</td>\n",
       "    </tr>\n",
       "    <tr>\n",
       "      <th>4</th>\n",
       "      <td>18</td>\n",
       "      <td>0</td>\n",
       "    </tr>\n",
       "    <tr>\n",
       "      <th>5</th>\n",
       "      <td>5</td>\n",
       "      <td>0</td>\n",
       "    </tr>\n",
       "    <tr>\n",
       "      <th>8</th>\n",
       "      <td>7</td>\n",
       "      <td>0</td>\n",
       "    </tr>\n",
       "  </tbody>\n",
       "</table>\n",
       "</div>"
      ],
      "text/plain": [
       "alone    0    1\n",
       "sibsp          \n",
       "0       71  537\n",
       "1      209    0\n",
       "2       28    0\n",
       "3       16    0\n",
       "4       18    0\n",
       "5        5    0\n",
       "8        7    0"
      ]
     },
     "execution_count": 70,
     "metadata": {},
     "output_type": "execute_result"
    }
   ],
   "source": [
    "pd.crosstab(df.sibsp, df.alone)"
   ]
  },
  {
   "cell_type": "markdown",
   "id": "0e26907d",
   "metadata": {},
   "source": [
    "### Verify Datatypes"
   ]
  },
  {
   "cell_type": "code",
   "execution_count": 68,
   "id": "a40ca420",
   "metadata": {},
   "outputs": [
    {
     "data": {
      "text/plain": [
       "passenger_id      int64\n",
       "survived          int64\n",
       "pclass            int64\n",
       "sex              object\n",
       "age             float64\n",
       "sibsp             int64\n",
       "parch             int64\n",
       "fare            float64\n",
       "embarked         object\n",
       "deck             object\n",
       "alone             int64\n",
       "dtype: object"
      ]
     },
     "execution_count": 68,
     "metadata": {},
     "output_type": "execute_result"
    }
   ],
   "source": [
    "df.dtypes"
   ]
  },
  {
   "cell_type": "code",
   "execution_count": 69,
   "id": "8ab60d82",
   "metadata": {},
   "outputs": [
    {
     "data": {
      "text/html": [
       "<div>\n",
       "<style scoped>\n",
       "    .dataframe tbody tr th:only-of-type {\n",
       "        vertical-align: middle;\n",
       "    }\n",
       "\n",
       "    .dataframe tbody tr th {\n",
       "        vertical-align: top;\n",
       "    }\n",
       "\n",
       "    .dataframe thead th {\n",
       "        text-align: right;\n",
       "    }\n",
       "</style>\n",
       "<table border=\"1\" class=\"dataframe\">\n",
       "  <thead>\n",
       "    <tr style=\"text-align: right;\">\n",
       "      <th></th>\n",
       "      <th>passenger_id</th>\n",
       "      <th>survived</th>\n",
       "      <th>pclass</th>\n",
       "      <th>sex</th>\n",
       "      <th>age</th>\n",
       "      <th>sibsp</th>\n",
       "      <th>parch</th>\n",
       "      <th>fare</th>\n",
       "      <th>embarked</th>\n",
       "      <th>deck</th>\n",
       "      <th>alone</th>\n",
       "    </tr>\n",
       "  </thead>\n",
       "  <tbody>\n",
       "    <tr>\n",
       "      <th>0</th>\n",
       "      <td>0</td>\n",
       "      <td>0</td>\n",
       "      <td>3</td>\n",
       "      <td>male</td>\n",
       "      <td>22.0</td>\n",
       "      <td>1</td>\n",
       "      <td>0</td>\n",
       "      <td>7.2500</td>\n",
       "      <td>S</td>\n",
       "      <td>NaN</td>\n",
       "      <td>0</td>\n",
       "    </tr>\n",
       "    <tr>\n",
       "      <th>1</th>\n",
       "      <td>1</td>\n",
       "      <td>1</td>\n",
       "      <td>1</td>\n",
       "      <td>female</td>\n",
       "      <td>38.0</td>\n",
       "      <td>1</td>\n",
       "      <td>0</td>\n",
       "      <td>71.2833</td>\n",
       "      <td>C</td>\n",
       "      <td>C</td>\n",
       "      <td>0</td>\n",
       "    </tr>\n",
       "    <tr>\n",
       "      <th>2</th>\n",
       "      <td>2</td>\n",
       "      <td>1</td>\n",
       "      <td>3</td>\n",
       "      <td>female</td>\n",
       "      <td>26.0</td>\n",
       "      <td>0</td>\n",
       "      <td>0</td>\n",
       "      <td>7.9250</td>\n",
       "      <td>S</td>\n",
       "      <td>NaN</td>\n",
       "      <td>1</td>\n",
       "    </tr>\n",
       "    <tr>\n",
       "      <th>3</th>\n",
       "      <td>3</td>\n",
       "      <td>1</td>\n",
       "      <td>1</td>\n",
       "      <td>female</td>\n",
       "      <td>35.0</td>\n",
       "      <td>1</td>\n",
       "      <td>0</td>\n",
       "      <td>53.1000</td>\n",
       "      <td>S</td>\n",
       "      <td>C</td>\n",
       "      <td>0</td>\n",
       "    </tr>\n",
       "    <tr>\n",
       "      <th>4</th>\n",
       "      <td>4</td>\n",
       "      <td>0</td>\n",
       "      <td>3</td>\n",
       "      <td>male</td>\n",
       "      <td>35.0</td>\n",
       "      <td>0</td>\n",
       "      <td>0</td>\n",
       "      <td>8.0500</td>\n",
       "      <td>S</td>\n",
       "      <td>NaN</td>\n",
       "      <td>1</td>\n",
       "    </tr>\n",
       "  </tbody>\n",
       "</table>\n",
       "</div>"
      ],
      "text/plain": [
       "   passenger_id  survived  pclass     sex   age  sibsp  parch     fare  \\\n",
       "0             0         0       3    male  22.0      1      0   7.2500   \n",
       "1             1         1       1  female  38.0      1      0  71.2833   \n",
       "2             2         1       3  female  26.0      0      0   7.9250   \n",
       "3             3         1       1  female  35.0      1      0  53.1000   \n",
       "4             4         0       3    male  35.0      0      0   8.0500   \n",
       "\n",
       "  embarked deck  alone  \n",
       "0        S  NaN      0  \n",
       "1        C    C      0  \n",
       "2        S  NaN      1  \n",
       "3        S    C      0  \n",
       "4        S  NaN      1  "
      ]
     },
     "execution_count": 69,
     "metadata": {},
     "output_type": "execute_result"
    }
   ],
   "source": [
    "df.head()"
   ]
  },
  {
   "cell_type": "markdown",
   "id": "36fd89ab",
   "metadata": {},
   "source": [
    "### Handle Nulls"
   ]
  },
  {
   "cell_type": "markdown",
   "id": "3ec468b3",
   "metadata": {},
   "source": [
    "some options\n",
    "- delete all nulls rows\n",
    "- delete that column\n",
    "- fill with a median value (numeric columns) \n",
    "- fill with the mode (string columns)\n",
    "- fill with with 0\n",
    "\n",
    "Note: not all these answers will make sense for your column!!"
   ]
  },
  {
   "cell_type": "code",
   "execution_count": null,
   "id": "9baa217f",
   "metadata": {},
   "outputs": [],
   "source": [
    "#find were null values are\n"
   ]
  },
  {
   "cell_type": "code",
   "execution_count": null,
   "id": "9cf6ddb6",
   "metadata": {},
   "outputs": [],
   "source": [
    "#isolate nulls values\n"
   ]
  },
  {
   "cell_type": "markdown",
   "id": "2b31e3b2",
   "metadata": {},
   "source": [
    "#### age"
   ]
  },
  {
   "cell_type": "code",
   "execution_count": null,
   "id": "c2b03d08",
   "metadata": {},
   "outputs": [],
   "source": [
    "#check counts\n"
   ]
  },
  {
   "cell_type": "code",
   "execution_count": null,
   "id": "b75bd589",
   "metadata": {},
   "outputs": [],
   "source": [
    "#check percentage\n"
   ]
  },
  {
   "cell_type": "code",
   "execution_count": null,
   "id": "272b73b4",
   "metadata": {},
   "outputs": [],
   "source": [
    "#plot it\n"
   ]
  },
  {
   "cell_type": "markdown",
   "id": "de1ba796",
   "metadata": {},
   "source": [
    "- there doesnt seem like an appropriate value to replace\n",
    "- we will delete the entire column, for now\n",
    "- with more time, i might come back and see if there is a way to keep the age column "
   ]
  },
  {
   "cell_type": "code",
   "execution_count": null,
   "id": "a4edbf4a",
   "metadata": {},
   "outputs": [],
   "source": [
    "#drop\n"
   ]
  },
  {
   "cell_type": "code",
   "execution_count": null,
   "id": "66f83e69",
   "metadata": {},
   "outputs": [],
   "source": [
    "#verify \n"
   ]
  },
  {
   "cell_type": "markdown",
   "id": "e8e76ce1",
   "metadata": {},
   "source": [
    "#### deck"
   ]
  },
  {
   "cell_type": "code",
   "execution_count": null,
   "id": "bea261d9",
   "metadata": {},
   "outputs": [],
   "source": []
  },
  {
   "cell_type": "code",
   "execution_count": null,
   "id": "cf5b3b72",
   "metadata": {},
   "outputs": [],
   "source": []
  },
  {
   "cell_type": "markdown",
   "id": "81652ca6",
   "metadata": {},
   "source": [
    "- there are way too much null values\n",
    "- will definitely delete this column"
   ]
  },
  {
   "cell_type": "code",
   "execution_count": null,
   "id": "6a50c549",
   "metadata": {},
   "outputs": [],
   "source": []
  },
  {
   "cell_type": "code",
   "execution_count": null,
   "id": "58386f62",
   "metadata": {},
   "outputs": [],
   "source": []
  },
  {
   "cell_type": "markdown",
   "id": "eb7863f3",
   "metadata": {},
   "source": [
    "#### embark_town"
   ]
  },
  {
   "cell_type": "code",
   "execution_count": null,
   "id": "269ffdc8",
   "metadata": {},
   "outputs": [],
   "source": [
    "#look at embark_town value counts with nulls\n"
   ]
  },
  {
   "cell_type": "code",
   "execution_count": null,
   "id": "2f37cb39",
   "metadata": {},
   "outputs": [],
   "source": []
  },
  {
   "cell_type": "markdown",
   "id": "ab11e1cb",
   "metadata": {},
   "source": [
    "We could fill `embark_town` with most common value, 'Southampton', by hard-coding the value using the `fillna()` function"
   ]
  },
  {
   "cell_type": "code",
   "execution_count": null,
   "id": "ef70c256",
   "metadata": {},
   "outputs": [],
   "source": [
    "#fill it!\n"
   ]
  },
  {
   "cell_type": "code",
   "execution_count": null,
   "id": "ac07ec56",
   "metadata": {},
   "outputs": [],
   "source": [
    "#verify\n"
   ]
  },
  {
   "cell_type": "markdown",
   "id": "3e092e24",
   "metadata": {},
   "source": [
    "### Outliers"
   ]
  },
  {
   "cell_type": "markdown",
   "id": "b3ac7b80",
   "metadata": {},
   "source": [
    "options\n",
    "- keep \n",
    "- remove\n",
    "- stretch/compress"
   ]
  },
  {
   "cell_type": "code",
   "execution_count": null,
   "id": "8e9fdd6a",
   "metadata": {},
   "outputs": [],
   "source": []
  },
  {
   "cell_type": "code",
   "execution_count": null,
   "id": "20ae46ea",
   "metadata": {},
   "outputs": [],
   "source": []
  },
  {
   "cell_type": "markdown",
   "id": "4f7126a4",
   "metadata": {},
   "source": [
    "There are a few outliers potentially in sibsp, parch, but without specific domain knowledge related to the titanic, I am not going to remove those outliers or snap them/compress them, I will ignore them for now."
   ]
  },
  {
   "cell_type": "markdown",
   "id": "eff29cc8",
   "metadata": {},
   "source": [
    "### For Modeling: Make all columns numeric (encode)\n",
    "- machine learning models only work with numeric values"
   ]
  },
  {
   "cell_type": "markdown",
   "id": "fdc10582",
   "metadata": {},
   "source": [
    "#### Therefore, we have to Encode!\n",
    "\n",
    "- Encoding -- turning a string into a number\n",
    "\n",
    "\n",
    "Two strategies:\n",
    "- label encoding -- associate each unique value with a number\n",
    "    - use the label encoder when the categories have an inherit order\n",
    "- one-hot encoding (get_dummies) -- turn each unique value into a separate column with either 1 or 0\n",
    "    - use one-hot encoding when there is no order "
   ]
  },
  {
   "cell_type": "markdown",
   "id": "2b1bdcbe",
   "metadata": {},
   "source": [
    "*Note: Curse of dimensionality*\n",
    "- An increase in the dimensions can, in theory, add more information to the data thereby improving the quality of data but practically increases the noise and redundancy during its analysis\n",
    "- An increase in dimensionality it implies an increase in the number of features\n",
    "\n",
    "also known as Hughes phenomenon: https://miro.medium.com/v2/resize:fit:1400/format:webp/1*pcJdd2y924Xk61SXa7uYpw.jpeg"
   ]
  },
  {
   "cell_type": "markdown",
   "id": "07629c65",
   "metadata": {},
   "source": [
    "#### one-hot encoding\n",
    "- `pd.get_dummies`\n",
    "- get dummy vars for both sex and embark_town columns"
   ]
  },
  {
   "cell_type": "code",
   "execution_count": null,
   "id": "59b98048",
   "metadata": {},
   "outputs": [],
   "source": []
  },
  {
   "cell_type": "code",
   "execution_count": null,
   "id": "fbea5f3c",
   "metadata": {},
   "outputs": [],
   "source": [
    "#look at sex data\n"
   ]
  },
  {
   "cell_type": "code",
   "execution_count": null,
   "id": "63689a5a",
   "metadata": {},
   "outputs": [],
   "source": [
    "#use get_dummies on sex data\n"
   ]
  },
  {
   "cell_type": "code",
   "execution_count": null,
   "id": "b97359cc",
   "metadata": {},
   "outputs": [],
   "source": [
    "#drop first column\n"
   ]
  },
  {
   "cell_type": "code",
   "execution_count": null,
   "id": "4a121bcc",
   "metadata": {},
   "outputs": [],
   "source": [
    "# create dummy variables for 'sex' and 'embark_town'\n"
   ]
  },
  {
   "cell_type": "code",
   "execution_count": null,
   "id": "2efe9013",
   "metadata": {},
   "outputs": [],
   "source": [
    "# concatenate the dummy_df dataframe above with the original df and validate.\n"
   ]
  },
  {
   "cell_type": "markdown",
   "id": "bef09a5b",
   "metadata": {},
   "source": [
    "> i will keep my string values in my dataframe for now. as i will need them for exploration. "
   ]
  },
  {
   "cell_type": "markdown",
   "id": "433a0274",
   "metadata": {},
   "source": [
    "### Now that everything is clean, lets make a function!"
   ]
  },
  {
   "cell_type": "code",
   "execution_count": null,
   "id": "8620f39a",
   "metadata": {},
   "outputs": [],
   "source": [
    "# def clean_titanic(df):\n",
    "#     '''\n",
    "#     This function will clean the the titanic dataset\n",
    "#     '''\n",
    "#     df = df.drop(columns =['embarked','class','age','deck'])\n",
    "\n",
    "#     df.embark_town = df.embark_town.fillna(value='Southampton')\n",
    "\n",
    "#     dummy_df = pd.get_dummies(df[['sex','embark_town']], drop_first=True)\n",
    "#     df = pd.concat([df, dummy_df], axis=1)\n",
    "#     return df"
   ]
  },
  {
   "cell_type": "markdown",
   "id": "fc8d047a",
   "metadata": {},
   "source": [
    "Testing that the function does what we intend for it to do:"
   ]
  },
  {
   "cell_type": "code",
   "execution_count": null,
   "id": "7c8edbbb",
   "metadata": {},
   "outputs": [],
   "source": [
    "#acquire fresh copy of titanic function\n"
   ]
  },
  {
   "cell_type": "code",
   "execution_count": null,
   "id": "41f24869",
   "metadata": {},
   "outputs": [],
   "source": []
  },
  {
   "cell_type": "code",
   "execution_count": null,
   "id": "cac1041e",
   "metadata": {},
   "outputs": [],
   "source": [
    "#use clean function\n"
   ]
  },
  {
   "cell_type": "markdown",
   "id": "24731762",
   "metadata": {},
   "source": [
    "# Step 3: Splitting"
   ]
  },
  {
   "cell_type": "markdown",
   "id": "6ddec527",
   "metadata": {},
   "source": [
    "- Start with single dataframe\n",
    "- End with three dataframes: train, validate, test\n",
    "    - **train:** data to explore, clean, scale, and fit \n",
    "    - **validate, test:** represents unseen data\n",
    "        - **validate:** confirm our top models have not overfit\n",
    "        - **test:** test our top model -- ONLY USED ON 1 MODEL!"
   ]
  },
  {
   "cell_type": "markdown",
   "id": "0ba6b59e",
   "metadata": {},
   "source": [
    "To accomplish this\n",
    "- do two splits using sklean \n",
    "- train dataset should be the bulk of the dataframe ~60%\n",
    "- validate should be about ~20%\n",
    "- test should be about ~20%"
   ]
  },
  {
   "attachments": {
    "tt_split3.png": {
     "image/png": "[encoded data removed]"
    }
   },
   "cell_type": "markdown",
   "id": "c711eb86",
   "metadata": {},
   "source": [
    "![tt_split3.png](attachment:tt_split3.png)"
   ]
  },
  {
   "attachments": {
    "tt-split1.png": {
     "image/png": "[encoded data removed]"
    }
   },
   "cell_type": "markdown",
   "id": "5579547c",
   "metadata": {},
   "source": [
    "![tt-split1.png](attachment:tt-split1.png)"
   ]
  },
  {
   "cell_type": "markdown",
   "id": "2b669169",
   "metadata": {},
   "source": [
    "Our target variable contains A and B. Notice how many B values made it into the train dataset. \n",
    "\n",
    "Let's correct this by stratifing on our target variable."
   ]
  },
  {
   "attachments": {
    "tt_split2.png": {
     "image/png": "[encoded data removed]"
    }
   },
   "cell_type": "markdown",
   "id": "878bcc7b",
   "metadata": {},
   "source": [
    "![tt_split2.png](attachment:tt_split2.png)"
   ]
  },
  {
   "cell_type": "markdown",
   "id": "0a8d6405",
   "metadata": {},
   "source": [
    "Sklearn allows us to split our data easily:  \n",
    "https://scikit-learn.org/stable/modules/generated/sklearn.model_selection.train_test_split.html"
   ]
  },
  {
   "cell_type": "code",
   "execution_count": null,
   "id": "098bcfa2",
   "metadata": {},
   "outputs": [],
   "source": [
    "# import splitting functions\n"
   ]
  },
  {
   "cell_type": "code",
   "execution_count": null,
   "id": "72111348",
   "metadata": {},
   "outputs": [],
   "source": []
  },
  {
   "cell_type": "code",
   "execution_count": null,
   "id": "e1843647",
   "metadata": {},
   "outputs": [],
   "source": [
    "#first split\n"
   ]
  },
  {
   "cell_type": "code",
   "execution_count": null,
   "id": "f3093e87",
   "metadata": {},
   "outputs": [],
   "source": [
    "# Observe split\n",
    "print(f'Prepared df: {df.shape}')\n",
    "print()\n",
    "print(f'Train: {train.shape}')\n",
    "print(f'Test: {test.shape}')"
   ]
  },
  {
   "cell_type": "code",
   "execution_count": null,
   "id": "fdb21229",
   "metadata": {},
   "outputs": [],
   "source": []
  },
  {
   "cell_type": "code",
   "execution_count": null,
   "id": "ccba22c8",
   "metadata": {},
   "outputs": [],
   "source": []
  },
  {
   "cell_type": "markdown",
   "id": "6e026264",
   "metadata": {},
   "source": [
    "Note: this is our first split. there is only train and test. we still need our second split for validate. "
   ]
  },
  {
   "cell_type": "code",
   "execution_count": null,
   "id": "32666d8c",
   "metadata": {},
   "outputs": [],
   "source": []
  },
  {
   "cell_type": "code",
   "execution_count": null,
   "id": "032b9f17",
   "metadata": {},
   "outputs": [],
   "source": [
    "#second split\n"
   ]
  },
  {
   "cell_type": "code",
   "execution_count": null,
   "id": "aaffb6d1",
   "metadata": {},
   "outputs": [],
   "source": [
    "# Observe split\n",
    "print(f'Prepared df: {df.shape}')\n",
    "print()\n",
    "print(f'Train: {train.shape}')\n",
    "print(f'Validate: {validate.shape}')\n",
    "print(f'Test: {test.shape}')"
   ]
  },
  {
   "cell_type": "markdown",
   "id": "6aed777d",
   "metadata": {},
   "source": [
    "- Train is now 60% of our data\n",
    "- Validate is now 20% of our data\n",
    "- Test is now 20% of our data"
   ]
  },
  {
   "cell_type": "markdown",
   "id": "de7bdfbe",
   "metadata": {},
   "source": [
    "### Turn it into a function"
   ]
  },
  {
   "cell_type": "code",
   "execution_count": null,
   "id": "d3970298",
   "metadata": {},
   "outputs": [],
   "source": [
    "# def split_titanic(df):\n",
    "#     '''\n",
    "#     Takes in the titanic dataframe and return train, validate, test subset dataframes\n",
    "#     '''\n",
    "#     train, test = train_test_split(df,\n",
    "#                                    test_size=.2, \n",
    "#                                    random_state=123, \n",
    "#                                    stratify=df.survived)\n",
    "#     train, validate = train_test_split(train, \n",
    "#                                        test_size=.25, \n",
    "#                                        random_state=123, \n",
    "#                                        stratify=train.survived)\n",
    "#     return train, validate, test"
   ]
  },
  {
   "cell_type": "markdown",
   "id": "840630bb",
   "metadata": {},
   "source": [
    "Test our new function!"
   ]
  },
  {
   "cell_type": "code",
   "execution_count": null,
   "id": "fbbf3fb0",
   "metadata": {},
   "outputs": [],
   "source": []
  },
  {
   "cell_type": "code",
   "execution_count": null,
   "id": "d1caccbe",
   "metadata": {},
   "outputs": [],
   "source": []
  },
  {
   "cell_type": "code",
   "execution_count": null,
   "id": "4d3bdc11",
   "metadata": {},
   "outputs": [],
   "source": [
    "print(f'Train: {train.shape}')\n",
    "print(f'Validate: {validate.shape}')\n",
    "print(f'Test: {test.shape}')"
   ]
  },
  {
   "cell_type": "markdown",
   "id": "6d894dbe",
   "metadata": {},
   "source": [
    "### We can create a function made of both of our prepare functions!"
   ]
  },
  {
   "cell_type": "code",
   "execution_count": null,
   "id": "e70048bd",
   "metadata": {},
   "outputs": [],
   "source": [
    "# Another function? YES PLZ!\n",
    "# def prep_titanic_data(df):\n",
    "#     '''\n",
    "#     The ultimate dishwasher - clean data and split my titanic\n",
    "#     '''\n",
    "#     df = clean_titanic(df)\n",
    "#     train, validate, test = split_titanic(df)\n",
    "    \n",
    "#     return train, validate, test"
   ]
  },
  {
   "cell_type": "code",
   "execution_count": null,
   "id": "605f1012",
   "metadata": {},
   "outputs": [],
   "source": [
    "# Run final prepare function and validate what that the function is working properly.\n"
   ]
  },
  {
   "cell_type": "code",
   "execution_count": null,
   "id": "c3e5ae47",
   "metadata": {},
   "outputs": [],
   "source": [
    "print(f'Clean df: {df_fresh.shape}')\n",
    "print()\n",
    "print(f'Train: {train.shape}')\n",
    "print(f'Validate: {validate.shape}')\n",
    "print(f'Test: {test.shape}')"
   ]
  },
  {
   "cell_type": "code",
   "execution_count": null,
   "id": "6e93823a",
   "metadata": {},
   "outputs": [],
   "source": []
  },
  {
   "cell_type": "markdown",
   "id": "6fed5de9",
   "metadata": {},
   "source": [
    "All three functions that we created can be will be added to a .py file!\n",
    "- clean_titanic\n",
    "- split_titanic\n",
    "- prep_titanic\n",
    "\n",
    "We end our prepare phase with a prepare.py with all our functions"
   ]
  },
  {
   "cell_type": "markdown",
   "id": "3bc08dce",
   "metadata": {},
   "source": [
    "## Option for Missing Values: Impute\n",
    "\n",
    "\n",
    "Impute: Assign a value to something by inference\n",
    "\n",
    "\n",
    "Strategies for imputing:\n",
    "- fill with 0\n",
    "- fill with the average\n",
    "- fill with the median\n",
    "- fill with subgroup mean\n",
    "- fill with most frequent value\n",
    "- build a model to predict missing values\n",
    "\n",
    "\n",
    "\n",
    "We will use `sklearn.imputer.SimpleImputer` to do this.  \n",
    "\n",
    "0. Split data into train/validate/test\n",
    "1. Create the imputer object\n",
    "    - use determined strategy for impyting\n",
    "2. Fit to train \n",
    "    - used determined strategy to calculated imputed value\n",
    "    - updates imputer object\n",
    "3. Transform train/validate/test\n",
    "    - fill missing values with imputed value on our train, validate, and test df"
   ]
  },
  {
   "cell_type": "markdown",
   "id": "fab2aea7",
   "metadata": {},
   "source": [
    "### lets revisit our initial titanic dataset & fill in the nulls from embark_town"
   ]
  },
  {
   "cell_type": "code",
   "execution_count": null,
   "id": "9ab299f2",
   "metadata": {},
   "outputs": [],
   "source": [
    "#get fresh titanic data\n"
   ]
  },
  {
   "cell_type": "code",
   "execution_count": null,
   "id": "e1009a47",
   "metadata": {},
   "outputs": [],
   "source": [
    "#look at nulls of embark_town\n"
   ]
  },
  {
   "cell_type": "markdown",
   "id": "3006d114",
   "metadata": {},
   "source": [
    "#### Step 0. Split data into train/validate/test"
   ]
  },
  {
   "cell_type": "code",
   "execution_count": null,
   "id": "1f9c14ce",
   "metadata": {},
   "outputs": [],
   "source": [
    "#split the data\n"
   ]
  },
  {
   "cell_type": "code",
   "execution_count": null,
   "id": "a5760f84",
   "metadata": {},
   "outputs": [],
   "source": [
    "print('embark_town nulls\\n')\n",
    "print(f'train nulls: {train.embark_town.isnull().sum()}')\n",
    "print(f'validate nulls: {validate.embark_town.isnull().sum()}')\n",
    "print(f'test nulls: {test.embark_town.isnull().sum()}')"
   ]
  },
  {
   "cell_type": "markdown",
   "id": "96c08f06",
   "metadata": {},
   "source": [
    "#### Step 1. Create the imputer object"
   ]
  },
  {
   "cell_type": "markdown",
   "id": "789f66d4",
   "metadata": {},
   "source": [
    "Create the `SimpleImputer` object, which we will store in the variable `imputer`. In the creation of the object, we will specify the strategy to use (mean, median, most_frequent). Essentially, this is creating the instructions and assigning them to a variable, `imputer`."
   ]
  },
  {
   "cell_type": "code",
   "execution_count": null,
   "id": "573171c6",
   "metadata": {},
   "outputs": [],
   "source": [
    "# import imputing functions\n"
   ]
  },
  {
   "cell_type": "code",
   "execution_count": null,
   "id": "509d068c",
   "metadata": {},
   "outputs": [],
   "source": [
    "# SimpleImputer?"
   ]
  },
  {
   "cell_type": "code",
   "execution_count": null,
   "id": "aade07e4",
   "metadata": {},
   "outputs": [],
   "source": [
    "# Define the thing using (strategy = 'most_frequent')\n"
   ]
  },
  {
   "cell_type": "markdown",
   "id": "d925fa73",
   "metadata": {},
   "source": [
    "#### Step 2. Fit to train "
   ]
  },
  {
   "cell_type": "markdown",
   "id": "8ce18f58",
   "metadata": {},
   "source": [
    "This means that the imputer will determine the most_frequent value, or other value depending on the strategy called, for each column, in the training set only"
   ]
  },
  {
   "cell_type": "code",
   "execution_count": null,
   "id": "9f0d95e2",
   "metadata": {},
   "outputs": [],
   "source": [
    "# fit the thing using imputer.fit()\n"
   ]
  },
  {
   "cell_type": "markdown",
   "id": "3cff83c8",
   "metadata": {},
   "source": [
    "It will store that value in the imputer object. We can call different attributes to see what is stored in the importer. "
   ]
  },
  {
   "cell_type": "code",
   "execution_count": null,
   "id": "14179b77",
   "metadata": {},
   "outputs": [],
   "source": []
  },
  {
   "cell_type": "code",
   "execution_count": null,
   "id": "1053e26b",
   "metadata": {},
   "outputs": [],
   "source": []
  },
  {
   "cell_type": "markdown",
   "id": "c6cbd6b8",
   "metadata": {},
   "source": [
    "#### Step 3. Transform train/validate/test"
   ]
  },
  {
   "cell_type": "markdown",
   "id": "23ecd312",
   "metadata": {},
   "source": [
    "Use our imputer object to `transform`. We will call `transform` on our train, validate, and test datasets to fill any missing values."
   ]
  },
  {
   "cell_type": "code",
   "execution_count": null,
   "id": "5ad805ec",
   "metadata": {},
   "outputs": [],
   "source": [
    "# Use the thing using imputer.transform()\n"
   ]
  },
  {
   "cell_type": "code",
   "execution_count": null,
   "id": "90177a3d",
   "metadata": {},
   "outputs": [],
   "source": [
    "# Validate that there are no longer any Null values in embark_town.\n",
    "print('embark_town nulls\\n')\n",
    "print(f'train nulls: {train.embark_town.isnull().sum()}')\n",
    "print(f'validate nulls: {validate.embark_town.isnull().sum()}')\n",
    "print(f'test nulls: {test.embark_town.isnull().sum()}')"
   ]
  },
  {
   "cell_type": "code",
   "execution_count": null,
   "id": "a81a1640",
   "metadata": {},
   "outputs": [],
   "source": []
  },
  {
   "cell_type": "code",
   "execution_count": null,
   "id": "06a4662c",
   "metadata": {},
   "outputs": [],
   "source": []
  }
 ],
 "metadata": {
  "kernelspec": {
   "display_name": "Python 3 (ipykernel)",
   "language": "python",
   "name": "python3"
  },
  "language_info": {
   "codemirror_mode": {
    "name": "ipython",
    "version": 3
   },
   "file_extension": ".py",
   "mimetype": "text/x-python",
   "name": "python",
   "nbconvert_exporter": "python",
   "pygments_lexer": "ipython3",
   "version": "3.9.12"
  }
 },
 "nbformat": 4,
 "nbformat_minor": 5
}
