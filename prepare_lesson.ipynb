{
 "cells": [
  {
   "cell_type": "markdown",
   "id": "d87e5676",
   "metadata": {},
   "source": [
    "# Prepare Data\n",
    "\n",
    "\n",
    "What is it? \n",
    "- the stage after acquiring our data that ensures our data is ready for exploration and eventually modeling\n",
    "\n",
    "- Pipeline: Plan - Acquire - **Prepare** - Explore - Model - Deliver\n",
    "\n",
    "\n",
    "Why do we care?\n",
    "- because we need our data to be tidy and clean for accurate exploration\n",
    "- because we need our data split to be able to adaquately evaluate our model \n",
    "\n",
    "\n",
    "How do we do it?\n",
    "- start with one dataframe from acquire\n",
    "1. summarize the data\n",
    "2. clean the data\n",
    "3. split the data: train, validate, and test\n",
    "- end with `prepare.py` file"
   ]
  },
  {
   "cell_type": "code",
   "execution_count": null,
   "id": "a6560491",
   "metadata": {},
   "outputs": [],
   "source": [
    "import pandas as pd\n",
    "import numpy as np\n",
    "import matplotlib.pyplot as plt\n",
    "\n",
    "# import our own acquire module\n",
    "import acquire"
   ]
  },
  {
   "cell_type": "markdown",
   "id": "550b8bfa",
   "metadata": {},
   "source": [
    "## This Lesson - Titanic Dataset"
   ]
  },
  {
   "cell_type": "markdown",
   "id": "0ec5fcd5",
   "metadata": {},
   "source": [
    "Project goal: predict who survived the titanic"
   ]
  },
  {
   "cell_type": "markdown",
   "id": "b4564620",
   "metadata": {},
   "source": [
    "## Acquire "
   ]
  },
  {
   "cell_type": "markdown",
   "id": "f06c8ebb",
   "metadata": {},
   "source": [
    "- use my `acquire.py` since i've already established this step"
   ]
  },
  {
   "cell_type": "code",
   "execution_count": null,
   "id": "32669579",
   "metadata": {},
   "outputs": [],
   "source": [
    "# get titanic data\n"
   ]
  },
  {
   "cell_type": "code",
   "execution_count": null,
   "id": "642562b9",
   "metadata": {},
   "outputs": [],
   "source": [
    "#look at data\n"
   ]
  },
  {
   "cell_type": "code",
   "execution_count": null,
   "id": "b6811634",
   "metadata": {},
   "outputs": [],
   "source": []
  },
  {
   "cell_type": "markdown",
   "id": "90b0ac7d",
   "metadata": {},
   "source": [
    "## Prepare"
   ]
  },
  {
   "cell_type": "markdown",
   "id": "e2af53be",
   "metadata": {},
   "source": [
    "## STEP 1: Summarize"
   ]
  },
  {
   "cell_type": "markdown",
   "id": "cd4970c9",
   "metadata": {},
   "source": [
    "- understand your data\n",
    "- visualize your variables (univariate only)"
   ]
  },
  {
   "cell_type": "markdown",
   "id": "eb791eca",
   "metadata": {},
   "source": [
    "#### understand your data"
   ]
  },
  {
   "cell_type": "code",
   "execution_count": null,
   "id": "c950721a",
   "metadata": {},
   "outputs": [],
   "source": [
    "# Get information about the dataframe: column names, rows, datatypes, non-missing values\n"
   ]
  },
  {
   "cell_type": "markdown",
   "id": "016c054d",
   "metadata": {},
   "source": [
    "Do we know what all the columns mean? \n",
    "- passenger_id: \n",
    "- survived:\n",
    "- pclass:\n",
    "- sex: \n",
    "- age:\n",
    "- sibsp:\n",
    "- parch:\n",
    "- fare: \n",
    "- embarked:\n",
    "- class:\n",
    "- deck:\n",
    "- embarked_town:\n",
    "- alone:"
   ]
  },
  {
   "cell_type": "markdown",
   "id": "f6b9a0f3",
   "metadata": {},
   "source": [
    "What does one row of data respresent? \n",
    "- ?"
   ]
  },
  {
   "cell_type": "markdown",
   "id": "4d0e658a",
   "metadata": {},
   "source": [
    "What is our target variable? \n",
    "- ?"
   ]
  },
  {
   "cell_type": "markdown",
   "id": "7250667d",
   "metadata": {},
   "source": [
    "#### visualize your data (univariate)"
   ]
  },
  {
   "cell_type": "code",
   "execution_count": null,
   "id": "f0cb9361",
   "metadata": {},
   "outputs": [],
   "source": [
    "#find numeric columns\n"
   ]
  },
  {
   "cell_type": "code",
   "execution_count": null,
   "id": "70bec20b",
   "metadata": {
    "scrolled": true
   },
   "outputs": [],
   "source": [
    "#plot distributions of numeric columns\n"
   ]
  },
  {
   "cell_type": "code",
   "execution_count": null,
   "id": "26bd9df2",
   "metadata": {},
   "outputs": [],
   "source": [
    "#get string columns\n"
   ]
  },
  {
   "cell_type": "code",
   "execution_count": null,
   "id": "bb9fd1a1",
   "metadata": {
    "scrolled": true
   },
   "outputs": [],
   "source": [
    "#plot distributions of string columns\n"
   ]
  },
  {
   "cell_type": "markdown",
   "id": "faa1baff",
   "metadata": {},
   "source": [
    "# STEP 2: Clean the data\n",
    "\n",
    "- take care of duplicates\n",
    "- verify datatypes\n",
    "- handle nulls\n",
    "- consider outliers\n",
    "- for modeling: make all columns numeric\n",
    "\n",
    "Note: there are other things to consider in the prepare phase that we will talk about in future methodologies"
   ]
  },
  {
   "cell_type": "markdown",
   "id": "cbfa47e8",
   "metadata": {},
   "source": [
    "### Duplicate Data"
   ]
  },
  {
   "cell_type": "code",
   "execution_count": null,
   "id": "854c6135",
   "metadata": {},
   "outputs": [],
   "source": [
    "#look at data\n"
   ]
  },
  {
   "cell_type": "markdown",
   "id": "5f594716",
   "metadata": {},
   "source": [
    "#### are there any duplicates in passenger_id?"
   ]
  },
  {
   "cell_type": "code",
   "execution_count": null,
   "id": "c3b8d6eb",
   "metadata": {},
   "outputs": [],
   "source": []
  },
  {
   "cell_type": "markdown",
   "id": "28c56304",
   "metadata": {},
   "source": [
    "#### embarked and embark_town columns"
   ]
  },
  {
   "cell_type": "code",
   "execution_count": null,
   "id": "1793bec7",
   "metadata": {},
   "outputs": [],
   "source": [
    "#view counts across both\n"
   ]
  },
  {
   "cell_type": "code",
   "execution_count": null,
   "id": "090f8aa7",
   "metadata": {},
   "outputs": [],
   "source": [
    "#drop unnecessary column\n"
   ]
  },
  {
   "cell_type": "code",
   "execution_count": null,
   "id": "caf95056",
   "metadata": {},
   "outputs": [],
   "source": [
    "#verify\n"
   ]
  },
  {
   "cell_type": "markdown",
   "id": "f12f7392",
   "metadata": {},
   "source": [
    "#### pclass and class columns"
   ]
  },
  {
   "cell_type": "code",
   "execution_count": null,
   "id": "929fc8e5",
   "metadata": {},
   "outputs": [],
   "source": [
    "#view counts across both\n"
   ]
  },
  {
   "cell_type": "markdown",
   "id": "6b530af3",
   "metadata": {},
   "source": [
    "**Note:** The machine learning models can only accept numeric values. Therefore, we will remove the class column instead the pclass column."
   ]
  },
  {
   "cell_type": "code",
   "execution_count": null,
   "id": "1efb1296",
   "metadata": {},
   "outputs": [],
   "source": [
    "#drop unnecessary column\n"
   ]
  },
  {
   "cell_type": "code",
   "execution_count": null,
   "id": "453fa8be",
   "metadata": {},
   "outputs": [],
   "source": []
  },
  {
   "cell_type": "markdown",
   "id": "3e93a3e2",
   "metadata": {},
   "source": [
    "### Verify Datatypes"
   ]
  },
  {
   "cell_type": "code",
   "execution_count": null,
   "id": "b904bd8b",
   "metadata": {},
   "outputs": [],
   "source": []
  },
  {
   "cell_type": "code",
   "execution_count": null,
   "id": "efd6b543",
   "metadata": {},
   "outputs": [],
   "source": []
  },
  {
   "cell_type": "markdown",
   "id": "36fd89ab",
   "metadata": {},
   "source": [
    "### Handle Nulls"
   ]
  },
  {
   "cell_type": "markdown",
   "id": "da0aeea7",
   "metadata": {},
   "source": [
    "some options\n",
    "- delete all nulls rows\n",
    "- delete that column\n",
    "- fill with a median value (numeric columns) \n",
    "- fill with the mode (string columns)\n",
    "- fill with with 0\n",
    "\n",
    "Note: not all these answers will make sense for your column!!"
   ]
  },
  {
   "cell_type": "code",
   "execution_count": null,
   "id": "d3efedee",
   "metadata": {},
   "outputs": [],
   "source": [
    "#find were null values are\n"
   ]
  },
  {
   "cell_type": "code",
   "execution_count": null,
   "id": "9cf6ddb6",
   "metadata": {},
   "outputs": [],
   "source": [
    "#isolate nulls values\n"
   ]
  },
  {
   "cell_type": "markdown",
   "id": "4cc13248",
   "metadata": {},
   "source": [
    "#### age"
   ]
  },
  {
   "cell_type": "code",
   "execution_count": null,
   "id": "479d7862",
   "metadata": {},
   "outputs": [],
   "source": [
    "#check counts\n"
   ]
  },
  {
   "cell_type": "code",
   "execution_count": null,
   "id": "d2cdb8b1",
   "metadata": {},
   "outputs": [],
   "source": [
    "#check percentage\n"
   ]
  },
  {
   "cell_type": "code",
   "execution_count": null,
   "id": "f9a8975f",
   "metadata": {},
   "outputs": [],
   "source": [
    "#plot it\n"
   ]
  },
  {
   "cell_type": "markdown",
   "id": "d7f7d437",
   "metadata": {},
   "source": [
    "- there doesnt seem like an appropriate value to replace\n",
    "- we will delete the entire column, for now\n",
    "- with more time, i might come back and see if there is a way to keep the age column "
   ]
  },
  {
   "cell_type": "code",
   "execution_count": null,
   "id": "a4edbf4a",
   "metadata": {},
   "outputs": [],
   "source": [
    "#drop\n"
   ]
  },
  {
   "cell_type": "code",
   "execution_count": null,
   "id": "1f08b0af",
   "metadata": {},
   "outputs": [],
   "source": [
    "#verify \n"
   ]
  },
  {
   "cell_type": "markdown",
   "id": "c44b0af5",
   "metadata": {},
   "source": [
    "#### deck"
   ]
  },
  {
   "cell_type": "code",
   "execution_count": null,
   "id": "409ea66f",
   "metadata": {},
   "outputs": [],
   "source": []
  },
  {
   "cell_type": "code",
   "execution_count": null,
   "id": "81f3a0f8",
   "metadata": {},
   "outputs": [],
   "source": []
  },
  {
   "cell_type": "markdown",
   "id": "0b06e6f8",
   "metadata": {},
   "source": [
    "- there are way too much null values\n",
    "- will definitely delete this column"
   ]
  },
  {
   "cell_type": "code",
   "execution_count": null,
   "id": "3a40df00",
   "metadata": {},
   "outputs": [],
   "source": []
  },
  {
   "cell_type": "code",
   "execution_count": null,
   "id": "082bf498",
   "metadata": {},
   "outputs": [],
   "source": []
  },
  {
   "cell_type": "markdown",
   "id": "19d40cd4",
   "metadata": {},
   "source": [
    "#### embark_town"
   ]
  },
  {
   "cell_type": "code",
   "execution_count": null,
   "id": "269ffdc8",
   "metadata": {},
   "outputs": [],
   "source": [
    "#look at embark_town value counts with nulls\n"
   ]
  },
  {
   "cell_type": "code",
   "execution_count": null,
   "id": "d8621fe8",
   "metadata": {},
   "outputs": [],
   "source": []
  },
  {
   "cell_type": "markdown",
   "id": "ab11e1cb",
   "metadata": {},
   "source": [
    "We could fill `embark_town` with most common value, 'Southampton', by hard-coding the value using the `fillna()` function"
   ]
  },
  {
   "cell_type": "code",
   "execution_count": null,
   "id": "ef70c256",
   "metadata": {},
   "outputs": [],
   "source": [
    "#fill it!\n"
   ]
  },
  {
   "cell_type": "code",
   "execution_count": null,
   "id": "ac07ec56",
   "metadata": {},
   "outputs": [],
   "source": [
    "#verify\n"
   ]
  },
  {
   "cell_type": "markdown",
   "id": "3e092e24",
   "metadata": {},
   "source": [
    "### Outliers"
   ]
  },
  {
   "cell_type": "markdown",
   "id": "53fadc34",
   "metadata": {},
   "source": [
    "options\n",
    "- keep \n",
    "- remove\n",
    "- stretch/compress"
   ]
  },
  {
   "cell_type": "code",
   "execution_count": null,
   "id": "acc22cf9",
   "metadata": {},
   "outputs": [],
   "source": []
  },
  {
   "cell_type": "code",
   "execution_count": null,
   "id": "b4dd4c3b",
   "metadata": {},
   "outputs": [],
   "source": []
  },
  {
   "cell_type": "markdown",
   "id": "4f7126a4",
   "metadata": {},
   "source": [
    "There are a few outliers potentially in sibsp, parch, but without specific domain knowledge related to the titanic, I am not going to remove those outliers or snap them/compress them, I will ignore them for now."
   ]
  },
  {
   "cell_type": "markdown",
   "id": "09f6ed6e",
   "metadata": {},
   "source": [
    "### For Modeling: Make all columns numeric (encode)\n",
    "- machine learning models only work with numeric values"
   ]
  },
  {
   "cell_type": "markdown",
   "id": "fdc10582",
   "metadata": {},
   "source": [
    "#### Therefore, we have to Encode!\n",
    "\n",
    "- Encoding -- turning a string into a number\n",
    "\n",
    "\n",
    "Two strategies:\n",
    "- label encoding -- associate each unique value with a number\n",
    "    - use the label encoder when the categories have an inherit order\n",
    "- one-hot encoding (get_dummies) -- turn each unique value into a separate column with either 1 or 0\n",
    "    - use one-hot encoding when there is no order "
   ]
  },
  {
   "cell_type": "markdown",
   "id": "2b1bdcbe",
   "metadata": {},
   "source": [
    "*Note: Curse of dimensionality*\n",
    "- An increase in the dimensions can, in theory, add more information to the data thereby improving the quality of data but practically increases the noise and redundancy during its analysis\n",
    "- An increase in dimensionality it implies an increase in the number of features\n",
    "\n",
    "also known as Hughes phenomenon: https://miro.medium.com/v2/resize:fit:1400/format:webp/1*pcJdd2y924Xk61SXa7uYpw.jpeg"
   ]
  },
  {
   "cell_type": "markdown",
   "id": "07629c65",
   "metadata": {},
   "source": [
    "#### one-hot encoding\n",
    "- `pd.get_dummies`\n",
    "- get dummy vars for both sex and embark_town columns"
   ]
  },
  {
   "cell_type": "code",
   "execution_count": null,
   "id": "50fcbf6f",
   "metadata": {},
   "outputs": [],
   "source": []
  },
  {
   "cell_type": "code",
   "execution_count": null,
   "id": "fbea5f3c",
   "metadata": {},
   "outputs": [],
   "source": [
    "#look at sex data\n"
   ]
  },
  {
   "cell_type": "code",
   "execution_count": null,
   "id": "63689a5a",
   "metadata": {},
   "outputs": [],
   "source": [
    "#use get_dummies on sex data\n"
   ]
  },
  {
   "cell_type": "code",
   "execution_count": null,
   "id": "b97359cc",
   "metadata": {},
   "outputs": [],
   "source": [
    "#drop first column\n"
   ]
  },
  {
   "cell_type": "code",
   "execution_count": null,
   "id": "4a121bcc",
   "metadata": {},
   "outputs": [],
   "source": [
    "# create dummy variables for 'sex' and 'embark_town'\n"
   ]
  },
  {
   "cell_type": "code",
   "execution_count": null,
   "id": "2efe9013",
   "metadata": {},
   "outputs": [],
   "source": [
    "# concatenate the dummy_df dataframe above with the original df and validate.\n"
   ]
  },
  {
   "cell_type": "markdown",
   "id": "6f31e4d2",
   "metadata": {},
   "source": [
    "> i will keep my string values in my dataframe for now. as i will need them for exploration. "
   ]
  },
  {
   "cell_type": "markdown",
   "id": "433a0274",
   "metadata": {},
   "source": [
    "### Now that everything is clean, lets make a function!"
   ]
  },
  {
   "cell_type": "code",
   "execution_count": null,
   "id": "8620f39a",
   "metadata": {},
   "outputs": [],
   "source": [
    "# def clean_titanic(df):\n",
    "#     '''\n",
    "#     This function will clean the the titanic dataset\n",
    "#     '''\n",
    "#     df = df.drop(columns =['embarked','class','age','deck'])\n",
    "\n",
    "#     df.embark_town = df.embark_town.fillna(value='Southampton')\n",
    "\n",
    "#     dummy_df = pd.get_dummies(df[['sex','embark_town']], drop_first=True)\n",
    "#     df = pd.concat([df, dummy_df], axis=1)\n",
    "#     return df"
   ]
  },
  {
   "cell_type": "markdown",
   "id": "fc8d047a",
   "metadata": {},
   "source": [
    "Testing that the function does what we intend for it to do:"
   ]
  },
  {
   "cell_type": "code",
   "execution_count": null,
   "id": "7c8edbbb",
   "metadata": {},
   "outputs": [],
   "source": [
    "#acquire fresh copy of titanic function\n"
   ]
  },
  {
   "cell_type": "code",
   "execution_count": null,
   "id": "633ac7cb",
   "metadata": {},
   "outputs": [],
   "source": []
  },
  {
   "cell_type": "code",
   "execution_count": null,
   "id": "cac1041e",
   "metadata": {},
   "outputs": [],
   "source": [
    "#use clean function\n"
   ]
  },
  {
   "cell_type": "markdown",
   "id": "24731762",
   "metadata": {},
   "source": [
    "# Step 3: Splitting"
   ]
  },
  {
   "cell_type": "markdown",
   "id": "6ddec527",
   "metadata": {},
   "source": [
    "- Start with single dataframe\n",
    "- End with three dataframes: train, validate, test\n",
    "    - **train:** data to explore, clean, scale, and fit \n",
    "    - **validate, test:** represents unseen data\n",
    "        - **validate:** confirm our top models have not overfit\n",
    "        - **test:** test our top model -- ONLY USED ON 1 MODEL!"
   ]
  },
  {
   "cell_type": "markdown",
   "id": "da149b45",
   "metadata": {},
   "source": [
    "To accomplish this\n",
    "- do two splits using sklean \n",
    "- train dataset should be the bulk of the dataframe ~60%\n",
    "- validate should be about ~20%\n",
    "- test should be about ~20%"
   ]
  },
  {
   "attachments": {
    "tt_split3.png": {
     "image/png": "[encoded data removed]"
    }
   },
   "cell_type": "markdown",
   "id": "c711eb86",
   "metadata": {},
   "source": [
    "![tt_split3.png](attachment:tt_split3.png)"
   ]
  },
  {
   "attachments": {
    "tt-split1.png": {
     "image/png": "[encoded data removed]"
    }
   },
   "cell_type": "markdown",
   "id": "5579547c",
   "metadata": {},
   "source": [
    "![tt-split1.png](attachment:tt-split1.png)"
   ]
  },
  {
   "cell_type": "markdown",
   "id": "bac9fb3c",
   "metadata": {},
   "source": [
    "Our target variable contains A and B. Notice how many B values made it into the train dataset. \n",
    "\n",
    "Let's correct this by stratifing on our target variable."
   ]
  },
  {
   "attachments": {
    "tt_split2.png": {
     "image/png": "[encoded data removed]"
    }
   },
   "cell_type": "markdown",
   "id": "878bcc7b",
   "metadata": {},
   "source": [
    "![tt_split2.png](attachment:tt_split2.png)"
   ]
  },
  {
   "cell_type": "markdown",
   "id": "0a8d6405",
   "metadata": {},
   "source": [
    "Sklearn allows us to split our data easily:  \n",
    "https://scikit-learn.org/stable/modules/generated/sklearn.model_selection.train_test_split.html"
   ]
  },
  {
   "cell_type": "code",
   "execution_count": null,
   "id": "098bcfa2",
   "metadata": {},
   "outputs": [],
   "source": [
    "# import splitting functions\n"
   ]
  },
  {
   "cell_type": "code",
   "execution_count": null,
   "id": "f0a441da",
   "metadata": {},
   "outputs": [],
   "source": []
  },
  {
   "cell_type": "code",
   "execution_count": null,
   "id": "e1843647",
   "metadata": {},
   "outputs": [],
   "source": [
    "#first split\n"
   ]
  },
  {
   "cell_type": "code",
   "execution_count": null,
   "id": "f3093e87",
   "metadata": {},
   "outputs": [],
   "source": [
    "# Observe split\n",
    "print(f'Prepared df: {df.shape}')\n",
    "print()\n",
    "print(f'Train: {train.shape}')\n",
    "print(f'Test: {test.shape}')"
   ]
  },
  {
   "cell_type": "code",
   "execution_count": null,
   "id": "62dc3e6d",
   "metadata": {},
   "outputs": [],
   "source": []
  },
  {
   "cell_type": "code",
   "execution_count": null,
   "id": "131ee37b",
   "metadata": {},
   "outputs": [],
   "source": []
  },
  {
   "cell_type": "markdown",
   "id": "02496cd9",
   "metadata": {},
   "source": [
    "Note: this is our first split. there is only train and test. we still need our second split for validate. "
   ]
  },
  {
   "cell_type": "code",
   "execution_count": null,
   "id": "602c7ffc",
   "metadata": {},
   "outputs": [],
   "source": []
  },
  {
   "cell_type": "code",
   "execution_count": null,
   "id": "032b9f17",
   "metadata": {},
   "outputs": [],
   "source": [
    "#second split\n"
   ]
  },
  {
   "cell_type": "code",
   "execution_count": null,
   "id": "aaffb6d1",
   "metadata": {},
   "outputs": [],
   "source": [
    "# Observe split\n",
    "print(f'Prepared df: {df.shape}')\n",
    "print()\n",
    "print(f'Train: {train.shape}')\n",
    "print(f'Validate: {validate.shape}')\n",
    "print(f'Test: {test.shape}')"
   ]
  },
  {
   "cell_type": "markdown",
   "id": "6aed777d",
   "metadata": {},
   "source": [
    "- Train is now 60% of our data\n",
    "- Validate is now 20% of our data\n",
    "- Test is now 20% of our data"
   ]
  },
  {
   "cell_type": "markdown",
   "id": "de7bdfbe",
   "metadata": {},
   "source": [
    "### Turn it into a function"
   ]
  },
  {
   "cell_type": "code",
   "execution_count": null,
   "id": "d3970298",
   "metadata": {},
   "outputs": [],
   "source": [
    "# def split_titanic(df):\n",
    "#     '''\n",
    "#     Takes in the titanic dataframe and return train, validate, test subset dataframes\n",
    "#     '''\n",
    "#     train, test = train_test_split(df,\n",
    "#                                    test_size=.2, \n",
    "#                                    random_state=123, \n",
    "#                                    stratify=df.survived)\n",
    "#     train, validate = train_test_split(train, \n",
    "#                                        test_size=.25, \n",
    "#                                        random_state=123, \n",
    "#                                        stratify=train.survived)\n",
    "#     return train, validate, test"
   ]
  },
  {
   "cell_type": "markdown",
   "id": "840630bb",
   "metadata": {},
   "source": [
    "Test our new function!"
   ]
  },
  {
   "cell_type": "code",
   "execution_count": null,
   "id": "eba61722",
   "metadata": {},
   "outputs": [],
   "source": []
  },
  {
   "cell_type": "code",
   "execution_count": null,
   "id": "719be40d",
   "metadata": {},
   "outputs": [],
   "source": []
  },
  {
   "cell_type": "code",
   "execution_count": null,
   "id": "4d3bdc11",
   "metadata": {},
   "outputs": [],
   "source": [
    "print(f'Train: {train.shape}')\n",
    "print(f'Validate: {validate.shape}')\n",
    "print(f'Test: {test.shape}')"
   ]
  },
  {
   "cell_type": "markdown",
   "id": "6d894dbe",
   "metadata": {},
   "source": [
    "### We can create a function made of both of our prepare functions!"
   ]
  },
  {
   "cell_type": "code",
   "execution_count": null,
   "id": "6f457370",
   "metadata": {},
   "outputs": [],
   "source": [
    "# Another function? YES PLZ!\n",
    "# def prep_titanic_data(df):\n",
    "#     '''\n",
    "#     The ultimate dishwasher - clean data and split my titanic\n",
    "#     '''\n",
    "#     df = clean_titanic(df)\n",
    "#     train, validate, test = split_titanic(df)\n",
    "    \n",
    "#     return train, validate, test"
   ]
  },
  {
   "cell_type": "code",
   "execution_count": null,
   "id": "2eb4a777",
   "metadata": {},
   "outputs": [],
   "source": [
    "# Run final prepare function and validate what that the function is working properly.\n"
   ]
  },
  {
   "cell_type": "code",
   "execution_count": null,
   "id": "01b04d68",
   "metadata": {},
   "outputs": [],
   "source": [
    "print(f'Clean df: {df_fresh.shape}')\n",
    "print()\n",
    "print(f'Train: {train.shape}')\n",
    "print(f'Validate: {validate.shape}')\n",
    "print(f'Test: {test.shape}')"
   ]
  },
  {
   "cell_type": "code",
   "execution_count": null,
   "id": "ceb7b528",
   "metadata": {},
   "outputs": [],
   "source": []
  },
  {
   "cell_type": "markdown",
   "id": "e3982a5e",
   "metadata": {},
   "source": [
    "All three functions that we created can be will be added to a .py file!\n",
    "- clean_titanic\n",
    "- split_titanic\n",
    "- prep_titanic\n",
    "\n",
    "We end our prepare phase with a prepare.py with all our functions"
   ]
  },
  {
   "cell_type": "markdown",
   "id": "3bc08dce",
   "metadata": {},
   "source": [
    "## Option for Missing Values: Impute\n",
    "\n",
    "\n",
    "Impute: Assign a value to something by inference\n",
    "\n",
    "\n",
    "Strategies for imputing:\n",
    "- fill with 0\n",
    "- fill with the average\n",
    "- fill with the median\n",
    "- fill with subgroup mean\n",
    "- fill with most frequent value\n",
    "- build a model to predict missing values\n",
    "\n",
    "\n",
    "\n",
    "We will use `sklearn.imputer.SimpleImputer` to do this.  \n",
    "\n",
    "0. Split data into train/validate/test\n",
    "1. Create the imputer object\n",
    "    - use determined strategy for impyting\n",
    "2. Fit to train \n",
    "    - used determined strategy to calculated imputed value\n",
    "    - updates imputer object\n",
    "3. Transform train/validate/test\n",
    "    - fill missing values with imputed value on our train, validate, and test df"
   ]
  },
  {
   "cell_type": "markdown",
   "id": "4edb91b6",
   "metadata": {},
   "source": [
    "### lets revisit our initial titanic dataset & fill in the nulls from embark_town"
   ]
  },
  {
   "cell_type": "code",
   "execution_count": null,
   "id": "9ab299f2",
   "metadata": {},
   "outputs": [],
   "source": [
    "#get fresh titanic data\n"
   ]
  },
  {
   "cell_type": "code",
   "execution_count": null,
   "id": "e1009a47",
   "metadata": {},
   "outputs": [],
   "source": [
    "#look at nulls of embark_town\n"
   ]
  },
  {
   "cell_type": "markdown",
   "id": "946ad40f",
   "metadata": {},
   "source": [
    "#### Step 0. Split data into train/validate/test"
   ]
  },
  {
   "cell_type": "code",
   "execution_count": null,
   "id": "1f9c14ce",
   "metadata": {},
   "outputs": [],
   "source": [
    "#split the data\n"
   ]
  },
  {
   "cell_type": "code",
   "execution_count": null,
   "id": "a5760f84",
   "metadata": {},
   "outputs": [],
   "source": [
    "print('embark_town nulls\\n')\n",
    "print(f'train nulls: {train.embark_town.isnull().sum()}')\n",
    "print(f'validate nulls: {validate.embark_town.isnull().sum()}')\n",
    "print(f'test nulls: {test.embark_town.isnull().sum()}')"
   ]
  },
  {
   "cell_type": "markdown",
   "id": "65cb2391",
   "metadata": {},
   "source": [
    "#### Step 1. Create the imputer object"
   ]
  },
  {
   "cell_type": "markdown",
   "id": "789f66d4",
   "metadata": {},
   "source": [
    "Create the `SimpleImputer` object, which we will store in the variable `imputer`. In the creation of the object, we will specify the strategy to use (mean, median, most_frequent). Essentially, this is creating the instructions and assigning them to a variable, `imputer`."
   ]
  },
  {
   "cell_type": "code",
   "execution_count": null,
   "id": "573171c6",
   "metadata": {},
   "outputs": [],
   "source": [
    "# import imputing functions\n"
   ]
  },
  {
   "cell_type": "code",
   "execution_count": null,
   "id": "509d068c",
   "metadata": {},
   "outputs": [],
   "source": [
    "# SimpleImputer?"
   ]
  },
  {
   "cell_type": "code",
   "execution_count": null,
   "id": "aade07e4",
   "metadata": {},
   "outputs": [],
   "source": [
    "# Define the thing using (strategy = 'most_frequent')\n"
   ]
  },
  {
   "cell_type": "markdown",
   "id": "f6a8acca",
   "metadata": {},
   "source": [
    "#### Step 2. Fit to train "
   ]
  },
  {
   "cell_type": "markdown",
   "id": "8ce18f58",
   "metadata": {},
   "source": [
    "This means that the imputer will determine the most_frequent value, or other value depending on the strategy called, for each column, in the training set only"
   ]
  },
  {
   "cell_type": "code",
   "execution_count": null,
   "id": "9f0d95e2",
   "metadata": {},
   "outputs": [],
   "source": [
    "# fit the thing using imputer.fit()\n"
   ]
  },
  {
   "cell_type": "markdown",
   "id": "3cff83c8",
   "metadata": {},
   "source": [
    "It will store that value in the imputer object. We can call different attributes to see what is stored in the importer. "
   ]
  },
  {
   "cell_type": "code",
   "execution_count": null,
   "id": "075f022e",
   "metadata": {},
   "outputs": [],
   "source": []
  },
  {
   "cell_type": "code",
   "execution_count": null,
   "id": "42777e13",
   "metadata": {},
   "outputs": [],
   "source": []
  },
  {
   "cell_type": "markdown",
   "id": "735ff2af",
   "metadata": {},
   "source": [
    "#### Step 3. Transform train/validate/test"
   ]
  },
  {
   "cell_type": "markdown",
   "id": "10e623e0",
   "metadata": {},
   "source": [
    "Use our imputer object to `transform`. We will call `transform` on our train, validate, and test datasets to fill any missing values."
   ]
  },
  {
   "cell_type": "code",
   "execution_count": null,
   "id": "5ad805ec",
   "metadata": {},
   "outputs": [],
   "source": [
    "# Use the thing using imputer.transform()\n"
   ]
  },
  {
   "cell_type": "code",
   "execution_count": null,
   "id": "90177a3d",
   "metadata": {},
   "outputs": [],
   "source": [
    "# Validate that there are no longer any Null values in embark_town.\n",
    "print('embark_town nulls\\n')\n",
    "print(f'train nulls: {train.embark_town.isnull().sum()}')\n",
    "print(f'validate nulls: {validate.embark_town.isnull().sum()}')\n",
    "print(f'test nulls: {test.embark_town.isnull().sum()}')"
   ]
  },
  {
   "cell_type": "code",
   "execution_count": null,
   "id": "5a5a9c3c",
   "metadata": {},
   "outputs": [],
   "source": []
  },
  {
   "cell_type": "code",
   "execution_count": null,
   "id": "88388c72",
   "metadata": {},
   "outputs": [],
   "source": []
  }
 ],
 "metadata": {
  "kernelspec": {
   "display_name": "Python 3 (ipykernel)",
   "language": "python",
   "name": "python3"
  },
  "language_info": {
   "codemirror_mode": {
    "name": "ipython",
    "version": 3
   },
   "file_extension": ".py",
   "mimetype": "text/x-python",
   "name": "python",
   "nbconvert_exporter": "python",
   "pygments_lexer": "ipython3",
   "version": "3.9.12"
  }
 },
 "nbformat": 4,
 "nbformat_minor": 5
}
