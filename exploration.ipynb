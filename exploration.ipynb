{
 "cells": [
  {
   "cell_type": "markdown",
   "id": "d7fb9780",
   "metadata": {},
   "source": [
    "# Explore (Exploratory Data Analysis or EDA) \n",
    "\n",
    "What is it?\n",
    "\n",
    "- We explore the interactions of the attributes and target variable\n",
    "- Pipeline: Plan - Acquire - Prepare - **Explore** - Model - Deliver\n",
    "\n",
    "What do we care?\n",
    "\n",
    "- Learn the vast majority of our takeaways and interesting stories from the data\n",
    "- This section of the pipeline allows us to provide business insights\n",
    "- This section determine which features to send into our model "
   ]
  },
  {
   "cell_type": "markdown",
   "id": "92966c74",
   "metadata": {},
   "source": [
    "### Overall Process\n",
    "\n",
    "Acquire\n",
    "- get the data into a dataframe \n",
    "\n",
    "Prepare\n",
    "- perform univariate stats\n",
    "- clean up your data\n",
    "- split your data\n",
    "\n",
    "Explore\n",
    "- work only with train data\n",
    "- explore features\n",
    "    - bivariate stats\n",
    "    - multivariate stats\n",
    "- final takeaways from this section\n",
    "\n",
    "Model\n",
    "- to be discussed!"
   ]
  },
  {
   "cell_type": "markdown",
   "id": "416f691f",
   "metadata": {},
   "source": [
    "### Explore features process\n",
    "\n",
    "1. Hypothesize\n",
    "    - Write out your question about how your features interact with each other or with the target variable\n",
    "    - Write this in normal language (not a statistical hypotheses)\n",
    "\n",
    "\n",
    "2. Visualize\n",
    "    - Plot the features in your question\n",
    "    - Use the appropriate plot for your types of varibles (categorical vs continuous)\n",
    "\n",
    "\n",
    "3. Analyze (with statistics)\n",
    "    - Test your question with a statistical test\n",
    "    - Use the appropriate statistical tests for your types of varibles (categorical vs continuous)\n",
    "\n",
    "\n",
    "4. Summarize\n",
    "    - Write the takeaway from your question, plot, and stats test"
   ]
  },
  {
   "cell_type": "markdown",
   "id": "da09ed01",
   "metadata": {},
   "source": [
    "### Guidance for explore features process\n",
    "\n",
    "1. Univariate Stats\n",
    "    - single variable\n",
    "    - histograms\n",
    "    - valuecounts\n",
    "    - look for normal distributions\n",
    "    - identify outliers\n",
    "    \n",
    "\n",
    "2. Bivariate Stats\n",
    "    - two variables\n",
    "    - plot the interactions of two variables\n",
    "\n",
    "\n",
    "3. Multivariate Stats \n",
    "    - more than 2 variables\n",
    "    - use color to represent a categorical variable\n",
    "    - ensure the plot selected is appropriate for the other variables\n",
    "\n",
    "\n",
    "4. Statistical Tests\n",
    "    - continuous to continuous: correlation\n",
    "    - categorical to categorical: chi^2 \n",
    "    - continuous to categorical: ttest or appropriate comparing means"
   ]
  },
  {
   "cell_type": "markdown",
   "id": "a0938825",
   "metadata": {},
   "source": [
    "## Continue with the Titanic Dataset"
   ]
  },
  {
   "cell_type": "code",
   "execution_count": null,
   "id": "ab13b4fa",
   "metadata": {},
   "outputs": [],
   "source": [
    "#data wrangling imports\n",
    "\n",
    "#vizualizations \n",
    "\n",
    "#stats\n",
    "\n",
    "#my files\n"
   ]
  },
  {
   "cell_type": "markdown",
   "id": "2694643c",
   "metadata": {},
   "source": [
    "## Acquire"
   ]
  },
  {
   "cell_type": "code",
   "execution_count": null,
   "id": "dc7beb43",
   "metadata": {},
   "outputs": [],
   "source": [
    "#get the data using my function in my acquire file\n",
    "titanic_df = acquire.get_titanic_data()"
   ]
  },
  {
   "cell_type": "code",
   "execution_count": null,
   "id": "780d21b2",
   "metadata": {},
   "outputs": [],
   "source": [
    "#look at it\n",
    "titanic_df.head()"
   ]
  },
  {
   "cell_type": "code",
   "execution_count": null,
   "id": "01ec198e",
   "metadata": {},
   "outputs": [],
   "source": [
    "titanic_df.info()"
   ]
  },
  {
   "cell_type": "markdown",
   "id": "97e3c1f6",
   "metadata": {},
   "source": [
    "## Prepare"
   ]
  },
  {
   "cell_type": "code",
   "execution_count": null,
   "id": "1a011133",
   "metadata": {},
   "outputs": [],
   "source": [
    "#clean and split my data using my function in my prepare file\n",
    "train, validate, test =  prepare.prep_titanic_data(titanic_df)"
   ]
  },
  {
   "cell_type": "code",
   "execution_count": null,
   "id": "c60931b7",
   "metadata": {},
   "outputs": [],
   "source": [
    "train.head()"
   ]
  },
  {
   "cell_type": "markdown",
   "id": "b39b5601",
   "metadata": {},
   "source": [
    "### Univariate Stats"
   ]
  },
  {
   "cell_type": "code",
   "execution_count": null,
   "id": "ffd7b338",
   "metadata": {},
   "outputs": [],
   "source": [
    "col_cat = []\n",
    "col_num = []\n",
    "\n",
    "for col in train.columns[:-3]:\n",
    "    if train[col].dtype == 'O':\n",
    "        col_cat.append(col)\n",
    "    else:\n",
    "        if len(train[col].unique()) < 4:\n",
    "            col_cat.append(col)\n",
    "        else:\n",
    "            col_num.append(col)"
   ]
  },
  {
   "cell_type": "code",
   "execution_count": null,
   "id": "30e534fa",
   "metadata": {},
   "outputs": [],
   "source": [
    "col_cat"
   ]
  },
  {
   "cell_type": "code",
   "execution_count": null,
   "id": "a7ed9123",
   "metadata": {},
   "outputs": [],
   "source": [
    "col_num"
   ]
  },
  {
   "cell_type": "markdown",
   "id": "3ad39d1e",
   "metadata": {},
   "source": [
    "#### categorical variables"
   ]
  },
  {
   "cell_type": "code",
   "execution_count": null,
   "id": "d4783ea3",
   "metadata": {
    "scrolled": false
   },
   "outputs": [],
   "source": [
    "for col in col_cat:\n",
    "    print(col.upper())\n",
    "    print(train[col].value_counts())\n",
    "    print(train[col].value_counts(normalize=True))\n",
    "    train[col].value_counts().plot.bar()\n",
    "    plt.show()\n",
    "    print()"
   ]
  },
  {
   "cell_type": "markdown",
   "id": "deb6f9cb",
   "metadata": {},
   "source": [
    "Takeaways\n"
   ]
  },
  {
   "cell_type": "markdown",
   "id": "36520cc6",
   "metadata": {},
   "source": [
    "#### numeric variables"
   ]
  },
  {
   "cell_type": "code",
   "execution_count": null,
   "id": "c197ddaa",
   "metadata": {
    "scrolled": false
   },
   "outputs": [],
   "source": [
    "for col in col_num:\n",
    "    print(col.upper())\n",
    "    print(train[col].value_counts())\n",
    "    print(train[col].hist())\n",
    "    plt.show()"
   ]
  },
  {
   "cell_type": "markdown",
   "id": "12ad771a",
   "metadata": {},
   "source": [
    "Takeaways\n",
    "\n"
   ]
  },
  {
   "cell_type": "markdown",
   "id": "d560b10f",
   "metadata": {},
   "source": [
    "### Bivariate Stats\n",
    "-USE TRAIN DATASET ONLY-\n",
    "\n",
    "1. Hypothesize\n",
    "2. Visualize\n",
    "3. Analyze (with statistics)\n",
    "4. Summarize"
   ]
  },
  {
   "cell_type": "code",
   "execution_count": null,
   "id": "3480266c",
   "metadata": {},
   "outputs": [],
   "source": [
    "train.head()"
   ]
  },
  {
   "cell_type": "markdown",
   "id": "ec2979b5",
   "metadata": {},
   "source": [
    "#### 1. Hypothesize"
   ]
  },
  {
   "cell_type": "markdown",
   "id": "1e1264f0",
   "metadata": {},
   "source": [
    "Q: \n",
    "\n",
    "what type of variables am i comparing?"
   ]
  },
  {
   "cell_type": "markdown",
   "id": "484cf524",
   "metadata": {},
   "source": [
    "#### 2. Visualize\n",
    "\n",
    "what type of plot can i use for this?"
   ]
  },
  {
   "cell_type": "code",
   "execution_count": null,
   "id": "08cf07fc",
   "metadata": {},
   "outputs": [],
   "source": []
  },
  {
   "cell_type": "code",
   "execution_count": null,
   "id": "fbac664a",
   "metadata": {},
   "outputs": [],
   "source": []
  },
  {
   "cell_type": "markdown",
   "id": "836dcea9",
   "metadata": {},
   "source": [
    "#### 3. Analyze (with stats)"
   ]
  },
  {
   "cell_type": "markdown",
   "id": "49904985",
   "metadata": {},
   "source": [
    "what type of stats test should i use for this?\n",
    "\n",
    "\n",
    "$H_0$: \n",
    "\n",
    "$H_a$: \n",
    "\n",
    "alpha = "
   ]
  },
  {
   "cell_type": "code",
   "execution_count": null,
   "id": "1361da9a",
   "metadata": {},
   "outputs": [],
   "source": []
  },
  {
   "cell_type": "code",
   "execution_count": null,
   "id": "b15e4e14",
   "metadata": {},
   "outputs": [],
   "source": [
    "# chi2, p, degf, expected = stats.chi2_contingency(observed)"
   ]
  },
  {
   "cell_type": "code",
   "execution_count": null,
   "id": "8e68dbdd",
   "metadata": {},
   "outputs": [],
   "source": []
  },
  {
   "cell_type": "markdown",
   "id": "58c50ba3",
   "metadata": {},
   "source": [
    "#### 4. Summarize"
   ]
  },
  {
   "cell_type": "code",
   "execution_count": null,
   "id": "c9b03828",
   "metadata": {},
   "outputs": [],
   "source": []
  },
  {
   "cell_type": "markdown",
   "id": "edc47f95",
   "metadata": {},
   "source": [
    "### Repeat"
   ]
  },
  {
   "cell_type": "code",
   "execution_count": null,
   "id": "d610be7b",
   "metadata": {},
   "outputs": [],
   "source": [
    "train.head()"
   ]
  },
  {
   "cell_type": "markdown",
   "id": "459a5d17",
   "metadata": {},
   "source": [
    "#### 1. Hypothesize"
   ]
  },
  {
   "cell_type": "markdown",
   "id": "e6dffea7",
   "metadata": {},
   "source": [
    "Q: "
   ]
  },
  {
   "cell_type": "markdown",
   "id": "dc2e43e4",
   "metadata": {},
   "source": [
    "what type of variables am i comparing?\n"
   ]
  },
  {
   "cell_type": "markdown",
   "id": "3dea3027",
   "metadata": {},
   "source": [
    "#### 2. Visualize"
   ]
  },
  {
   "cell_type": "markdown",
   "id": "2778512f",
   "metadata": {},
   "source": [
    "what kind of plot can i use? \n"
   ]
  },
  {
   "cell_type": "code",
   "execution_count": null,
   "id": "ece5e4f8",
   "metadata": {},
   "outputs": [],
   "source": []
  },
  {
   "cell_type": "code",
   "execution_count": null,
   "id": "d8004ded",
   "metadata": {},
   "outputs": [],
   "source": []
  },
  {
   "cell_type": "markdown",
   "id": "3d373c3d",
   "metadata": {},
   "source": [
    "#### 3. Analyze (with statistics)"
   ]
  },
  {
   "cell_type": "markdown",
   "id": "d2802cd6",
   "metadata": {},
   "source": [
    "what type of test should i use for this?\n",
    "\n",
    "\n",
    "is my continuous value normally distributed?\n",
    "\n",
    "\n",
    "am i comparing subpopulations to each other or a subpopulation to an overall population?\n",
    "\n"
   ]
  },
  {
   "cell_type": "markdown",
   "id": "7ce1a83e",
   "metadata": {},
   "source": [
    "$H_0$: \n",
    "\n",
    "$H_a$: \n",
    "\n",
    "alpha = "
   ]
  },
  {
   "cell_type": "code",
   "execution_count": null,
   "id": "3048ed5a",
   "metadata": {},
   "outputs": [],
   "source": [
    "# surv_no_fare = train [train.survived == 0].fare\n",
    "# surv_yes_far = train [train.survived == 1].fare"
   ]
  },
  {
   "cell_type": "code",
   "execution_count": null,
   "id": "8a2b16d8",
   "metadata": {},
   "outputs": [],
   "source": []
  },
  {
   "cell_type": "markdown",
   "id": "c835c095",
   "metadata": {},
   "source": [
    "#### 4. Summarize"
   ]
  },
  {
   "cell_type": "code",
   "execution_count": null,
   "id": "0800ed34",
   "metadata": {},
   "outputs": [],
   "source": []
  },
  {
   "cell_type": "markdown",
   "id": "da9d0513",
   "metadata": {},
   "source": [
    "### Multivariate Stats\n",
    "-USE TRAIN DATASET ONLY-\n",
    "\n",
    "- can ask more targeted questions, like subgroup vs subgroup\n",
    "- multivariate statistical tests exist, but are outside the scope of this course.\n",
    "\n",
    "1. Hypothesize\n",
    "2. Visualize\n",
    "3. ~Analyze (with statistics)~\n",
    "4. Summarize\n"
   ]
  },
  {
   "cell_type": "code",
   "execution_count": null,
   "id": "71408c14",
   "metadata": {},
   "outputs": [],
   "source": [
    "train.head()"
   ]
  },
  {
   "cell_type": "markdown",
   "id": "71333dea",
   "metadata": {},
   "source": [
    "#### 1. Hypothesize"
   ]
  },
  {
   "cell_type": "markdown",
   "id": "16024ab9",
   "metadata": {},
   "source": [
    "Q: do males have a greater chance of survival when traveling alone?"
   ]
  },
  {
   "cell_type": "code",
   "execution_count": null,
   "id": "3e2a18f3",
   "metadata": {},
   "outputs": [],
   "source": []
  },
  {
   "cell_type": "markdown",
   "id": "0c186fb3",
   "metadata": {},
   "source": [
    "#### 2. Visualize"
   ]
  },
  {
   "cell_type": "code",
   "execution_count": null,
   "id": "68d71e29",
   "metadata": {},
   "outputs": [],
   "source": []
  },
  {
   "cell_type": "markdown",
   "id": "bec89a17",
   "metadata": {},
   "source": [
    "#### 3. Summarize"
   ]
  },
  {
   "cell_type": "code",
   "execution_count": null,
   "id": "5e3f5e2f",
   "metadata": {},
   "outputs": [],
   "source": []
  },
  {
   "cell_type": "markdown",
   "id": "3a737d1c",
   "metadata": {},
   "source": [
    "## Explore Conclusions"
   ]
  },
  {
   "cell_type": "code",
   "execution_count": null,
   "id": "ca5a9328",
   "metadata": {},
   "outputs": [],
   "source": []
  },
  {
   "cell_type": "markdown",
   "id": "bf48908c",
   "metadata": {},
   "source": [
    "### Final notes on exploring"
   ]
  },
  {
   "cell_type": "markdown",
   "id": "be65a337",
   "metadata": {},
   "source": [
    "How much time do you think it will take to explore all of your features and how they relate to your target variable? \n",
    "\n"
   ]
  },
  {
   "cell_type": "markdown",
   "id": "951a05da",
   "metadata": {},
   "source": [
    "### With more time, reiterate\n",
    "As you have more time, you can reiterate and go back through and investigate more features. \n",
    "\n",
    "Recall how we dropped the age column completetly since 20% of the values were missing? \n",
    "- add back that column \n",
    "    - maybe drop all the rows with nulls instead\n",
    "    - maybe try to replace those null values with some other value, maybe by group?\n",
    "- investigate how age affects survival now"
   ]
  },
  {
   "cell_type": "markdown",
   "id": "4df00db8",
   "metadata": {},
   "source": [
    "### Make sure you're documenting takeaways throughout your exploration! "
   ]
  },
  {
   "cell_type": "code",
   "execution_count": null,
   "id": "2370d947",
   "metadata": {},
   "outputs": [],
   "source": []
  }
 ],
 "metadata": {
  "kernelspec": {
   "display_name": "Python 3 (ipykernel)",
   "language": "python",
   "name": "python3"
  },
  "language_info": {
   "codemirror_mode": {
    "name": "ipython",
    "version": 3
   },
   "file_extension": ".py",
   "mimetype": "text/x-python",
   "name": "python",
   "nbconvert_exporter": "python",
   "pygments_lexer": "ipython3",
   "version": "3.9.12"
  }
 },
 "nbformat": 4,
 "nbformat_minor": 5
}
