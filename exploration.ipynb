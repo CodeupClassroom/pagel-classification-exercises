{
 "cells": [
  {
   "cell_type": "markdown",
   "id": "dea90d1d",
   "metadata": {},
   "source": [
    "# Explore (Exploratory Data Analysis or EDA) \n",
    "\n",
    "What is it?\n",
    "\n",
    "- We explore the interactions of the attributes and target variable\n",
    "- Pipeline: Plan - Acquire - Prepare - **Explore** - Model - Deliver\n",
    "\n",
    "What do we care?\n",
    "\n",
    "- Learn the vast majority of our takeaways and interesting stories from the data\n",
    "- This section of the pipeline allows us to provide business insights\n",
    "- This section determine which features to send into our model "
   ]
  },
  {
   "cell_type": "markdown",
   "id": "9f986853",
   "metadata": {},
   "source": [
    "### Overall Process\n",
    "\n",
    "Acquire\n",
    "- get the data into a dataframe \n",
    "\n",
    "Prepare\n",
    "- perform univariate stats\n",
    "- clean up your data\n",
    "- split your data\n",
    "\n",
    "Explore\n",
    "- work only with train data\n",
    "- explore features\n",
    "    - bivariate stats\n",
    "    - multivariate stats\n",
    "- final takeaways from this section\n",
    "\n",
    "Model\n",
    "- to be discussed!"
   ]
  },
  {
   "cell_type": "markdown",
   "id": "d352c1b0",
   "metadata": {},
   "source": [
    "### Explore features process\n",
    "\n",
    "1. Hypothesize\n",
    "    - Write out your question about how your features interact with each other or with the target variable\n",
    "    - Write this in normal language (not a statistical hypotheses)\n",
    "\n",
    "\n",
    "2. Visualize\n",
    "    - Plot the features in your question\n",
    "    - Use the appropriate plot for your types of varibles (categorical vs continuous)\n",
    "\n",
    "\n",
    "3. Analyze (with statistics)\n",
    "    - Test your question with a statistical test\n",
    "    - Use the appropriate statistical tests for your types of varibles (categorical vs continuous)\n",
    "\n",
    "\n",
    "4. Summarize\n",
    "    - Write the takeaway from your question, plot, and stats test"
   ]
  },
  {
   "cell_type": "markdown",
   "id": "3b64ebba",
   "metadata": {},
   "source": [
    "### Guidance for explore features process\n",
    "\n",
    "1. Univariate Stats\n",
    "    - single variable\n",
    "    - histograms\n",
    "    - valuecounts\n",
    "    - look for normal distributions\n",
    "    - identify outliers\n",
    "    \n",
    "\n",
    "2. Bivariate Stats\n",
    "    - two variables\n",
    "    - plot the interactions of two variables\n",
    "\n",
    "\n",
    "3. Multivariate Stats \n",
    "    - more than 2 variables\n",
    "    - use color to represent a categorical variable\n",
    "    - ensure the plot selected is appropriate for the other variables\n",
    "\n",
    "\n",
    "4. Statistical Tests\n",
    "    - continuous to continuous: correlation\n",
    "    - categorical to categorical: chi^2 \n",
    "    - continuous to categorical: ttest or appropriate comparing means"
   ]
  },
  {
   "cell_type": "markdown",
   "id": "30b0a1e1",
   "metadata": {},
   "source": [
    "## Continue with the Titanic Dataset"
   ]
  },
  {
   "cell_type": "code",
   "execution_count": null,
   "id": "24d3fbb6",
   "metadata": {},
   "outputs": [],
   "source": [
    "#data wrangling imports\n",
    "\n",
    "#vizualizations \n",
    "\n",
    "#stats\n",
    "\n",
    "#my files\n"
   ]
  },
  {
   "cell_type": "markdown",
   "id": "b4e7cc34",
   "metadata": {},
   "source": [
    "## Acquire"
   ]
  },
  {
   "cell_type": "code",
   "execution_count": null,
   "id": "6f00e8e9",
   "metadata": {},
   "outputs": [],
   "source": [
    "#get the data using my function in my acquire file\n",
    "titanic_df = acquire.get_titanic_data()"
   ]
  },
  {
   "cell_type": "code",
   "execution_count": null,
   "id": "bbf5ba93",
   "metadata": {},
   "outputs": [],
   "source": [
    "#look at it\n",
    "titanic_df.head()"
   ]
  },
  {
   "cell_type": "code",
   "execution_count": null,
   "id": "15720c02",
   "metadata": {},
   "outputs": [],
   "source": [
    "titanic_df.info()"
   ]
  },
  {
   "cell_type": "markdown",
   "id": "79dcfb74",
   "metadata": {},
   "source": [
    "## Prepare"
   ]
  },
  {
   "cell_type": "code",
   "execution_count": null,
   "id": "da690cb4",
   "metadata": {},
   "outputs": [],
   "source": [
    "#clean and split my data using my function in my prepare file\n",
    "train, validate, test =  prepare.prep_titanic_data(titanic_df)"
   ]
  },
  {
   "cell_type": "code",
   "execution_count": null,
   "id": "8dc9962e",
   "metadata": {},
   "outputs": [],
   "source": [
    "train.head()"
   ]
  },
  {
   "cell_type": "markdown",
   "id": "09b7a4d5",
   "metadata": {},
   "source": [
    "### Univariate Stats"
   ]
  },
  {
   "cell_type": "code",
   "execution_count": null,
   "id": "a3c130c6",
   "metadata": {},
   "outputs": [],
   "source": [
    "col_cat = []\n",
    "col_num = []\n",
    "\n",
    "for col in train.columns[:-3]:\n",
    "    if train[col].dtype == 'O':\n",
    "        col_cat.append(col)\n",
    "    else:\n",
    "        if len(train[col].unique()) < 4:\n",
    "            col_cat.append(col)\n",
    "        else:\n",
    "            col_num.append(col)"
   ]
  },
  {
   "cell_type": "code",
   "execution_count": null,
   "id": "9a716822",
   "metadata": {},
   "outputs": [],
   "source": [
    "col_cat"
   ]
  },
  {
   "cell_type": "code",
   "execution_count": null,
   "id": "56716c5b",
   "metadata": {},
   "outputs": [],
   "source": [
    "col_num"
   ]
  },
  {
   "cell_type": "markdown",
   "id": "c7f65207",
   "metadata": {},
   "source": [
    "#### categorical variables"
   ]
  },
  {
   "cell_type": "code",
   "execution_count": null,
   "id": "5d60d78b",
   "metadata": {
    "scrolled": false
   },
   "outputs": [],
   "source": [
    "for col in col_cat:\n",
    "    print(col.upper())\n",
    "    print(train[col].value_counts())\n",
    "    print(train[col].value_counts(normalize=True))\n",
    "    train[col].value_counts().plot.bar()\n",
    "    plt.show()\n",
    "    print()"
   ]
  },
  {
   "cell_type": "markdown",
   "id": "0fa0cabe",
   "metadata": {},
   "source": [
    "Takeaways\n",
    "- no noteable issues\n",
    "- our target variable, survied, has more not survived than survived\n",
    "- these are all categorical values"
   ]
  },
  {
   "cell_type": "markdown",
   "id": "d10c3c58",
   "metadata": {},
   "source": [
    "#### numeric variables"
   ]
  },
  {
   "cell_type": "code",
   "execution_count": null,
   "id": "dfd0af31",
   "metadata": {
    "scrolled": false
   },
   "outputs": [],
   "source": [
    "for col in col_num:\n",
    "    print(col.upper())\n",
    "    print(train[col].value_counts())\n",
    "    print(train[col].hist())\n",
    "    plt.show()"
   ]
  },
  {
   "cell_type": "markdown",
   "id": "5c108b07",
   "metadata": {},
   "source": [
    "Takeaways\n",
    "\n"
   ]
  },
  {
   "cell_type": "markdown",
   "id": "9daff4b2",
   "metadata": {},
   "source": [
    "### Bivariate Stats\n",
    "-USE TRAIN DATASET ONLY-\n",
    "\n",
    "1. Hypothesize\n",
    "2. Visualize\n",
    "3. Analyze (with statistics)\n",
    "4. Summarize"
   ]
  },
  {
   "cell_type": "code",
   "execution_count": null,
   "id": "5496b2d1",
   "metadata": {},
   "outputs": [],
   "source": [
    "train.head()"
   ]
  },
  {
   "cell_type": "markdown",
   "id": "e7a2c532",
   "metadata": {},
   "source": [
    "#### 1. Hypothesize"
   ]
  },
  {
   "cell_type": "markdown",
   "id": "c71f7e71",
   "metadata": {},
   "source": [
    "Q: \n",
    "\n",
    "what type of variables am i comparing?"
   ]
  },
  {
   "cell_type": "markdown",
   "id": "6c71ccfd",
   "metadata": {},
   "source": [
    "#### 2. Visualize\n",
    "\n",
    "what type of plot can i use for this?"
   ]
  },
  {
   "cell_type": "code",
   "execution_count": null,
   "id": "f07f2914",
   "metadata": {},
   "outputs": [],
   "source": []
  },
  {
   "cell_type": "code",
   "execution_count": null,
   "id": "44b352c3",
   "metadata": {},
   "outputs": [],
   "source": []
  },
  {
   "cell_type": "markdown",
   "id": "c1459da8",
   "metadata": {},
   "source": [
    "#### 3. Analyze (with stats)"
   ]
  },
  {
   "cell_type": "markdown",
   "id": "85621c38",
   "metadata": {},
   "source": [
    "what type of stats test should i use for this?\n",
    "\n",
    "\n",
    "$H_0$: \n",
    "\n",
    "$H_a$: \n",
    "\n",
    "alpha = "
   ]
  },
  {
   "cell_type": "code",
   "execution_count": null,
   "id": "5dbcd36b",
   "metadata": {},
   "outputs": [],
   "source": []
  },
  {
   "cell_type": "code",
   "execution_count": null,
   "id": "becd98c4",
   "metadata": {},
   "outputs": [],
   "source": [
    "# chi2, p, degf, expected = stats.chi2_contingency(observed)"
   ]
  },
  {
   "cell_type": "code",
   "execution_count": null,
   "id": "3ae7fa02",
   "metadata": {},
   "outputs": [],
   "source": []
  },
  {
   "cell_type": "markdown",
   "id": "6396685d",
   "metadata": {},
   "source": [
    "#### 4. Summarize"
   ]
  },
  {
   "cell_type": "code",
   "execution_count": null,
   "id": "60da9101",
   "metadata": {},
   "outputs": [],
   "source": []
  },
  {
   "cell_type": "markdown",
   "id": "55cb2a77",
   "metadata": {},
   "source": [
    "### Repeat"
   ]
  },
  {
   "cell_type": "code",
   "execution_count": null,
   "id": "da98494c",
   "metadata": {},
   "outputs": [],
   "source": [
    "train.head()"
   ]
  },
  {
   "cell_type": "markdown",
   "id": "be42f171",
   "metadata": {},
   "source": [
    "#### 1. Hypothesize"
   ]
  },
  {
   "cell_type": "markdown",
   "id": "929e7bb3",
   "metadata": {},
   "source": [
    "Q: "
   ]
  },
  {
   "cell_type": "markdown",
   "id": "6cb2e5b6",
   "metadata": {},
   "source": [
    "what type of variables am i comparing?\n"
   ]
  },
  {
   "cell_type": "markdown",
   "id": "36cce9f8",
   "metadata": {},
   "source": [
    "#### 2. Visualize"
   ]
  },
  {
   "cell_type": "markdown",
   "id": "48c11e68",
   "metadata": {},
   "source": [
    "what kind of plot can i use? \n"
   ]
  },
  {
   "cell_type": "code",
   "execution_count": null,
   "id": "e61c788c",
   "metadata": {},
   "outputs": [],
   "source": []
  },
  {
   "cell_type": "code",
   "execution_count": null,
   "id": "37175e3a",
   "metadata": {},
   "outputs": [],
   "source": []
  },
  {
   "cell_type": "markdown",
   "id": "b3dd75e9",
   "metadata": {},
   "source": [
    "#### 3. Analyze (with statistics)"
   ]
  },
  {
   "cell_type": "markdown",
   "id": "7bfc8b9a",
   "metadata": {},
   "source": [
    "what type of test should i use for this?\n",
    "\n",
    "\n",
    "is my continuous value normally distributed?\n",
    "\n",
    "\n",
    "am i comparing subpopulations to each other or a subpopulation to an overall population?\n",
    "\n"
   ]
  },
  {
   "cell_type": "markdown",
   "id": "4cc516be",
   "metadata": {},
   "source": [
    "$H_0$: \n",
    "\n",
    "$H_a$: \n",
    "\n",
    "alpha = "
   ]
  },
  {
   "cell_type": "code",
   "execution_count": null,
   "id": "8457e620",
   "metadata": {},
   "outputs": [],
   "source": [
    "# surv_no_fare = train [train.survived == 0].fare\n",
    "# surv_yes_far = train [train.survived == 1].fare"
   ]
  },
  {
   "cell_type": "code",
   "execution_count": null,
   "id": "58bb1d0b",
   "metadata": {},
   "outputs": [],
   "source": []
  },
  {
   "cell_type": "markdown",
   "id": "a503caef",
   "metadata": {},
   "source": [
    "#### 4. Summarize"
   ]
  },
  {
   "cell_type": "code",
   "execution_count": null,
   "id": "9761f1d3",
   "metadata": {},
   "outputs": [],
   "source": []
  },
  {
   "cell_type": "markdown",
   "id": "28a116ba",
   "metadata": {},
   "source": [
    "### Multivariate Stats\n",
    "-USE TRAIN DATASET ONLY-\n",
    "\n",
    "- can ask more targeted questions, like subgroup vs subgroup\n",
    "- multivariate statistical tests exist, but are outside the scope of this course.\n",
    "\n",
    "1. Hypothesize\n",
    "2. Visualize\n",
    "3. ~Analyze (with statistics)~\n",
    "4. Summarize\n"
   ]
  },
  {
   "cell_type": "code",
   "execution_count": null,
   "id": "8ad411c5",
   "metadata": {},
   "outputs": [],
   "source": [
    "train.head()"
   ]
  },
  {
   "cell_type": "markdown",
   "id": "48b3d0b2",
   "metadata": {},
   "source": [
    "#### 1. Hypothesize"
   ]
  },
  {
   "cell_type": "markdown",
   "id": "d6a34cc2",
   "metadata": {},
   "source": [
    "Q: do males have a greater chance of survival when traveling alone?"
   ]
  },
  {
   "cell_type": "code",
   "execution_count": null,
   "id": "2b1c90f0",
   "metadata": {},
   "outputs": [],
   "source": []
  },
  {
   "cell_type": "markdown",
   "id": "cbb2b0d5",
   "metadata": {},
   "source": [
    "#### 2. Visualize"
   ]
  },
  {
   "cell_type": "code",
   "execution_count": null,
   "id": "06d29722",
   "metadata": {},
   "outputs": [],
   "source": []
  },
  {
   "cell_type": "markdown",
   "id": "3a4c9e20",
   "metadata": {},
   "source": [
    "#### 3. Summarize"
   ]
  },
  {
   "cell_type": "code",
   "execution_count": null,
   "id": "650af2d1",
   "metadata": {},
   "outputs": [],
   "source": []
  },
  {
   "cell_type": "markdown",
   "id": "385a9cb4",
   "metadata": {},
   "source": [
    "## Explore Conclusions"
   ]
  },
  {
   "cell_type": "code",
   "execution_count": null,
   "id": "824304ec",
   "metadata": {},
   "outputs": [],
   "source": []
  },
  {
   "cell_type": "markdown",
   "id": "c241baa4",
   "metadata": {},
   "source": [
    "### Final notes on exploring"
   ]
  },
  {
   "cell_type": "markdown",
   "id": "9af1a5c7",
   "metadata": {},
   "source": [
    "How much time do you think it will take to explore all of your features and how they relate to your target variable? \n",
    "\n"
   ]
  },
  {
   "cell_type": "markdown",
   "id": "ebee087a",
   "metadata": {},
   "source": [
    "### With more time, reiterate\n",
    "As you have more time, you can reiterate and go back through and investigate more features. \n",
    "\n",
    "Recall how we dropped the age column completetly since 20% of the values were missing? \n",
    "- add back that column \n",
    "    - maybe drop all the rows with nulls instead\n",
    "    - maybe try to replace those null values with some other value, maybe by group?\n",
    "- investigate how age affects survival now"
   ]
  },
  {
   "cell_type": "markdown",
   "id": "cb1986da",
   "metadata": {},
   "source": [
    "### Make sure you're documenting takeaways throughout your exploration! "
   ]
  },
  {
   "cell_type": "code",
   "execution_count": null,
   "id": "654e84ff",
   "metadata": {},
   "outputs": [],
   "source": []
  }
 ],
 "metadata": {
  "kernelspec": {
   "display_name": "Python 3 (ipykernel)",
   "language": "python",
   "name": "python3"
  },
  "language_info": {
   "codemirror_mode": {
    "name": "ipython",
    "version": 3
   },
   "file_extension": ".py",
   "mimetype": "text/x-python",
   "name": "python",
   "nbconvert_exporter": "python",
   "pygments_lexer": "ipython3",
   "version": "3.9.12"
  }
 },
 "nbformat": 4,
 "nbformat_minor": 5
}
