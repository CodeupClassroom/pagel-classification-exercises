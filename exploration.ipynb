{
 "cells": [
  {
   "cell_type": "markdown",
   "id": "8efa1c90",
   "metadata": {},
   "source": [
    "# Explore (Exploratory Data Analysis or EDA) \n",
    "\n",
    "What is it?\n",
    "\n",
    "- We explore the interactions of the attributes and target variable\n",
    "- Pipeline: Plan - Acquire - Prepare - **Explore** - Model - Deliver\n",
    "\n",
    "What do we care?\n",
    "\n",
    "- Learn the vast majority of our takeaways and interesting stories from the data\n",
    "- This section of the pipeline allows us to provide business insights\n",
    "- This section determine which features to send into our model "
   ]
  },
  {
   "cell_type": "markdown",
   "id": "cb30029d",
   "metadata": {},
   "source": [
    "### Overall Process\n",
    "\n",
    "Acquire\n",
    "- get the data into a dataframe \n",
    "\n",
    "Prepare\n",
    "- perform univariate stats\n",
    "- clean up your data\n",
    "- encode your data\n",
    "- split your data\n",
    "\n",
    "Explore\n",
    "- work only with train data!!!!!!\n",
    "- explore features\n",
    "    - bivariate stats\n",
    "    - multivariate stats\n",
    "- final takeaways from this section\n",
    "\n",
    "Model\n",
    "- to be discussed!"
   ]
  },
  {
   "cell_type": "markdown",
   "id": "62f9455c",
   "metadata": {},
   "source": [
    "### Explore features process\n",
    "\n",
    "1. Hypothesize\n",
    "    - Write out your question about how your features interact with each other or with the target variable\n",
    "    - Write this in normal language (not a statistical hypotheses)\n",
    "\n",
    "\n",
    "2. Visualize\n",
    "    - Plot the features in your question\n",
    "    - Use the appropriate plot for your types of varibles (categorical vs continuous)\n",
    "\n",
    "\n",
    "3. Analyze (with statistics)\n",
    "    - Test your question with a statistical test\n",
    "    - Use the appropriate statistical tests for your types of varibles (categorical vs continuous)\n",
    "\n",
    "\n",
    "4. Summarize\n",
    "    - Write the takeaway from your question, plot, and stats test"
   ]
  },
  {
   "cell_type": "markdown",
   "id": "59545c46",
   "metadata": {},
   "source": [
    "### Guidance for explore features process\n",
    "\n",
    "1. Univariate Stats\n",
    "    - single variable\n",
    "    - histograms\n",
    "    - valuecounts\n",
    "    - look for normal distributions\n",
    "    - identify outliers\n",
    "    \n",
    "\n",
    "2. Bivariate Stats\n",
    "    - two variables\n",
    "    - plot the interactions of two variables\n",
    "\n",
    "\n",
    "3. Multivariate Stats \n",
    "    - more than 2 variables\n",
    "    - use color to represent a categorical variable\n",
    "    - ensure the plot selected is appropriate for the other variables\n",
    "\n",
    "\n",
    "4. Statistical Tests\n",
    "    - continuous to continuous: correlation\n",
    "    - categorical to categorical: chi^2 \n",
    "    - continuous to categorical: ttest or appropriate comparing means"
   ]
  },
  {
   "cell_type": "markdown",
   "id": "2f4eacd5",
   "metadata": {},
   "source": [
    "## Continue with the Titanic Dataset"
   ]
  },
  {
   "cell_type": "code",
   "execution_count": 1,
   "id": "22d4e621",
   "metadata": {},
   "outputs": [],
   "source": [
    "#data wrangling imports\n",
    "import pandas as pd\n",
    "import numpy as np\n",
    "\n",
    "#vizualizations \n",
    "import matplotlib.pyplot as plt\n",
    "import seaborn as sns\n",
    "\n",
    "#stats\n",
    "from scipy import stats\n",
    "\n",
    "#my files\n",
    "import acquire\n",
    "import prepare"
   ]
  },
  {
   "cell_type": "markdown",
   "id": "629dcead",
   "metadata": {},
   "source": [
    "## Acquire"
   ]
  },
  {
   "cell_type": "code",
   "execution_count": 2,
   "id": "eb37dbec",
   "metadata": {},
   "outputs": [
    {
     "name": "stdout",
     "output_type": "stream",
     "text": [
      "csv file found and loaded\n"
     ]
    }
   ],
   "source": [
    "#get the data using my function in my acquire file\n",
    "titanic_df = acquire.get_titanic_data()"
   ]
  },
  {
   "cell_type": "code",
   "execution_count": 3,
   "id": "df4a1d1b",
   "metadata": {},
   "outputs": [
    {
     "data": {
      "text/html": [
       "<div>\n",
       "<style scoped>\n",
       "    .dataframe tbody tr th:only-of-type {\n",
       "        vertical-align: middle;\n",
       "    }\n",
       "\n",
       "    .dataframe tbody tr th {\n",
       "        vertical-align: top;\n",
       "    }\n",
       "\n",
       "    .dataframe thead th {\n",
       "        text-align: right;\n",
       "    }\n",
       "</style>\n",
       "<table border=\"1\" class=\"dataframe\">\n",
       "  <thead>\n",
       "    <tr style=\"text-align: right;\">\n",
       "      <th></th>\n",
       "      <th>passenger_id</th>\n",
       "      <th>survived</th>\n",
       "      <th>pclass</th>\n",
       "      <th>sex</th>\n",
       "      <th>age</th>\n",
       "      <th>sibsp</th>\n",
       "      <th>parch</th>\n",
       "      <th>fare</th>\n",
       "      <th>embarked</th>\n",
       "      <th>class</th>\n",
       "      <th>deck</th>\n",
       "      <th>embark_town</th>\n",
       "      <th>alone</th>\n",
       "    </tr>\n",
       "  </thead>\n",
       "  <tbody>\n",
       "    <tr>\n",
       "      <th>0</th>\n",
       "      <td>0</td>\n",
       "      <td>0</td>\n",
       "      <td>3</td>\n",
       "      <td>male</td>\n",
       "      <td>22.0</td>\n",
       "      <td>1</td>\n",
       "      <td>0</td>\n",
       "      <td>7.2500</td>\n",
       "      <td>S</td>\n",
       "      <td>Third</td>\n",
       "      <td>NaN</td>\n",
       "      <td>Southampton</td>\n",
       "      <td>0</td>\n",
       "    </tr>\n",
       "    <tr>\n",
       "      <th>1</th>\n",
       "      <td>1</td>\n",
       "      <td>1</td>\n",
       "      <td>1</td>\n",
       "      <td>female</td>\n",
       "      <td>38.0</td>\n",
       "      <td>1</td>\n",
       "      <td>0</td>\n",
       "      <td>71.2833</td>\n",
       "      <td>C</td>\n",
       "      <td>First</td>\n",
       "      <td>C</td>\n",
       "      <td>Cherbourg</td>\n",
       "      <td>0</td>\n",
       "    </tr>\n",
       "    <tr>\n",
       "      <th>2</th>\n",
       "      <td>2</td>\n",
       "      <td>1</td>\n",
       "      <td>3</td>\n",
       "      <td>female</td>\n",
       "      <td>26.0</td>\n",
       "      <td>0</td>\n",
       "      <td>0</td>\n",
       "      <td>7.9250</td>\n",
       "      <td>S</td>\n",
       "      <td>Third</td>\n",
       "      <td>NaN</td>\n",
       "      <td>Southampton</td>\n",
       "      <td>1</td>\n",
       "    </tr>\n",
       "    <tr>\n",
       "      <th>3</th>\n",
       "      <td>3</td>\n",
       "      <td>1</td>\n",
       "      <td>1</td>\n",
       "      <td>female</td>\n",
       "      <td>35.0</td>\n",
       "      <td>1</td>\n",
       "      <td>0</td>\n",
       "      <td>53.1000</td>\n",
       "      <td>S</td>\n",
       "      <td>First</td>\n",
       "      <td>C</td>\n",
       "      <td>Southampton</td>\n",
       "      <td>0</td>\n",
       "    </tr>\n",
       "    <tr>\n",
       "      <th>4</th>\n",
       "      <td>4</td>\n",
       "      <td>0</td>\n",
       "      <td>3</td>\n",
       "      <td>male</td>\n",
       "      <td>35.0</td>\n",
       "      <td>0</td>\n",
       "      <td>0</td>\n",
       "      <td>8.0500</td>\n",
       "      <td>S</td>\n",
       "      <td>Third</td>\n",
       "      <td>NaN</td>\n",
       "      <td>Southampton</td>\n",
       "      <td>1</td>\n",
       "    </tr>\n",
       "  </tbody>\n",
       "</table>\n",
       "</div>"
      ],
      "text/plain": [
       "   passenger_id  survived  pclass     sex   age  sibsp  parch     fare  \\\n",
       "0             0         0       3    male  22.0      1      0   7.2500   \n",
       "1             1         1       1  female  38.0      1      0  71.2833   \n",
       "2             2         1       3  female  26.0      0      0   7.9250   \n",
       "3             3         1       1  female  35.0      1      0  53.1000   \n",
       "4             4         0       3    male  35.0      0      0   8.0500   \n",
       "\n",
       "  embarked  class deck  embark_town  alone  \n",
       "0        S  Third  NaN  Southampton      0  \n",
       "1        C  First    C    Cherbourg      0  \n",
       "2        S  Third  NaN  Southampton      1  \n",
       "3        S  First    C  Southampton      0  \n",
       "4        S  Third  NaN  Southampton      1  "
      ]
     },
     "execution_count": 3,
     "metadata": {},
     "output_type": "execute_result"
    }
   ],
   "source": [
    "#look at it\n",
    "titanic_df.head()"
   ]
  },
  {
   "cell_type": "code",
   "execution_count": 4,
   "id": "06db6112",
   "metadata": {},
   "outputs": [
    {
     "name": "stdout",
     "output_type": "stream",
     "text": [
      "<class 'pandas.core.frame.DataFrame'>\n",
      "Int64Index: 891 entries, 0 to 890\n",
      "Data columns (total 13 columns):\n",
      " #   Column        Non-Null Count  Dtype  \n",
      "---  ------        --------------  -----  \n",
      " 0   passenger_id  891 non-null    int64  \n",
      " 1   survived      891 non-null    int64  \n",
      " 2   pclass        891 non-null    int64  \n",
      " 3   sex           891 non-null    object \n",
      " 4   age           714 non-null    float64\n",
      " 5   sibsp         891 non-null    int64  \n",
      " 6   parch         891 non-null    int64  \n",
      " 7   fare          891 non-null    float64\n",
      " 8   embarked      889 non-null    object \n",
      " 9   class         891 non-null    object \n",
      " 10  deck          203 non-null    object \n",
      " 11  embark_town   889 non-null    object \n",
      " 12  alone         891 non-null    int64  \n",
      "dtypes: float64(2), int64(6), object(5)\n",
      "memory usage: 97.5+ KB\n"
     ]
    }
   ],
   "source": [
    "titanic_df.info()"
   ]
  },
  {
   "cell_type": "markdown",
   "id": "5dedec7a",
   "metadata": {},
   "source": [
    "## Prepare"
   ]
  },
  {
   "cell_type": "code",
   "execution_count": 5,
   "id": "1f9cd9e1",
   "metadata": {},
   "outputs": [],
   "source": [
    "#clean and split my data using my function in my prepare file\n",
    "train, validate, test =  prepare.prep_titanic_data(titanic_df)"
   ]
  },
  {
   "cell_type": "code",
   "execution_count": 6,
   "id": "0ecabb61",
   "metadata": {},
   "outputs": [
    {
     "data": {
      "text/html": [
       "<div>\n",
       "<style scoped>\n",
       "    .dataframe tbody tr th:only-of-type {\n",
       "        vertical-align: middle;\n",
       "    }\n",
       "\n",
       "    .dataframe tbody tr th {\n",
       "        vertical-align: top;\n",
       "    }\n",
       "\n",
       "    .dataframe thead th {\n",
       "        text-align: right;\n",
       "    }\n",
       "</style>\n",
       "<table border=\"1\" class=\"dataframe\">\n",
       "  <thead>\n",
       "    <tr style=\"text-align: right;\">\n",
       "      <th></th>\n",
       "      <th>passenger_id</th>\n",
       "      <th>survived</th>\n",
       "      <th>pclass</th>\n",
       "      <th>sex</th>\n",
       "      <th>sibsp</th>\n",
       "      <th>parch</th>\n",
       "      <th>fare</th>\n",
       "      <th>embark_town</th>\n",
       "      <th>alone</th>\n",
       "      <th>sex_male</th>\n",
       "      <th>embark_town_Queenstown</th>\n",
       "      <th>embark_town_Southampton</th>\n",
       "    </tr>\n",
       "  </thead>\n",
       "  <tbody>\n",
       "    <tr>\n",
       "      <th>455</th>\n",
       "      <td>455</td>\n",
       "      <td>1</td>\n",
       "      <td>3</td>\n",
       "      <td>male</td>\n",
       "      <td>0</td>\n",
       "      <td>0</td>\n",
       "      <td>7.8958</td>\n",
       "      <td>Cherbourg</td>\n",
       "      <td>1</td>\n",
       "      <td>1</td>\n",
       "      <td>0</td>\n",
       "      <td>0</td>\n",
       "    </tr>\n",
       "    <tr>\n",
       "      <th>380</th>\n",
       "      <td>380</td>\n",
       "      <td>1</td>\n",
       "      <td>1</td>\n",
       "      <td>female</td>\n",
       "      <td>0</td>\n",
       "      <td>0</td>\n",
       "      <td>227.5250</td>\n",
       "      <td>Cherbourg</td>\n",
       "      <td>1</td>\n",
       "      <td>0</td>\n",
       "      <td>0</td>\n",
       "      <td>0</td>\n",
       "    </tr>\n",
       "    <tr>\n",
       "      <th>492</th>\n",
       "      <td>492</td>\n",
       "      <td>0</td>\n",
       "      <td>1</td>\n",
       "      <td>male</td>\n",
       "      <td>0</td>\n",
       "      <td>0</td>\n",
       "      <td>30.5000</td>\n",
       "      <td>Southampton</td>\n",
       "      <td>1</td>\n",
       "      <td>1</td>\n",
       "      <td>0</td>\n",
       "      <td>1</td>\n",
       "    </tr>\n",
       "    <tr>\n",
       "      <th>55</th>\n",
       "      <td>55</td>\n",
       "      <td>1</td>\n",
       "      <td>1</td>\n",
       "      <td>male</td>\n",
       "      <td>0</td>\n",
       "      <td>0</td>\n",
       "      <td>35.5000</td>\n",
       "      <td>Southampton</td>\n",
       "      <td>1</td>\n",
       "      <td>1</td>\n",
       "      <td>0</td>\n",
       "      <td>1</td>\n",
       "    </tr>\n",
       "    <tr>\n",
       "      <th>243</th>\n",
       "      <td>243</td>\n",
       "      <td>0</td>\n",
       "      <td>3</td>\n",
       "      <td>male</td>\n",
       "      <td>0</td>\n",
       "      <td>0</td>\n",
       "      <td>7.1250</td>\n",
       "      <td>Southampton</td>\n",
       "      <td>1</td>\n",
       "      <td>1</td>\n",
       "      <td>0</td>\n",
       "      <td>1</td>\n",
       "    </tr>\n",
       "  </tbody>\n",
       "</table>\n",
       "</div>"
      ],
      "text/plain": [
       "     passenger_id  survived  pclass     sex  sibsp  parch      fare  \\\n",
       "455           455         1       3    male      0      0    7.8958   \n",
       "380           380         1       1  female      0      0  227.5250   \n",
       "492           492         0       1    male      0      0   30.5000   \n",
       "55             55         1       1    male      0      0   35.5000   \n",
       "243           243         0       3    male      0      0    7.1250   \n",
       "\n",
       "     embark_town  alone  sex_male  embark_town_Queenstown  \\\n",
       "455    Cherbourg      1         1                       0   \n",
       "380    Cherbourg      1         0                       0   \n",
       "492  Southampton      1         1                       0   \n",
       "55   Southampton      1         1                       0   \n",
       "243  Southampton      1         1                       0   \n",
       "\n",
       "     embark_town_Southampton  \n",
       "455                        0  \n",
       "380                        0  \n",
       "492                        1  \n",
       "55                         1  \n",
       "243                        1  "
      ]
     },
     "execution_count": 6,
     "metadata": {},
     "output_type": "execute_result"
    }
   ],
   "source": [
    "train.head()"
   ]
  },
  {
   "cell_type": "markdown",
   "id": "547bffc9",
   "metadata": {},
   "source": [
    "### Univariate Stats"
   ]
  },
  {
   "cell_type": "code",
   "execution_count": 13,
   "id": "ca27ee0e",
   "metadata": {},
   "outputs": [
    {
     "name": "stdout",
     "output_type": "stream",
     "text": [
      "passenger_id\n",
      "survived\n",
      "pclass\n",
      "sex\n",
      "sibsp\n",
      "parch\n",
      "fare\n",
      "embark_town\n",
      "alone\n"
     ]
    }
   ],
   "source": [
    "col_cat = [] #this is for my categorical varibles\n",
    "col_num = [] #this is for my numeric varibles\n",
    "\n",
    "for col in train.columns[:-3]:\n",
    "    print(col)\n",
    "    if train[col].dtype == 'O':\n",
    "        col_cat.append(col)\n",
    "    else:\n",
    "        if len(train[col].unique()) < 4:\n",
    "            col_cat.append(col)\n",
    "        else:\n",
    "            col_num.append(col)"
   ]
  },
  {
   "cell_type": "code",
   "execution_count": 16,
   "id": "01dd55e2",
   "metadata": {},
   "outputs": [
    {
     "data": {
      "text/plain": [
       "['survived', 'pclass', 'sex', 'embark_town', 'alone']"
      ]
     },
     "execution_count": 16,
     "metadata": {},
     "output_type": "execute_result"
    }
   ],
   "source": [
    "col_cat"
   ]
  },
  {
   "cell_type": "code",
   "execution_count": 17,
   "id": "1c8e78db",
   "metadata": {},
   "outputs": [
    {
     "data": {
      "text/plain": [
       "['passenger_id', 'sibsp', 'parch', 'fare']"
      ]
     },
     "execution_count": 17,
     "metadata": {},
     "output_type": "execute_result"
    }
   ],
   "source": [
    "col_num"
   ]
  },
  {
   "cell_type": "markdown",
   "id": "167583e1",
   "metadata": {},
   "source": [
    "#### categorical variables"
   ]
  },
  {
   "cell_type": "code",
   "execution_count": 18,
   "id": "4739f9dc",
   "metadata": {
    "scrolled": false
   },
   "outputs": [
    {
     "name": "stdout",
     "output_type": "stream",
     "text": [
      "SURVIVED\n",
      "0    329\n",
      "1    205\n",
      "Name: survived, dtype: int64\n",
      "0    0.616105\n",
      "1    0.383895\n",
      "Name: survived, dtype: float64\n"
     ]
    },
    {
     "data": {
      "image/png": "[encoded data removed]",
      "text/plain": [
       "<Figure size 432x288 with 1 Axes>"
      ]
     },
     "metadata": {
      "needs_background": "light"
     },
     "output_type": "display_data"
    },
    {
     "name": "stdout",
     "output_type": "stream",
     "text": [
      "\n",
      "PCLASS\n",
      "3    295\n",
      "1    122\n",
      "2    117\n",
      "Name: pclass, dtype: int64\n",
      "3    0.552434\n",
      "1    0.228464\n",
      "2    0.219101\n",
      "Name: pclass, dtype: float64\n"
     ]
    },
    {
     "data": {
      "image/png": "[encoded data removed]",
      "text/plain": [
       "<Figure size 432x288 with 1 Axes>"
      ]
     },
     "metadata": {
      "needs_background": "light"
     },
     "output_type": "display_data"
    },
    {
     "name": "stdout",
     "output_type": "stream",
     "text": [
      "\n",
      "SEX\n",
      "male      348\n",
      "female    186\n",
      "Name: sex, dtype: int64\n",
      "male      0.651685\n",
      "female    0.348315\n",
      "Name: sex, dtype: float64\n"
     ]
    },
    {
     "data": {
      "image/png": "[encoded data removed]",
      "text/plain": [
       "<Figure size 432x288 with 1 Axes>"
      ]
     },
     "metadata": {
      "needs_background": "light"
     },
     "output_type": "display_data"
    },
    {
     "name": "stdout",
     "output_type": "stream",
     "text": [
      "\n",
      "EMBARK_TOWN\n",
      "Southampton    381\n",
      "Cherbourg      107\n",
      "Queenstown      46\n",
      "Name: embark_town, dtype: int64\n",
      "Southampton    0.713483\n",
      "Cherbourg      0.200375\n",
      "Queenstown     0.086142\n",
      "Name: embark_town, dtype: float64\n"
     ]
    },
    {
     "data": {
      "image/png": "[encoded data removed]",
      "text/plain": [
       "<Figure size 432x288 with 1 Axes>"
      ]
     },
     "metadata": {
      "needs_background": "light"
     },
     "output_type": "display_data"
    },
    {
     "name": "stdout",
     "output_type": "stream",
     "text": [
      "\n",
      "ALONE\n",
      "1    335\n",
      "0    199\n",
      "Name: alone, dtype: int64\n",
      "1    0.627341\n",
      "0    0.372659\n",
      "Name: alone, dtype: float64\n"
     ]
    },
    {
     "data": {
      "image/png": "[encoded data removed]",
      "text/plain": [
       "<Figure size 432x288 with 1 Axes>"
      ]
     },
     "metadata": {
      "needs_background": "light"
     },
     "output_type": "display_data"
    },
    {
     "name": "stdout",
     "output_type": "stream",
     "text": [
      "\n"
     ]
    }
   ],
   "source": [
    "for col in col_cat:\n",
    "    print(col.upper())\n",
    "    print(train[col].value_counts())\n",
    "    print(train[col].value_counts(normalize=True))\n",
    "    train[col].value_counts().plot.bar()\n",
    "    plt.show()\n",
    "    print()"
   ]
  },
  {
   "cell_type": "markdown",
   "id": "92982789",
   "metadata": {},
   "source": [
    "Takeaways\n",
    "- there are no noteable issues\n",
    "- these are my categorical variables\n",
    "- survived is my target variable, and has more people who didn't survive\n"
   ]
  },
  {
   "cell_type": "markdown",
   "id": "0b6cb7da",
   "metadata": {},
   "source": [
    "#### numeric variables"
   ]
  },
  {
   "cell_type": "code",
   "execution_count": 19,
   "id": "4942a922",
   "metadata": {
    "scrolled": false
   },
   "outputs": [
    {
     "name": "stdout",
     "output_type": "stream",
     "text": [
      "PASSENGER_ID\n",
      "455    1\n",
      "868    1\n",
      "596    1\n",
      "97     1\n",
      "879    1\n",
      "      ..\n",
      "689    1\n",
      "867    1\n",
      "700    1\n",
      "173    1\n",
      "496    1\n",
      "Name: passenger_id, Length: 534, dtype: int64\n",
      "AxesSubplot(0.125,0.125;0.775x0.755)\n"
     ]
    },
    {
     "data": {
      "image/png": "[encoded data removed]",
      "text/plain": [
       "<Figure size 432x288 with 1 Axes>"
      ]
     },
     "metadata": {
      "needs_background": "light"
     },
     "output_type": "display_data"
    },
    {
     "name": "stdout",
     "output_type": "stream",
     "text": [
      "SIBSP\n",
      "0    378\n",
      "1    106\n",
      "2     22\n",
      "3     10\n",
      "4     10\n",
      "8      5\n",
      "5      3\n",
      "Name: sibsp, dtype: int64\n",
      "AxesSubplot(0.125,0.125;0.775x0.755)\n"
     ]
    },
    {
     "data": {
      "image/png": "[encoded data removed]",
      "text/plain": [
       "<Figure size 432x288 with 1 Axes>"
      ]
     },
     "metadata": {
      "needs_background": "light"
     },
     "output_type": "display_data"
    },
    {
     "name": "stdout",
     "output_type": "stream",
     "text": [
      "PARCH\n",
      "0    414\n",
      "1     67\n",
      "2     45\n",
      "3      4\n",
      "5      3\n",
      "4      1\n",
      "Name: parch, dtype: int64\n",
      "AxesSubplot(0.125,0.125;0.775x0.755)\n"
     ]
    },
    {
     "data": {
      "image/png": "[encoded data removed]",
      "text/plain": [
       "<Figure size 432x288 with 1 Axes>"
      ]
     },
     "metadata": {
      "needs_background": "light"
     },
     "output_type": "display_data"
    },
    {
     "name": "stdout",
     "output_type": "stream",
     "text": [
      "FARE\n",
      "13.0000    27\n",
      "7.8958     26\n",
      "8.0500     25\n",
      "7.7500     21\n",
      "26.0000    17\n",
      "           ..\n",
      "8.6833      1\n",
      "25.9250     1\n",
      "14.4000     1\n",
      "7.8875      1\n",
      "78.2667     1\n",
      "Name: fare, Length: 197, dtype: int64\n",
      "AxesSubplot(0.125,0.125;0.775x0.755)\n"
     ]
    },
    {
     "data": {
      "image/png": "[encoded data removed]",
      "text/plain": [
       "<Figure size 432x288 with 1 Axes>"
      ]
     },
     "metadata": {
      "needs_background": "light"
     },
     "output_type": "display_data"
    }
   ],
   "source": [
    "for col in col_num:\n",
    "    print(col.upper())\n",
    "    print(train[col].value_counts())\n",
    "    print(train[col].hist())\n",
    "    plt.show()"
   ]
  },
  {
   "cell_type": "markdown",
   "id": "13317b16",
   "metadata": {},
   "source": [
    "Takeaways\n",
    "- fare is not a normal distribution \n",
    "- for fare, in the future, bin higher values, and see if it is normally distributed\n",
    "- sibsp and parch has some outliers\n",
    "- sibsp and parch also have high number of discrete values, maybe we'll bin these in the future\n",
    "\n"
   ]
  },
  {
   "cell_type": "markdown",
   "id": "d7403943",
   "metadata": {},
   "source": [
    "### Bivariate Stats\n",
    "-USE TRAIN DATASET ONLY-\n",
    "\n",
    "1. Hypothesize\n",
    "2. Visualize\n",
    "3. Analyze (with statistics)\n",
    "4. Summarize"
   ]
  },
  {
   "cell_type": "code",
   "execution_count": 20,
   "id": "7f932586",
   "metadata": {},
   "outputs": [
    {
     "data": {
      "text/html": [
       "<div>\n",
       "<style scoped>\n",
       "    .dataframe tbody tr th:only-of-type {\n",
       "        vertical-align: middle;\n",
       "    }\n",
       "\n",
       "    .dataframe tbody tr th {\n",
       "        vertical-align: top;\n",
       "    }\n",
       "\n",
       "    .dataframe thead th {\n",
       "        text-align: right;\n",
       "    }\n",
       "</style>\n",
       "<table border=\"1\" class=\"dataframe\">\n",
       "  <thead>\n",
       "    <tr style=\"text-align: right;\">\n",
       "      <th></th>\n",
       "      <th>passenger_id</th>\n",
       "      <th>survived</th>\n",
       "      <th>pclass</th>\n",
       "      <th>sex</th>\n",
       "      <th>sibsp</th>\n",
       "      <th>parch</th>\n",
       "      <th>fare</th>\n",
       "      <th>embark_town</th>\n",
       "      <th>alone</th>\n",
       "      <th>sex_male</th>\n",
       "      <th>embark_town_Queenstown</th>\n",
       "      <th>embark_town_Southampton</th>\n",
       "    </tr>\n",
       "  </thead>\n",
       "  <tbody>\n",
       "    <tr>\n",
       "      <th>455</th>\n",
       "      <td>455</td>\n",
       "      <td>1</td>\n",
       "      <td>3</td>\n",
       "      <td>male</td>\n",
       "      <td>0</td>\n",
       "      <td>0</td>\n",
       "      <td>7.8958</td>\n",
       "      <td>Cherbourg</td>\n",
       "      <td>1</td>\n",
       "      <td>1</td>\n",
       "      <td>0</td>\n",
       "      <td>0</td>\n",
       "    </tr>\n",
       "    <tr>\n",
       "      <th>380</th>\n",
       "      <td>380</td>\n",
       "      <td>1</td>\n",
       "      <td>1</td>\n",
       "      <td>female</td>\n",
       "      <td>0</td>\n",
       "      <td>0</td>\n",
       "      <td>227.5250</td>\n",
       "      <td>Cherbourg</td>\n",
       "      <td>1</td>\n",
       "      <td>0</td>\n",
       "      <td>0</td>\n",
       "      <td>0</td>\n",
       "    </tr>\n",
       "    <tr>\n",
       "      <th>492</th>\n",
       "      <td>492</td>\n",
       "      <td>0</td>\n",
       "      <td>1</td>\n",
       "      <td>male</td>\n",
       "      <td>0</td>\n",
       "      <td>0</td>\n",
       "      <td>30.5000</td>\n",
       "      <td>Southampton</td>\n",
       "      <td>1</td>\n",
       "      <td>1</td>\n",
       "      <td>0</td>\n",
       "      <td>1</td>\n",
       "    </tr>\n",
       "    <tr>\n",
       "      <th>55</th>\n",
       "      <td>55</td>\n",
       "      <td>1</td>\n",
       "      <td>1</td>\n",
       "      <td>male</td>\n",
       "      <td>0</td>\n",
       "      <td>0</td>\n",
       "      <td>35.5000</td>\n",
       "      <td>Southampton</td>\n",
       "      <td>1</td>\n",
       "      <td>1</td>\n",
       "      <td>0</td>\n",
       "      <td>1</td>\n",
       "    </tr>\n",
       "    <tr>\n",
       "      <th>243</th>\n",
       "      <td>243</td>\n",
       "      <td>0</td>\n",
       "      <td>3</td>\n",
       "      <td>male</td>\n",
       "      <td>0</td>\n",
       "      <td>0</td>\n",
       "      <td>7.1250</td>\n",
       "      <td>Southampton</td>\n",
       "      <td>1</td>\n",
       "      <td>1</td>\n",
       "      <td>0</td>\n",
       "      <td>1</td>\n",
       "    </tr>\n",
       "  </tbody>\n",
       "</table>\n",
       "</div>"
      ],
      "text/plain": [
       "     passenger_id  survived  pclass     sex  sibsp  parch      fare  \\\n",
       "455           455         1       3    male      0      0    7.8958   \n",
       "380           380         1       1  female      0      0  227.5250   \n",
       "492           492         0       1    male      0      0   30.5000   \n",
       "55             55         1       1    male      0      0   35.5000   \n",
       "243           243         0       3    male      0      0    7.1250   \n",
       "\n",
       "     embark_town  alone  sex_male  embark_town_Queenstown  \\\n",
       "455    Cherbourg      1         1                       0   \n",
       "380    Cherbourg      1         0                       0   \n",
       "492  Southampton      1         1                       0   \n",
       "55   Southampton      1         1                       0   \n",
       "243  Southampton      1         1                       0   \n",
       "\n",
       "     embark_town_Southampton  \n",
       "455                        0  \n",
       "380                        0  \n",
       "492                        1  \n",
       "55                         1  \n",
       "243                        1  "
      ]
     },
     "execution_count": 20,
     "metadata": {},
     "output_type": "execute_result"
    }
   ],
   "source": [
    "train.head()"
   ]
  },
  {
   "cell_type": "markdown",
   "id": "0956d540",
   "metadata": {},
   "source": [
    "#### 1. Hypothesize"
   ]
  },
  {
   "cell_type": "markdown",
   "id": "c7135880",
   "metadata": {},
   "source": [
    "Q: does pclass affect whether or note someone survived?\n",
    "\n",
    "what type of variables am i comparing?\n",
    "- pclass: categorical\n",
    "- survived: categorical "
   ]
  },
  {
   "cell_type": "markdown",
   "id": "672abce6",
   "metadata": {},
   "source": [
    "#### 2. Visualize\n",
    "\n",
    "what type of plot can i use for this?\n",
    "- barplot"
   ]
  },
  {
   "cell_type": "code",
   "execution_count": 22,
   "id": "af86994c",
   "metadata": {},
   "outputs": [
    {
     "data": {
      "image/png": "[encoded data removed]",
      "text/plain": [
       "<Figure size 432x288 with 1 Axes>"
      ]
     },
     "metadata": {
      "needs_background": "light"
     },
     "output_type": "display_data"
    }
   ],
   "source": [
    "sns.barplot(data=train, x='pclass', y='survived')\n",
    "plt.show()"
   ]
  },
  {
   "cell_type": "markdown",
   "id": "f2a51777",
   "metadata": {},
   "source": [
    "#### 3. Analyze (with stats)"
   ]
  },
  {
   "cell_type": "markdown",
   "id": "e9db4aa6",
   "metadata": {},
   "source": [
    "what type of stats test should i use for this?\n",
    "- chi^2\n",
    "\n",
    "\n",
    "$H_0$: pclass is independent of survived\n",
    "\n",
    "$H_a$: pclass is dependent of survived\n",
    "\n",
    "alpha = 0.05"
   ]
  },
  {
   "cell_type": "code",
   "execution_count": 24,
   "id": "4c0a3472",
   "metadata": {},
   "outputs": [
    {
     "data": {
      "text/html": [
       "<div>\n",
       "<style scoped>\n",
       "    .dataframe tbody tr th:only-of-type {\n",
       "        vertical-align: middle;\n",
       "    }\n",
       "\n",
       "    .dataframe tbody tr th {\n",
       "        vertical-align: top;\n",
       "    }\n",
       "\n",
       "    .dataframe thead th {\n",
       "        text-align: right;\n",
       "    }\n",
       "</style>\n",
       "<table border=\"1\" class=\"dataframe\">\n",
       "  <thead>\n",
       "    <tr style=\"text-align: right;\">\n",
       "      <th>survived</th>\n",
       "      <th>0</th>\n",
       "      <th>1</th>\n",
       "    </tr>\n",
       "    <tr>\n",
       "      <th>pclass</th>\n",
       "      <th></th>\n",
       "      <th></th>\n",
       "    </tr>\n",
       "  </thead>\n",
       "  <tbody>\n",
       "    <tr>\n",
       "      <th>1</th>\n",
       "      <td>46</td>\n",
       "      <td>76</td>\n",
       "    </tr>\n",
       "    <tr>\n",
       "      <th>2</th>\n",
       "      <td>60</td>\n",
       "      <td>57</td>\n",
       "    </tr>\n",
       "    <tr>\n",
       "      <th>3</th>\n",
       "      <td>223</td>\n",
       "      <td>72</td>\n",
       "    </tr>\n",
       "  </tbody>\n",
       "</table>\n",
       "</div>"
      ],
      "text/plain": [
       "survived    0   1\n",
       "pclass           \n",
       "1          46  76\n",
       "2          60  57\n",
       "3         223  72"
      ]
     },
     "execution_count": 24,
     "metadata": {},
     "output_type": "execute_result"
    }
   ],
   "source": [
    "#only using my train dataset\n",
    "observed = pd.crosstab(train.pclass, train.survived)\n",
    "observed"
   ]
  },
  {
   "cell_type": "code",
   "execution_count": 25,
   "id": "1d1ad3d5",
   "metadata": {},
   "outputs": [],
   "source": [
    "chi2, p, degf, expected = stats.chi2_contingency(observed)"
   ]
  },
  {
   "cell_type": "code",
   "execution_count": 26,
   "id": "366be030",
   "metadata": {},
   "outputs": [
    {
     "data": {
      "text/plain": [
       "1.4382038993307037e-13"
      ]
     },
     "execution_count": 26,
     "metadata": {},
     "output_type": "execute_result"
    }
   ],
   "source": [
    "p"
   ]
  },
  {
   "cell_type": "markdown",
   "id": "a4d33745",
   "metadata": {},
   "source": [
    "The p-value is less than alpha, therefore, we reject the null hypothesis"
   ]
  },
  {
   "cell_type": "markdown",
   "id": "71ed55fc",
   "metadata": {},
   "source": [
    "#### 4. Summarize"
   ]
  },
  {
   "cell_type": "markdown",
   "id": "743aed77",
   "metadata": {},
   "source": [
    "There IS a relationship between the passenger class (pclass) and whether or not they survived. "
   ]
  },
  {
   "cell_type": "markdown",
   "id": "f874636b",
   "metadata": {},
   "source": [
    "### Repeat"
   ]
  },
  {
   "cell_type": "code",
   "execution_count": 27,
   "id": "33fdb51c",
   "metadata": {},
   "outputs": [
    {
     "data": {
      "text/html": [
       "<div>\n",
       "<style scoped>\n",
       "    .dataframe tbody tr th:only-of-type {\n",
       "        vertical-align: middle;\n",
       "    }\n",
       "\n",
       "    .dataframe tbody tr th {\n",
       "        vertical-align: top;\n",
       "    }\n",
       "\n",
       "    .dataframe thead th {\n",
       "        text-align: right;\n",
       "    }\n",
       "</style>\n",
       "<table border=\"1\" class=\"dataframe\">\n",
       "  <thead>\n",
       "    <tr style=\"text-align: right;\">\n",
       "      <th></th>\n",
       "      <th>passenger_id</th>\n",
       "      <th>survived</th>\n",
       "      <th>pclass</th>\n",
       "      <th>sex</th>\n",
       "      <th>sibsp</th>\n",
       "      <th>parch</th>\n",
       "      <th>fare</th>\n",
       "      <th>embark_town</th>\n",
       "      <th>alone</th>\n",
       "      <th>sex_male</th>\n",
       "      <th>embark_town_Queenstown</th>\n",
       "      <th>embark_town_Southampton</th>\n",
       "    </tr>\n",
       "  </thead>\n",
       "  <tbody>\n",
       "    <tr>\n",
       "      <th>455</th>\n",
       "      <td>455</td>\n",
       "      <td>1</td>\n",
       "      <td>3</td>\n",
       "      <td>male</td>\n",
       "      <td>0</td>\n",
       "      <td>0</td>\n",
       "      <td>7.8958</td>\n",
       "      <td>Cherbourg</td>\n",
       "      <td>1</td>\n",
       "      <td>1</td>\n",
       "      <td>0</td>\n",
       "      <td>0</td>\n",
       "    </tr>\n",
       "    <tr>\n",
       "      <th>380</th>\n",
       "      <td>380</td>\n",
       "      <td>1</td>\n",
       "      <td>1</td>\n",
       "      <td>female</td>\n",
       "      <td>0</td>\n",
       "      <td>0</td>\n",
       "      <td>227.5250</td>\n",
       "      <td>Cherbourg</td>\n",
       "      <td>1</td>\n",
       "      <td>0</td>\n",
       "      <td>0</td>\n",
       "      <td>0</td>\n",
       "    </tr>\n",
       "    <tr>\n",
       "      <th>492</th>\n",
       "      <td>492</td>\n",
       "      <td>0</td>\n",
       "      <td>1</td>\n",
       "      <td>male</td>\n",
       "      <td>0</td>\n",
       "      <td>0</td>\n",
       "      <td>30.5000</td>\n",
       "      <td>Southampton</td>\n",
       "      <td>1</td>\n",
       "      <td>1</td>\n",
       "      <td>0</td>\n",
       "      <td>1</td>\n",
       "    </tr>\n",
       "    <tr>\n",
       "      <th>55</th>\n",
       "      <td>55</td>\n",
       "      <td>1</td>\n",
       "      <td>1</td>\n",
       "      <td>male</td>\n",
       "      <td>0</td>\n",
       "      <td>0</td>\n",
       "      <td>35.5000</td>\n",
       "      <td>Southampton</td>\n",
       "      <td>1</td>\n",
       "      <td>1</td>\n",
       "      <td>0</td>\n",
       "      <td>1</td>\n",
       "    </tr>\n",
       "    <tr>\n",
       "      <th>243</th>\n",
       "      <td>243</td>\n",
       "      <td>0</td>\n",
       "      <td>3</td>\n",
       "      <td>male</td>\n",
       "      <td>0</td>\n",
       "      <td>0</td>\n",
       "      <td>7.1250</td>\n",
       "      <td>Southampton</td>\n",
       "      <td>1</td>\n",
       "      <td>1</td>\n",
       "      <td>0</td>\n",
       "      <td>1</td>\n",
       "    </tr>\n",
       "  </tbody>\n",
       "</table>\n",
       "</div>"
      ],
      "text/plain": [
       "     passenger_id  survived  pclass     sex  sibsp  parch      fare  \\\n",
       "455           455         1       3    male      0      0    7.8958   \n",
       "380           380         1       1  female      0      0  227.5250   \n",
       "492           492         0       1    male      0      0   30.5000   \n",
       "55             55         1       1    male      0      0   35.5000   \n",
       "243           243         0       3    male      0      0    7.1250   \n",
       "\n",
       "     embark_town  alone  sex_male  embark_town_Queenstown  \\\n",
       "455    Cherbourg      1         1                       0   \n",
       "380    Cherbourg      1         0                       0   \n",
       "492  Southampton      1         1                       0   \n",
       "55   Southampton      1         1                       0   \n",
       "243  Southampton      1         1                       0   \n",
       "\n",
       "     embark_town_Southampton  \n",
       "455                        0  \n",
       "380                        0  \n",
       "492                        1  \n",
       "55                         1  \n",
       "243                        1  "
      ]
     },
     "execution_count": 27,
     "metadata": {},
     "output_type": "execute_result"
    }
   ],
   "source": [
    "train.head()"
   ]
  },
  {
   "cell_type": "markdown",
   "id": "0771e69d",
   "metadata": {},
   "source": [
    "#### 1. Hypothesize"
   ]
  },
  {
   "cell_type": "markdown",
   "id": "2b3f24bb",
   "metadata": {},
   "source": [
    "Q: does fare incidate whether or not someone survived? "
   ]
  },
  {
   "cell_type": "markdown",
   "id": "012fd15b",
   "metadata": {},
   "source": [
    "what type of variables am i comparing?\n",
    "- fare is continuous\n",
    "- survived is categorical"
   ]
  },
  {
   "cell_type": "markdown",
   "id": "33ee45ca",
   "metadata": {},
   "source": [
    "#### 2. Visualize"
   ]
  },
  {
   "cell_type": "markdown",
   "id": "64872817",
   "metadata": {},
   "source": [
    "what kind of plot can i use? \n",
    "- boxplot\n",
    "- swarmplot\n",
    "- violinplot\n",
    "- stripplot "
   ]
  },
  {
   "cell_type": "code",
   "execution_count": 36,
   "id": "aa243e81",
   "metadata": {},
   "outputs": [
    {
     "data": {
      "image/png": "[encoded data removed]",
      "text/plain": [
       "<Figure size 432x288 with 1 Axes>"
      ]
     },
     "metadata": {
      "needs_background": "light"
     },
     "output_type": "display_data"
    }
   ],
   "source": [
    "# plt.figure(figsize=(12,6))\n",
    "sns.boxplot(data=train, x='survived', y='fare')\n",
    "plt.show()"
   ]
  },
  {
   "cell_type": "code",
   "execution_count": 40,
   "id": "9b8bef54",
   "metadata": {},
   "outputs": [
    {
     "data": {
      "image/png": "[encoded data removed]",
      "text/plain": [
       "<Figure size 432x288 with 1 Axes>"
      ]
     },
     "metadata": {
      "needs_background": "light"
     },
     "output_type": "display_data"
    }
   ],
   "source": [
    "sns.violinplot(data=train, x='survived', y='fare');"
   ]
  },
  {
   "cell_type": "markdown",
   "id": "6f1d212f",
   "metadata": {},
   "source": [
    "Our categorical variable should be on our x-axis, since our x-axis is our unique violin or unique box, and we need to be able to see each unique value"
   ]
  },
  {
   "cell_type": "markdown",
   "id": "79b77b67",
   "metadata": {},
   "source": [
    "#### 3. Analyze (with statistics)"
   ]
  },
  {
   "cell_type": "markdown",
   "id": "f5d08499",
   "metadata": {},
   "source": [
    "what type of test should i use for this?\n",
    "- ttest\n",
    "\n",
    "\n",
    "is my continuous value normally distributed?\n",
    "- no, so this means we cant use ttest\n",
    "\n",
    "\n",
    "am i comparing subpopulations to each other or a subpopulation to an overall population?\n",
    "- we are comparing subpopulations to each other\n",
    "\n",
    "A: mann-whitney\n",
    "\n"
   ]
  },
  {
   "cell_type": "markdown",
   "id": "42d0cae7",
   "metadata": {},
   "source": [
    "$H_0$: the mean of fare for people who survived and who didn't survive is the same\n",
    "\n",
    "$H_a$: the mean of fare for people who survived and who didn't survive is different\n",
    "\n",
    "alpha = 0.05"
   ]
  },
  {
   "cell_type": "code",
   "execution_count": 43,
   "id": "aaf914d6",
   "metadata": {},
   "outputs": [],
   "source": [
    "surv_no_fare = train [train.survived == 0].fare\n",
    "\n",
    "surv_yes_far = train [train.survived == 1].fare"
   ]
  },
  {
   "cell_type": "code",
   "execution_count": 45,
   "id": "92d7744f",
   "metadata": {},
   "outputs": [
    {
     "data": {
      "text/plain": [
       "6.831548944972857e-13"
      ]
     },
     "execution_count": 45,
     "metadata": {},
     "output_type": "execute_result"
    }
   ],
   "source": [
    "t, p = stats.mannwhitneyu(surv_no_fare, surv_yes_far)\n",
    "p"
   ]
  },
  {
   "cell_type": "markdown",
   "id": "cfaf726a",
   "metadata": {},
   "source": [
    "We reject the null hypothesis"
   ]
  },
  {
   "cell_type": "markdown",
   "id": "4bdda36e",
   "metadata": {},
   "source": [
    "#### 4. Summarize"
   ]
  },
  {
   "cell_type": "markdown",
   "id": "117c7de0",
   "metadata": {},
   "source": [
    "There is a difference in the fare for people who did survive and people who didn't survive"
   ]
  },
  {
   "cell_type": "markdown",
   "id": "a1051983",
   "metadata": {},
   "source": [
    "### Multivariate Stats\n",
    "-USE TRAIN DATASET ONLY-\n",
    "\n",
    "- can ask more targeted questions, like subgroup vs subgroup vs catergory\n",
    "- multivariate statistical tests exist, but are outside the scope of this course.\n",
    "\n",
    "1. Hypothesize\n",
    "2. Visualize\n",
    "3. ~Analyze (with statistics)~\n",
    "4. Summarize\n"
   ]
  },
  {
   "cell_type": "code",
   "execution_count": 47,
   "id": "dec33a66",
   "metadata": {},
   "outputs": [
    {
     "data": {
      "text/html": [
       "<div>\n",
       "<style scoped>\n",
       "    .dataframe tbody tr th:only-of-type {\n",
       "        vertical-align: middle;\n",
       "    }\n",
       "\n",
       "    .dataframe tbody tr th {\n",
       "        vertical-align: top;\n",
       "    }\n",
       "\n",
       "    .dataframe thead th {\n",
       "        text-align: right;\n",
       "    }\n",
       "</style>\n",
       "<table border=\"1\" class=\"dataframe\">\n",
       "  <thead>\n",
       "    <tr style=\"text-align: right;\">\n",
       "      <th></th>\n",
       "      <th>passenger_id</th>\n",
       "      <th>survived</th>\n",
       "      <th>pclass</th>\n",
       "      <th>sex</th>\n",
       "      <th>sibsp</th>\n",
       "      <th>parch</th>\n",
       "      <th>fare</th>\n",
       "      <th>embark_town</th>\n",
       "      <th>alone</th>\n",
       "      <th>sex_male</th>\n",
       "      <th>embark_town_Queenstown</th>\n",
       "      <th>embark_town_Southampton</th>\n",
       "    </tr>\n",
       "  </thead>\n",
       "  <tbody>\n",
       "    <tr>\n",
       "      <th>455</th>\n",
       "      <td>455</td>\n",
       "      <td>1</td>\n",
       "      <td>3</td>\n",
       "      <td>male</td>\n",
       "      <td>0</td>\n",
       "      <td>0</td>\n",
       "      <td>7.8958</td>\n",
       "      <td>Cherbourg</td>\n",
       "      <td>1</td>\n",
       "      <td>1</td>\n",
       "      <td>0</td>\n",
       "      <td>0</td>\n",
       "    </tr>\n",
       "    <tr>\n",
       "      <th>380</th>\n",
       "      <td>380</td>\n",
       "      <td>1</td>\n",
       "      <td>1</td>\n",
       "      <td>female</td>\n",
       "      <td>0</td>\n",
       "      <td>0</td>\n",
       "      <td>227.5250</td>\n",
       "      <td>Cherbourg</td>\n",
       "      <td>1</td>\n",
       "      <td>0</td>\n",
       "      <td>0</td>\n",
       "      <td>0</td>\n",
       "    </tr>\n",
       "    <tr>\n",
       "      <th>492</th>\n",
       "      <td>492</td>\n",
       "      <td>0</td>\n",
       "      <td>1</td>\n",
       "      <td>male</td>\n",
       "      <td>0</td>\n",
       "      <td>0</td>\n",
       "      <td>30.5000</td>\n",
       "      <td>Southampton</td>\n",
       "      <td>1</td>\n",
       "      <td>1</td>\n",
       "      <td>0</td>\n",
       "      <td>1</td>\n",
       "    </tr>\n",
       "    <tr>\n",
       "      <th>55</th>\n",
       "      <td>55</td>\n",
       "      <td>1</td>\n",
       "      <td>1</td>\n",
       "      <td>male</td>\n",
       "      <td>0</td>\n",
       "      <td>0</td>\n",
       "      <td>35.5000</td>\n",
       "      <td>Southampton</td>\n",
       "      <td>1</td>\n",
       "      <td>1</td>\n",
       "      <td>0</td>\n",
       "      <td>1</td>\n",
       "    </tr>\n",
       "    <tr>\n",
       "      <th>243</th>\n",
       "      <td>243</td>\n",
       "      <td>0</td>\n",
       "      <td>3</td>\n",
       "      <td>male</td>\n",
       "      <td>0</td>\n",
       "      <td>0</td>\n",
       "      <td>7.1250</td>\n",
       "      <td>Southampton</td>\n",
       "      <td>1</td>\n",
       "      <td>1</td>\n",
       "      <td>0</td>\n",
       "      <td>1</td>\n",
       "    </tr>\n",
       "  </tbody>\n",
       "</table>\n",
       "</div>"
      ],
      "text/plain": [
       "     passenger_id  survived  pclass     sex  sibsp  parch      fare  \\\n",
       "455           455         1       3    male      0      0    7.8958   \n",
       "380           380         1       1  female      0      0  227.5250   \n",
       "492           492         0       1    male      0      0   30.5000   \n",
       "55             55         1       1    male      0      0   35.5000   \n",
       "243           243         0       3    male      0      0    7.1250   \n",
       "\n",
       "     embark_town  alone  sex_male  embark_town_Queenstown  \\\n",
       "455    Cherbourg      1         1                       0   \n",
       "380    Cherbourg      1         0                       0   \n",
       "492  Southampton      1         1                       0   \n",
       "55   Southampton      1         1                       0   \n",
       "243  Southampton      1         1                       0   \n",
       "\n",
       "     embark_town_Southampton  \n",
       "455                        0  \n",
       "380                        0  \n",
       "492                        1  \n",
       "55                         1  \n",
       "243                        1  "
      ]
     },
     "execution_count": 47,
     "metadata": {},
     "output_type": "execute_result"
    }
   ],
   "source": [
    "train.head()"
   ]
  },
  {
   "cell_type": "markdown",
   "id": "e2b9f362",
   "metadata": {},
   "source": [
    "#### 1. Hypothesize"
   ]
  },
  {
   "cell_type": "markdown",
   "id": "5f118c30",
   "metadata": {},
   "source": [
    "Q: do males have a greater chance of survival when traveling alone?\n",
    "\n",
    "- sex: categorical\n",
    "- alone: categorical\n",
    "- survive: categorical"
   ]
  },
  {
   "cell_type": "markdown",
   "id": "39343c8a",
   "metadata": {},
   "source": [
    "#### 2. Visualize"
   ]
  },
  {
   "cell_type": "code",
   "execution_count": 50,
   "id": "a802022c",
   "metadata": {},
   "outputs": [
    {
     "data": {
      "text/plain": [
       "<AxesSubplot:xlabel='sex', ylabel='survived'>"
      ]
     },
     "execution_count": 50,
     "metadata": {},
     "output_type": "execute_result"
    },
    {
     "data": {
      "image/png": "[encoded data removed]",
      "text/plain": [
       "<Figure size 432x288 with 1 Axes>"
      ]
     },
     "metadata": {
      "needs_background": "light"
     },
     "output_type": "display_data"
    }
   ],
   "source": [
    "sns.barplot(data=train, x='sex', y='survived')"
   ]
  },
  {
   "cell_type": "code",
   "execution_count": 51,
   "id": "c3a1091e",
   "metadata": {},
   "outputs": [
    {
     "data": {
      "image/png": "[encoded data removed]",
      "text/plain": [
       "<Figure size 432x288 with 1 Axes>"
      ]
     },
     "metadata": {
      "needs_background": "light"
     },
     "output_type": "display_data"
    }
   ],
   "source": [
    "sns.barplot(data=train, x='sex', y='survived', hue='alone')\n",
    "plt.show()"
   ]
  },
  {
   "cell_type": "markdown",
   "id": "1c22c878",
   "metadata": {},
   "source": [
    "#### 3. Summarize"
   ]
  },
  {
   "cell_type": "markdown",
   "id": "6312bbe5",
   "metadata": {},
   "source": [
    "- females are more likely to survive\n",
    "- looks like men traveling alone survive less than men not traveling alone"
   ]
  },
  {
   "cell_type": "markdown",
   "id": "eaa9a559",
   "metadata": {},
   "source": [
    "## Explore Conclusions\n",
    "note: this is a summary of all of our takeaways in the explore section"
   ]
  },
  {
   "cell_type": "markdown",
   "id": "9f2b420f",
   "metadata": {},
   "source": [
    "- passenger class affected survival rates\n",
    "- fare also affected survival rates\n",
    "- males survived way less than females, and were least likely to survive when traveling alone\n"
   ]
  },
  {
   "cell_type": "markdown",
   "id": "dff77a6b",
   "metadata": {},
   "source": [
    "### Final notes on exploring"
   ]
  },
  {
   "cell_type": "markdown",
   "id": "6d5987c9",
   "metadata": {},
   "source": [
    "How much time do you think it will take to explore all of your features and how they relate to your target variable? \n",
    "- a lot of time\n",
    "\n",
    "Therefore, you have to PRIORITIZE the features you want to compare\n",
    "- use your domain knowledge\n",
    "- you can also rotate your relationships with a for loop (at the beginning of explore)\n",
    "    - maybe look at a pairplot\n"
   ]
  },
  {
   "cell_type": "markdown",
   "id": "56582585",
   "metadata": {},
   "source": [
    "### With more time, reiterate\n",
    "As you have more time, you can reiterate and go back through and investigate more features. \n",
    "\n",
    "Recall how we dropped the age column completetly since 20% of the values were missing? \n",
    "- add back that column \n",
    "    - maybe drop all the rows with nulls instead\n",
    "    - maybe try to replace those null values with some other value, maybe by group?\n",
    "- investigate how age affects survival now"
   ]
  },
  {
   "cell_type": "markdown",
   "id": "1dd3d14a",
   "metadata": {},
   "source": [
    "### Make sure you're documenting takeaways throughout your exploration! "
   ]
  },
  {
   "cell_type": "code",
   "execution_count": null,
   "id": "8ba2916d",
   "metadata": {},
   "outputs": [],
   "source": []
  }
 ],
 "metadata": {
  "kernelspec": {
   "display_name": "Python 3 (ipykernel)",
   "language": "python",
   "name": "python3"
  },
  "language_info": {
   "codemirror_mode": {
    "name": "ipython",
    "version": 3
   },
   "file_extension": ".py",
   "mimetype": "text/x-python",
   "name": "python",
   "nbconvert_exporter": "python",
   "pygments_lexer": "ipython3",
   "version": "3.9.12"
  }
 },
 "nbformat": 4,
 "nbformat_minor": 5
}
