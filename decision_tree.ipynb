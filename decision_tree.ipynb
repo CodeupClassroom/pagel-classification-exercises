{
 "cells": [
  {
   "cell_type": "markdown",
   "id": "ab2ab9f7",
   "metadata": {},
   "source": [
    "# Modeling - Decision Tree\n",
    "\n"
   ]
  },
  {
   "cell_type": "markdown",
   "id": "90ddfa4f",
   "metadata": {},
   "source": [
    "What is it?\n",
    "- a machine learning algorithm used for predicting categorical target variables\n",
    "- Pipeline: Plan - Acquire - Prepare - Explore - **Model** - Deliver\n",
    "\n",
    "Why do we care?\n",
    "- we can predict future target variables based on the model we build! \n",
    "\n",
    "How does it work?\n",
    "- [slides we already saw](https://docs.google.com/presentation/d/12Sl-6X5hVJPXGel0-cMeWVI_iw4DDWQiXXrvU_o17gY/edit?usp=sharing)\n",
    "\n",
    "How do we use it?\n",
    "- acquire, prepare, explore our data\n",
    "- split data for modeling\n",
    "- build models on train\n",
    "    - create rules based on our input data\n",
    "- evaluate models on validate\n",
    "    - see how our rules work on unseen data\n",
    "- pick best of the best model, and evaluate bestest model on test"
   ]
  },
  {
   "cell_type": "markdown",
   "id": "6d7d3c50",
   "metadata": {},
   "source": [
    "## Show us!"
   ]
  },
  {
   "cell_type": "code",
   "execution_count": 506,
   "id": "8c61f211",
   "metadata": {},
   "outputs": [],
   "source": [
    "import pandas as pd\n",
    "import numpy as np\n",
    "\n",
    "import matplotlib.pyplot as plt\n",
    "import seaborn as sns\n",
    "\n",
    "from io import StringIO\n",
    "\n",
    "import acquire\n",
    "import prepare"
   ]
  },
  {
   "cell_type": "markdown",
   "id": "0399f2f9",
   "metadata": {},
   "source": [
    "## Example - simple"
   ]
  },
  {
   "cell_type": "markdown",
   "id": "59f688a0",
   "metadata": {},
   "source": [
    "#### SKLEARN Modeling Process\n",
    "0. split into features and target variable\n",
    "1. make the object\n",
    "2. fit the object\n",
    "3. transform the object"
   ]
  },
  {
   "cell_type": "code",
   "execution_count": 507,
   "id": "98d5a346",
   "metadata": {},
   "outputs": [],
   "source": [
    "# Example data from the lesson\n",
    "df = pd.read_csv(\n",
    "    StringIO('''\n",
    "Yes,Yes,7,No\n",
    "Yes,No,12,No\n",
    "No,Yes,18,Yes\n",
    "No,Yes,35,Yes\n",
    "Yes,Yes,38,Yes\n",
    "Yes,No,50,No\n",
    "No,No,83,No\n",
    "        '''), \n",
    "    names=['loves_cats','loves_dogs','age', 'loves_nicholas_cage'])"
   ]
  },
  {
   "cell_type": "code",
   "execution_count": 508,
   "id": "1f1d4882",
   "metadata": {},
   "outputs": [],
   "source": [
    "#look at the data\n"
   ]
  },
  {
   "cell_type": "markdown",
   "id": "2ed8cba3",
   "metadata": {},
   "source": [
    "#### 0. split into features and target variable\n",
    "- X \n",
    "- y "
   ]
  },
  {
   "cell_type": "code",
   "execution_count": 509,
   "id": "e12aec64",
   "metadata": {},
   "outputs": [],
   "source": [
    "#lets just use age\n"
   ]
  },
  {
   "cell_type": "code",
   "execution_count": 510,
   "id": "31e3eca6",
   "metadata": {},
   "outputs": [],
   "source": [
    "#isloate target variable\n"
   ]
  },
  {
   "cell_type": "markdown",
   "id": "3bcb8d24",
   "metadata": {},
   "source": [
    "Note: "
   ]
  },
  {
   "cell_type": "markdown",
   "id": "eda458c8",
   "metadata": {},
   "source": [
    "#### 1. make the object"
   ]
  },
  {
   "cell_type": "markdown",
   "id": "0c1a1c93",
   "metadata": {},
   "source": [
    "- the object we are making is our decision tree \n",
    "- none of our data is input during this phase\n",
    "- this is initializing the algorithm"
   ]
  },
  {
   "cell_type": "code",
   "execution_count": 521,
   "id": "01bb664b",
   "metadata": {},
   "outputs": [],
   "source": [
    "#import! \n"
   ]
  },
  {
   "cell_type": "code",
   "execution_count": 522,
   "id": "5687cc30",
   "metadata": {},
   "outputs": [],
   "source": [
    "#make it!\n"
   ]
  },
  {
   "cell_type": "markdown",
   "id": "c75e6420",
   "metadata": {},
   "source": [
    "#### 2. fit the object"
   ]
  },
  {
   "cell_type": "markdown",
   "id": "8cba3eef",
   "metadata": {},
   "source": [
    "- now we fit our decision tree object to our features and target variable\n",
    "- we do not need to save over our variable, it has been altered\n",
    "- this is creating our model"
   ]
  },
  {
   "cell_type": "code",
   "execution_count": 523,
   "id": "d7e2e8b0",
   "metadata": {},
   "outputs": [],
   "source": [
    "# fit it!\n"
   ]
  },
  {
   "cell_type": "markdown",
   "id": "433c356b",
   "metadata": {},
   "source": [
    "#### 3. transform the object\n",
    "- there are different ways to transform the object\n",
    "- `.score` will return us the accuracy of our model"
   ]
  },
  {
   "cell_type": "code",
   "execution_count": 524,
   "id": "bf758085",
   "metadata": {},
   "outputs": [],
   "source": [
    "#transform it!\n"
   ]
  },
  {
   "cell_type": "markdown",
   "id": "764b038f",
   "metadata": {},
   "source": [
    "## Example - Iris Dataset"
   ]
  },
  {
   "cell_type": "markdown",
   "id": "2c25f5de",
   "metadata": {},
   "source": [
    "See it in the data science pipeline!"
   ]
  },
  {
   "cell_type": "markdown",
   "id": "4acd5ddb",
   "metadata": {},
   "source": [
    "### Acquire"
   ]
  },
  {
   "cell_type": "code",
   "execution_count": 529,
   "id": "2de526a3",
   "metadata": {},
   "outputs": [],
   "source": [
    "#get my iris data\n"
   ]
  },
  {
   "cell_type": "code",
   "execution_count": 530,
   "id": "9fca95fc",
   "metadata": {},
   "outputs": [],
   "source": [
    "#look at it\n"
   ]
  },
  {
   "cell_type": "markdown",
   "id": "e1c8d96b",
   "metadata": {},
   "source": [
    "### Prepare"
   ]
  },
  {
   "cell_type": "code",
   "execution_count": 532,
   "id": "0da83351",
   "metadata": {},
   "outputs": [],
   "source": [
    "#clean my data\n"
   ]
  },
  {
   "cell_type": "code",
   "execution_count": 533,
   "id": "c031300f",
   "metadata": {},
   "outputs": [],
   "source": [
    "#split my data\n"
   ]
  },
  {
   "cell_type": "code",
   "execution_count": 534,
   "id": "cba0e420",
   "metadata": {},
   "outputs": [],
   "source": [
    "#look at my train\n"
   ]
  },
  {
   "cell_type": "markdown",
   "id": "1b6bd1e6",
   "metadata": {},
   "source": [
    "### Explore"
   ]
  },
  {
   "cell_type": "markdown",
   "id": "8aeb3247",
   "metadata": {},
   "source": [
    "completed the following steps on my features and target variable\n",
    "1. \n",
    "2. \n",
    "3. \n",
    "4. "
   ]
  },
  {
   "cell_type": "markdown",
   "id": "8792268a",
   "metadata": {},
   "source": [
    "these steps arent written out here, however, i found that petal width and petal length identified species the most"
   ]
  },
  {
   "cell_type": "markdown",
   "id": "507dafd9",
   "metadata": {},
   "source": [
    "### Model"
   ]
  },
  {
   "cell_type": "markdown",
   "id": "8059c6f9",
   "metadata": {},
   "source": [
    "Before we put anything into our machine learning model, we will want to establish a baseline predication"
   ]
  },
  {
   "cell_type": "markdown",
   "id": "a92fc763",
   "metadata": {},
   "source": [
    "#### Baseline"
   ]
  },
  {
   "cell_type": "code",
   "execution_count": 537,
   "id": "9a6eb5d7",
   "metadata": {},
   "outputs": [],
   "source": [
    "#find most common species\n"
   ]
  },
  {
   "cell_type": "markdown",
   "id": "d0d01f77",
   "metadata": {},
   "source": [
    "Since there is not a most common class, it doesn't matter which one we choose.  "
   ]
  },
  {
   "cell_type": "code",
   "execution_count": 538,
   "id": "f81491fe",
   "metadata": {},
   "outputs": [],
   "source": [
    "#calculate baseline accuracy\n"
   ]
  },
  {
   "cell_type": "markdown",
   "id": "0a892a10",
   "metadata": {},
   "source": [
    "#### 0. split into features and target variable\n",
    "- need to do this on my train, validate, and test dataframe\n",
    "- will end up with the following variables:\n",
    "    - X_train, X_validate, X_test: all the features we plan to put into our model\n",
    "    - y_train, y_validate, y_test: the targete variable"
   ]
  },
  {
   "attachments": {
    "image-2.png": {
     "image/png": "[encoded data removed]"
    }
   },
   "cell_type": "markdown",
   "id": "7e5bbccd",
   "metadata": {},
   "source": [
    "![image-2.png](attachment:image-2.png)"
   ]
  },
  {
   "cell_type": "code",
   "execution_count": 540,
   "id": "a80ce0d0",
   "metadata": {},
   "outputs": [],
   "source": [
    "#look at train\n"
   ]
  },
  {
   "cell_type": "markdown",
   "id": "ee8ca707",
   "metadata": {},
   "source": [
    "For my first iteration, im going to send all possible features into my model"
   ]
  },
  {
   "cell_type": "code",
   "execution_count": 541,
   "id": "1d833e2f",
   "metadata": {},
   "outputs": [],
   "source": [
    "#set all my features as my X_train\n"
   ]
  },
  {
   "cell_type": "code",
   "execution_count": 542,
   "id": "fd51e275",
   "metadata": {},
   "outputs": [],
   "source": [
    "#repeat for validate and test\n"
   ]
  },
  {
   "cell_type": "code",
   "execution_count": 543,
   "id": "c8eefc8c",
   "metadata": {},
   "outputs": [],
   "source": [
    "#set target\n"
   ]
  },
  {
   "cell_type": "code",
   "execution_count": 544,
   "id": "f7b44c8f",
   "metadata": {},
   "outputs": [],
   "source": [
    "#notice im sending in a single column name\n"
   ]
  },
  {
   "cell_type": "code",
   "execution_count": 545,
   "id": "31fbe133",
   "metadata": {},
   "outputs": [],
   "source": [
    "#repeat for validate and test\n"
   ]
  },
  {
   "cell_type": "markdown",
   "id": "5458ed76",
   "metadata": {},
   "source": [
    "Note: our X variables are dataframes, our y variables are series"
   ]
  },
  {
   "cell_type": "markdown",
   "id": "c112bb11",
   "metadata": {},
   "source": [
    "#### 1. make the object"
   ]
  },
  {
   "cell_type": "code",
   "execution_count": null,
   "id": "0edb65bd",
   "metadata": {},
   "outputs": [],
   "source": []
  },
  {
   "cell_type": "markdown",
   "id": "2feb0d0f",
   "metadata": {},
   "source": [
    "#### 2. fit the object"
   ]
  },
  {
   "cell_type": "code",
   "execution_count": null,
   "id": "d7b13467",
   "metadata": {},
   "outputs": [],
   "source": []
  },
  {
   "cell_type": "markdown",
   "id": "1cc63171",
   "metadata": {},
   "source": [
    "#### 3. transform the object"
   ]
  },
  {
   "cell_type": "code",
   "execution_count": null,
   "id": "cf5ac23b",
   "metadata": {},
   "outputs": [],
   "source": []
  },
  {
   "cell_type": "code",
   "execution_count": null,
   "id": "a9c92a19",
   "metadata": {},
   "outputs": [],
   "source": []
  },
  {
   "cell_type": "code",
   "execution_count": 547,
   "id": "5ee1ba83",
   "metadata": {},
   "outputs": [],
   "source": [
    "#see the tree that was built\n",
    "#plot_tree\n"
   ]
  },
  {
   "cell_type": "markdown",
   "id": "bdccf0b9",
   "metadata": {},
   "source": [
    "#### how does our model work on unseen data?"
   ]
  },
  {
   "cell_type": "code",
   "execution_count": 551,
   "id": "2787ef1f",
   "metadata": {},
   "outputs": [],
   "source": [
    "#score on validate\n"
   ]
  },
  {
   "cell_type": "markdown",
   "id": "6dd3ebca",
   "metadata": {},
   "source": [
    "Takeaway: "
   ]
  },
  {
   "cell_type": "markdown",
   "id": "ed00658f",
   "metadata": {},
   "source": [
    "## More Modeling"
   ]
  },
  {
   "cell_type": "markdown",
   "id": "e7b33ccc",
   "metadata": {},
   "source": [
    "We've only built one model so far. Let's build more models to find the best one!\n",
    "\n",
    "Ways to build different models\n",
    "- change hyperparameters\n",
    "- change feature sets"
   ]
  },
  {
   "cell_type": "markdown",
   "id": "440ff1ca",
   "metadata": {},
   "source": [
    "### change a hyperparameter"
   ]
  },
  {
   "cell_type": "markdown",
   "id": "314aa38a",
   "metadata": {},
   "source": [
    "decision tree hyperparameters\n",
    "- max_depth: maximum number of splits (default: None)\n",
    "- min_samples_split: minimum number of data points required to split a node (default: 2)\n",
    "- min_samples_leaf: minimum number of data points required to be present in a endpoint or leaf (default: 1)\n",
    "- max_leaf_nodes: maximum number of \"endpoints\", or leaves (default: None)\n",
    "- criterion: how our impurity values are calculated (default:gini)"
   ]
  },
  {
   "cell_type": "markdown",
   "id": "1c3eec7e",
   "metadata": {},
   "source": [
    "#### 1. create the object"
   ]
  },
  {
   "cell_type": "code",
   "execution_count": 553,
   "id": "5241a36a",
   "metadata": {},
   "outputs": [],
   "source": [
    "#set max depth\n"
   ]
  },
  {
   "cell_type": "markdown",
   "id": "90be339e",
   "metadata": {},
   "source": [
    "#### 2. fit the object"
   ]
  },
  {
   "cell_type": "code",
   "execution_count": 556,
   "id": "6609623b",
   "metadata": {},
   "outputs": [],
   "source": [
    "#still using train data\n"
   ]
  },
  {
   "cell_type": "markdown",
   "id": "5e0972b6",
   "metadata": {},
   "source": [
    "#### 3. transform the object"
   ]
  },
  {
   "cell_type": "code",
   "execution_count": 557,
   "id": "71260d93",
   "metadata": {},
   "outputs": [],
   "source": [
    "#evaluate on train\n"
   ]
  },
  {
   "cell_type": "code",
   "execution_count": 558,
   "id": "8434a334",
   "metadata": {},
   "outputs": [],
   "source": [
    "#see the tree that was built\n"
   ]
  },
  {
   "cell_type": "code",
   "execution_count": 560,
   "id": "3c7b2d9d",
   "metadata": {},
   "outputs": [],
   "source": [
    "#see predictions\n"
   ]
  },
  {
   "cell_type": "code",
   "execution_count": 561,
   "id": "d38680cb",
   "metadata": {},
   "outputs": [],
   "source": [
    "#see probability of predictions \n"
   ]
  },
  {
   "cell_type": "markdown",
   "id": "58100f6b",
   "metadata": {},
   "source": [
    "#### more evaluation"
   ]
  },
  {
   "cell_type": "code",
   "execution_count": 562,
   "id": "db2fb616",
   "metadata": {},
   "outputs": [],
   "source": [
    "#import \n"
   ]
  },
  {
   "cell_type": "code",
   "execution_count": 563,
   "id": "3806ed62",
   "metadata": {},
   "outputs": [],
   "source": [
    "# confusion_matrix?"
   ]
  },
  {
   "cell_type": "code",
   "execution_count": 564,
   "id": "639c987a",
   "metadata": {},
   "outputs": [],
   "source": [
    "#y_true \n"
   ]
  },
  {
   "cell_type": "code",
   "execution_count": 565,
   "id": "77c74016",
   "metadata": {},
   "outputs": [],
   "source": [
    "#y_pred\n"
   ]
  },
  {
   "cell_type": "code",
   "execution_count": 566,
   "id": "cd107147",
   "metadata": {},
   "outputs": [],
   "source": [
    "#generate confusion matrix!\n"
   ]
  },
  {
   "cell_type": "code",
   "execution_count": 570,
   "id": "4e2e3ce3",
   "metadata": {},
   "outputs": [],
   "source": [
    "#find labels in our dataset & sort\n"
   ]
  },
  {
   "cell_type": "code",
   "execution_count": 571,
   "id": "4757aaeb",
   "metadata": {},
   "outputs": [],
   "source": [
    "#make pretty with df\n"
   ]
  },
  {
   "cell_type": "code",
   "execution_count": 573,
   "id": "0c09f9f7",
   "metadata": {},
   "outputs": [],
   "source": [
    "#generate classification report\n"
   ]
  },
  {
   "cell_type": "markdown",
   "id": "24508faa",
   "metadata": {},
   "source": [
    "#### evaluate on unseen data"
   ]
  },
  {
   "cell_type": "code",
   "execution_count": 574,
   "id": "0da65c92",
   "metadata": {},
   "outputs": [],
   "source": [
    "#score our validate\n"
   ]
  },
  {
   "cell_type": "markdown",
   "id": "17a619c2",
   "metadata": {},
   "source": [
    "### change another hyperparameter"
   ]
  },
  {
   "cell_type": "code",
   "execution_count": 576,
   "id": "6f995522",
   "metadata": {},
   "outputs": [],
   "source": [
    "#create using max_leaf_nodes\n",
    "\n",
    "#fit\n",
    "\n",
    "#transform\n"
   ]
  },
  {
   "cell_type": "code",
   "execution_count": 577,
   "id": "7fe533fd",
   "metadata": {},
   "outputs": [],
   "source": [
    "#plot the tree!\n"
   ]
  },
  {
   "cell_type": "code",
   "execution_count": 578,
   "id": "19b79481",
   "metadata": {},
   "outputs": [],
   "source": [
    "#evaluate on validate\n"
   ]
  },
  {
   "cell_type": "markdown",
   "id": "2e46f359",
   "metadata": {},
   "source": [
    "Reminders: "
   ]
  },
  {
   "cell_type": "markdown",
   "id": "786b5e64",
   "metadata": {},
   "source": [
    "Takeaway: "
   ]
  },
  {
   "cell_type": "markdown",
   "id": "14568b13",
   "metadata": {},
   "source": [
    "### change features"
   ]
  },
  {
   "cell_type": "code",
   "execution_count": 579,
   "id": "fe9ffcba",
   "metadata": {},
   "outputs": [
    {
     "data": {
      "text/html": [
       "<div>\n",
       "<style scoped>\n",
       "    .dataframe tbody tr th:only-of-type {\n",
       "        vertical-align: middle;\n",
       "    }\n",
       "\n",
       "    .dataframe tbody tr th {\n",
       "        vertical-align: top;\n",
       "    }\n",
       "\n",
       "    .dataframe thead th {\n",
       "        text-align: right;\n",
       "    }\n",
       "</style>\n",
       "<table border=\"1\" class=\"dataframe\">\n",
       "  <thead>\n",
       "    <tr style=\"text-align: right;\">\n",
       "      <th></th>\n",
       "      <th>sepal_length</th>\n",
       "      <th>sepal_width</th>\n",
       "      <th>petal_length</th>\n",
       "      <th>petal_width</th>\n",
       "      <th>species</th>\n",
       "    </tr>\n",
       "  </thead>\n",
       "  <tbody>\n",
       "    <tr>\n",
       "      <th>70</th>\n",
       "      <td>5.9</td>\n",
       "      <td>3.2</td>\n",
       "      <td>4.8</td>\n",
       "      <td>1.8</td>\n",
       "      <td>versicolor</td>\n",
       "    </tr>\n",
       "    <tr>\n",
       "      <th>123</th>\n",
       "      <td>6.3</td>\n",
       "      <td>2.7</td>\n",
       "      <td>4.9</td>\n",
       "      <td>1.8</td>\n",
       "      <td>virginica</td>\n",
       "    </tr>\n",
       "    <tr>\n",
       "      <th>87</th>\n",
       "      <td>6.3</td>\n",
       "      <td>2.3</td>\n",
       "      <td>4.4</td>\n",
       "      <td>1.3</td>\n",
       "      <td>versicolor</td>\n",
       "    </tr>\n",
       "    <tr>\n",
       "      <th>3</th>\n",
       "      <td>4.6</td>\n",
       "      <td>3.1</td>\n",
       "      <td>1.5</td>\n",
       "      <td>0.2</td>\n",
       "      <td>setosa</td>\n",
       "    </tr>\n",
       "    <tr>\n",
       "      <th>15</th>\n",
       "      <td>5.7</td>\n",
       "      <td>4.4</td>\n",
       "      <td>1.5</td>\n",
       "      <td>0.4</td>\n",
       "      <td>setosa</td>\n",
       "    </tr>\n",
       "  </tbody>\n",
       "</table>\n",
       "</div>"
      ],
      "text/plain": [
       "     sepal_length  sepal_width  petal_length  petal_width     species\n",
       "70            5.9          3.2           4.8          1.8  versicolor\n",
       "123           6.3          2.7           4.9          1.8   virginica\n",
       "87            6.3          2.3           4.4          1.3  versicolor\n",
       "3             4.6          3.1           1.5          0.2      setosa\n",
       "15            5.7          4.4           1.5          0.4      setosa"
      ]
     },
     "execution_count": 579,
     "metadata": {},
     "output_type": "execute_result"
    }
   ],
   "source": [
    "train.head()"
   ]
  },
  {
   "cell_type": "code",
   "execution_count": 580,
   "id": "f70d92f7",
   "metadata": {},
   "outputs": [],
   "source": [
    "#set features i found in exploration\n"
   ]
  },
  {
   "cell_type": "code",
   "execution_count": 581,
   "id": "6a14cc5f",
   "metadata": {},
   "outputs": [],
   "source": [
    "#see em on X_train\n"
   ]
  },
  {
   "cell_type": "markdown",
   "id": "dc33a288",
   "metadata": {},
   "source": [
    "#### try another model! with my selected features"
   ]
  },
  {
   "cell_type": "code",
   "execution_count": 584,
   "id": "7bc0c0e0",
   "metadata": {},
   "outputs": [],
   "source": [
    "#create\n",
    "\n",
    "\n",
    "#fit \n",
    "#with features\n",
    "\n",
    "\n",
    "#transform \n",
    "#with features\n"
   ]
  },
  {
   "cell_type": "code",
   "execution_count": 585,
   "id": "d0fe0673",
   "metadata": {},
   "outputs": [],
   "source": [
    "#evaluate on validate \n",
    "#with features\n"
   ]
  },
  {
   "cell_type": "markdown",
   "id": "cabc0c59",
   "metadata": {},
   "source": [
    "## Finish Modeling"
   ]
  },
  {
   "cell_type": "markdown",
   "id": "11edd9ff",
   "metadata": {},
   "source": [
    "# use your test data ONLY ON ONE MODEL, your final bestest model"
   ]
  },
  {
   "cell_type": "markdown",
   "id": "013db9d9",
   "metadata": {},
   "source": [
    "Pick best model: \n"
   ]
  },
  {
   "cell_type": "code",
   "execution_count": 589,
   "id": "7075f781",
   "metadata": {},
   "outputs": [],
   "source": [
    "#evaluate on test\n"
   ]
  },
  {
   "cell_type": "markdown",
   "id": "427a8f58",
   "metadata": {},
   "source": [
    "Conclude: \n"
   ]
  },
  {
   "cell_type": "code",
   "execution_count": null,
   "id": "e7f5fab4",
   "metadata": {},
   "outputs": [],
   "source": []
  },
  {
   "cell_type": "markdown",
   "id": "8e71c723",
   "metadata": {},
   "source": [
    "# Reminders\n",
    "\n",
    "Process recap:\n",
    "\n",
    "\n",
    "Evaluate:\n"
   ]
  },
  {
   "cell_type": "code",
   "execution_count": null,
   "id": "1c6bfc90",
   "metadata": {},
   "outputs": [],
   "source": []
  }
 ],
 "metadata": {
  "kernelspec": {
   "display_name": "Python 3 (ipykernel)",
   "language": "python",
   "name": "python3"
  },
  "language_info": {
   "codemirror_mode": {
    "name": "ipython",
    "version": 3
   },
   "file_extension": ".py",
   "mimetype": "text/x-python",
   "name": "python",
   "nbconvert_exporter": "python",
   "pygments_lexer": "ipython3",
   "version": "3.9.12"
  }
 },
 "nbformat": 4,
 "nbformat_minor": 5
}
