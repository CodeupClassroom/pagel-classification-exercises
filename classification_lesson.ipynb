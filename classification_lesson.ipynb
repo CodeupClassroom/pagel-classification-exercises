{
 "cells": [
  {
   "cell_type": "code",
   "execution_count": null,
   "id": "82d7cea7-6f57-4acb-bd6a-0997a98efad8",
   "metadata": {},
   "outputs": [],
   "source": [
    "import pandas as pd \n",
    "import env\n",
    "import os"
   ]
  },
  {
   "cell_type": "markdown",
   "id": "ac472288-428f-4531-a5fe-7ebad5627b50",
   "metadata": {
    "tags": []
   },
   "source": [
    "# Methods of Data Acquisition\n",
    "\n",
    "### `read_clipboard`: \n",
    "- When you have data copied to your clipboard, you can use pandas to read it into a data frame with pd.read_clipboard. This can be useful for quickly transferring data to/from a spreadsheet.\n",
    "\n",
    "<br>\n",
    "\n",
    "### `read_excel`: \n",
    "- This function can be used to create a data frame based on the contents of an Excel spreadsheet.\n",
    "\n",
    "<br>\n",
    "\n",
    "### `read_csv`: \n",
    "- Read from a local csv, or from a the cloud (Google Sheets or AWS S3).\n",
    "\n",
    "<br>\n",
    "\n",
    "### `read_sql(sql_query, connection_url)`: \n",
    "- Read data using a SQL query to a database. You must have the required drivers installed, and a specially formatted url string must be provided.\n",
    "\n",
    "    >To talk to a mysql database:\n",
    "    >\n",
    "    >` python -m pip install pymysql mysql-connector`\n",
    "    <br>\n",
    "    >The connection url string:\n",
    "    >\n",
    "    >` mysql+pymysql://{USER}:{PASSWORD}@{HOST}/{DATABASE_NAME}`"
   ]
  },
  {
   "cell_type": "markdown",
   "id": "a0238c93-4ce6-4139-a248-c1c8c5256e9c",
   "metadata": {},
   "source": [
    "___\n",
    "# Source: Clipboard\n",
    "\n",
    "Navigate to Google Classroom > Classwork > Data\n",
    "\n",
    "- Scroll down to Classification Lesson - students.csv \n",
    "- Double click to Open\n",
    "- [Cmd][A]\n",
    "- [Cmd][C]\n",
    "\n",
    "Or find a table (not image) of data like: <a href = \"https://www.testmasters.net/PsatAbout/Scoring-Scale\">PSAT Scoring Scale</a>"
   ]
  },
  {
   "cell_type": "code",
   "execution_count": null,
   "id": "0b8a4f63-d0bb-4e70-8be4-bf981cb1de33",
   "metadata": {},
   "outputs": [],
   "source": []
  },
  {
   "cell_type": "code",
   "execution_count": null,
   "id": "b7388f96-1e1d-41f3-87d3-36b2a9729720",
   "metadata": {},
   "outputs": [],
   "source": []
  },
  {
   "cell_type": "markdown",
   "id": "bed5b60e-5028-434c-9be1-6960a4d6344e",
   "metadata": {},
   "source": [
    "___\n",
    "# Source: A Shared Google Sheet\n",
    "1. Get the shareable link url: https://docs.google.com/spreadsheets/d/BLAHBLAHBLAH/edit#gid=NUMBER\n",
    "\n",
    "2. Turn that into a CSV export URL: \n",
    "    - Replace `/edit` with `/export`; \n",
    "    - Add `format=csv` to the beginning of the query string. \n",
    "    \n",
    "        https://docs.google.com/spreadsheets/d/BLAHBLAHBLAH/export?format=csv&gid=NUMBER\n",
    "\n",
    "3. Pass it to `pd.read_csv`, which can take a URL."
   ]
  },
  {
   "cell_type": "code",
   "execution_count": null,
   "id": "f98a14a5-76d1-43a8-8cda-ed90c1832274",
   "metadata": {},
   "outputs": [],
   "source": []
  },
  {
   "cell_type": "code",
   "execution_count": null,
   "id": "0a0c8414-1e97-45b1-a8da-0b9b673c5f5d",
   "metadata": {},
   "outputs": [],
   "source": []
  },
  {
   "cell_type": "markdown",
   "id": "4fe05d43-bbc0-4ddc-9a41-f0ecae55fd93",
   "metadata": {},
   "source": [
    "___\n",
    "# Source: CSV (Hosted or Local)\n",
    "\n",
    "#### Hosted:"
   ]
  },
  {
   "cell_type": "code",
   "execution_count": null,
   "id": "1bcfa025-c1d2-4509-9d24-4f63c2037d10",
   "metadata": {},
   "outputs": [],
   "source": []
  },
  {
   "cell_type": "markdown",
   "id": "87a4c45c-66fa-41c5-b248-686d51e5e5c0",
   "metadata": {},
   "source": [
    "___\n",
    "# Source: SQL\n",
    "Create a dataframe from the `passengers` table in the mySQL database: `titanic_db`."
   ]
  },
  {
   "cell_type": "markdown",
   "id": "9e392a5f-629c-41a5-92b4-ead70c8ab3fb",
   "metadata": {},
   "source": [
    "<div class=\"alert alert-danger\" role=\"alert\">\n",
    "    <div class=\"row vertical-align\">\n",
    "        <div class=\"col-xs-1 text-center\">\n",
    "            <i class=\"fa fa-exclamation-triangle fa-2x\"></i>\n",
    "        </div>\n",
    "        <div class=\"col-xs-11\">\n",
    "                <strong> Remember:</strong>\n",
    "            Be sure to import <b>.gitignore</b> prior to pushing env.py\n",
    "</div>"
   ]
  },
  {
   "cell_type": "markdown",
   "id": "e6f2cd68-0fc4-4fbc-898e-2d4682b7b3e4",
   "metadata": {},
   "source": [
    "<div class=\"alert alert-danger\" role=\"alert\">\n",
    "    <div class=\"row vertical-align\">\n",
    "        <div class=\"col-xs-1 text-center\">\n",
    "            <i class=\"fa fa-exclamation-triangle fa-2x\"></i>\n",
    "        </div>\n",
    "        <div class=\"col-xs-11\">\n",
    "<strong>Database Credentials</strong>\n",
    "<br>\n",
    "It's a bad idea to store your database access credentials (i.e. your username and password) in plaintext in your source code. There are many different ways one could manage secrets like this, but a simple way is to store the values in a python file that is <b>not</b> included along with the rest of your source code. \n",
    "<br>\n",
    "This is what we have done with the env module.            \n",
    "<br>\n",
    "<br>\n",
    "Another option may be to create environment variables that may be called using the os library.\n",
    "            </div> \n"
   ]
  },
  {
   "cell_type": "code",
   "execution_count": null,
   "id": "85551210-7bb8-4f5c-8219-c7ab1f1e910c",
   "metadata": {},
   "outputs": [],
   "source": []
  },
  {
   "cell_type": "code",
   "execution_count": null,
   "id": "641c2d4f-e380-4e56-84c3-7f831ca2cd9b",
   "metadata": {},
   "outputs": [],
   "source": []
  },
  {
   "cell_type": "code",
   "execution_count": null,
   "id": "db248b93-ebc2-489b-83dd-9c01913a05eb",
   "metadata": {},
   "outputs": [],
   "source": []
  },
  {
   "cell_type": "markdown",
   "id": "833db3de-0b44-4453-9929-7b5a45ea4523",
   "metadata": {},
   "source": [
    "#### We will create a function that we can reference later to acquire the data:"
   ]
  },
  {
   "cell_type": "code",
   "execution_count": null,
   "id": "10e31a6e-6513-4e85-b07f-b4e3868963ef",
   "metadata": {},
   "outputs": [],
   "source": []
  },
  {
   "cell_type": "code",
   "execution_count": null,
   "id": "21bc7d18-f2fd-4d54-ab71-e04adcf72d9b",
   "metadata": {},
   "outputs": [],
   "source": []
  },
  {
   "cell_type": "markdown",
   "id": "53f2f4c7-44d1-4994-9ee2-6a6cb8872d16",
   "metadata": {},
   "source": [
    "#### Store this function in a file named `acquire.py`"
   ]
  },
  {
   "cell_type": "markdown",
   "id": "e1db2463-a6c5-4acf-84c6-ab7b446b7a4f",
   "metadata": {},
   "source": [
    "---\n",
    "___\n",
    "# Caching Your Data\n",
    "Because data acquisition *can take **time***, it's a common practice to write the data **locally** to a `.csv` file.\n",
    "\n",
    "1. Do whatever you need to do to produce the dataframe that you need.\n",
    "    - For example ```df = pd.read_sql('SELECT * FROM passengers', get_connection('titanic_db'))```\n",
    "    - Or your dataframe could include joins, multiple data sources, etc...\n",
    "    \n",
    "<br>\n",
    "\n",
    "2. Next, use ```df.to_csv(\"titanic.csv\")``` to write that dataframe to the file.\n",
    "<br>\n",
    "\n",
    "3. In your data acquisition function:\n",
    "    - First check to see if the csv file exists \n",
    "    - If it does, read from the csv file\n",
    "    - Otherwise get \"fresh\" data from mySQL\n",
    "\n",
    "\n",
    "***\n",
    "Let's work through the function creation!"
   ]
  },
  {
   "cell_type": "code",
   "execution_count": null,
   "id": "bd543306-f573-40b1-a9b9-aa2b41276bf0",
   "metadata": {},
   "outputs": [],
   "source": []
  },
  {
   "cell_type": "code",
   "execution_count": null,
   "id": "28f5b5a0-bd5a-433e-8881-c1471b87c0b9",
   "metadata": {},
   "outputs": [],
   "source": []
  },
  {
   "cell_type": "code",
   "execution_count": null,
   "id": "7d38b55b-deca-47fd-b0de-45519e69d4bc",
   "metadata": {},
   "outputs": [],
   "source": []
  },
  {
   "cell_type": "code",
   "execution_count": null,
   "id": "e4c450f5-5485-40e5-80ba-022c16f0a6fa",
   "metadata": {},
   "outputs": [],
   "source": []
  },
  {
   "cell_type": "code",
   "execution_count": null,
   "id": "14606b80-97fc-4e5e-9d44-41383b9d82c7",
   "metadata": {},
   "outputs": [],
   "source": []
  }
 ],
 "metadata": {
  "kernelspec": {
   "display_name": "Python 3 (ipykernel)",
   "language": "python",
   "name": "python3"
  },
  "language_info": {
   "codemirror_mode": {
    "name": "ipython",
    "version": 3
   },
   "file_extension": ".py",
   "mimetype": "text/x-python",
   "name": "python",
   "nbconvert_exporter": "python",
   "pygments_lexer": "ipython3",
   "version": "3.9.13"
  }
 },
 "nbformat": 4,
 "nbformat_minor": 5
}
