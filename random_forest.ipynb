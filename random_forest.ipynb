{
 "cells": [
  {
   "cell_type": "markdown",
   "id": "ab2ab9f7",
   "metadata": {},
   "source": [
    "# Modeling - Random Forest\n",
    "\n"
   ]
  },
  {
   "cell_type": "markdown",
   "id": "90ddfa4f",
   "metadata": {},
   "source": [
    "What is it?\n",
    "- a machine learning algorithm used for predicting categorical target variables\n",
    "- Pipeline: Plan - Acquire - Prepare - Explore - **Model** - Deliver\n",
    "\n",
    "Why do we care?\n",
    "- we can predict future target variables based on the model we build! \n",
    "\n",
    "How does it work?\n",
    "- [slides we already saw](https://docs.google.com/presentation/d/14alN-7mOuKKUEjbPxdUDRWXI3cfI51_T/edit?usp=sharing&ouid=110448495992573862737&rtpof=true&sd=true)\n",
    "\n",
    "How do we use it?\n",
    "- acquire, prepare, explore our data\n",
    "- split data for modeling\n",
    "- build models on train\n",
    "    - create rules based on our input data\n",
    "- evaluate models on train & validate\n",
    "    - see how our rules work on unseen data\n",
    "- pick best of the best model, and evaluate bestest model on test"
   ]
  },
  {
   "cell_type": "markdown",
   "id": "6d7d3c50",
   "metadata": {},
   "source": [
    "## Show us!"
   ]
  },
  {
   "cell_type": "code",
   "execution_count": null,
   "id": "8c61f211",
   "metadata": {},
   "outputs": [],
   "source": [
    "import pandas as pd\n",
    "import numpy as np\n",
    "\n",
    "import matplotlib.pyplot as plt\n",
    "import seaborn as sns\n",
    "\n",
    "from sklearn.metrics import classification_report, confusion_matrix\n",
    "\n",
    "import acquire\n",
    "import prepare"
   ]
  },
  {
   "cell_type": "markdown",
   "id": "764b038f",
   "metadata": {},
   "source": [
    "## Example - Iris Dataset"
   ]
  },
  {
   "cell_type": "markdown",
   "id": "2c25f5de",
   "metadata": {},
   "source": [
    "See it in the data science pipeline!"
   ]
  },
  {
   "cell_type": "markdown",
   "id": "4acd5ddb",
   "metadata": {},
   "source": [
    "### Acquire"
   ]
  },
  {
   "cell_type": "code",
   "execution_count": null,
   "id": "2de526a3",
   "metadata": {},
   "outputs": [],
   "source": [
    "#get my iris data\n",
    "df = acquire.get_iris_data()"
   ]
  },
  {
   "cell_type": "code",
   "execution_count": null,
   "id": "d72be5c5",
   "metadata": {},
   "outputs": [],
   "source": [
    "#look at it\n",
    "df.head()"
   ]
  },
  {
   "cell_type": "markdown",
   "id": "e1c8d96b",
   "metadata": {},
   "source": [
    "### Prepare"
   ]
  },
  {
   "cell_type": "code",
   "execution_count": null,
   "id": "0da83351",
   "metadata": {},
   "outputs": [],
   "source": [
    "#clean my data\n",
    "df = prepare.prep_iris(df)\n",
    "df.head()"
   ]
  },
  {
   "cell_type": "code",
   "execution_count": null,
   "id": "c031300f",
   "metadata": {},
   "outputs": [],
   "source": [
    "#split my data\n",
    "train, validate, test = prepare.my_train_test_split(df, 'species')"
   ]
  },
  {
   "cell_type": "code",
   "execution_count": null,
   "id": "e6387f20",
   "metadata": {},
   "outputs": [],
   "source": [
    "#look at my train\n",
    "train.head()"
   ]
  },
  {
   "cell_type": "markdown",
   "id": "1b6bd1e6",
   "metadata": {},
   "source": [
    "### Explore"
   ]
  },
  {
   "cell_type": "markdown",
   "id": "8aeb3247",
   "metadata": {},
   "source": [
    "ONLY USING TRAIN!\n",
    "\n",
    "completed the following steps on my features and target variable\n",
    "1. hypothesize\n",
    "2. visualize\n",
    "3. analyze\n",
    "4. summarize"
   ]
  },
  {
   "cell_type": "markdown",
   "id": "8792268a",
   "metadata": {},
   "source": [
    "these steps arent written out here, however, i found that petal width and petal length identified species the most"
   ]
  },
  {
   "cell_type": "markdown",
   "id": "507dafd9",
   "metadata": {},
   "source": [
    "### Model"
   ]
  },
  {
   "cell_type": "markdown",
   "id": "922db3df",
   "metadata": {},
   "source": [
    "Before we put anything into our machine learning model, we will want to establish a baseline predication"
   ]
  },
  {
   "cell_type": "markdown",
   "id": "270874d9",
   "metadata": {},
   "source": [
    "#### Baseline"
   ]
  },
  {
   "cell_type": "code",
   "execution_count": null,
   "id": "00f31b22",
   "metadata": {},
   "outputs": [],
   "source": [
    "train.head()"
   ]
  },
  {
   "cell_type": "code",
   "execution_count": null,
   "id": "9de31d82",
   "metadata": {},
   "outputs": [],
   "source": [
    "#find most common species\n",
    "train.species.value_counts()"
   ]
  },
  {
   "cell_type": "markdown",
   "id": "127a53de",
   "metadata": {},
   "source": [
    "Since there is not a most common class, it doesn't matter which one we choose.  "
   ]
  },
  {
   "cell_type": "code",
   "execution_count": null,
   "id": "531b0c23",
   "metadata": {},
   "outputs": [],
   "source": [
    "#calculate baseline accuracy\n",
    "baseline_accuracy = 30 / (30+30+30)\n",
    "baseline_accuracy"
   ]
  },
  {
   "cell_type": "markdown",
   "id": "0a892a10",
   "metadata": {},
   "source": [
    "#### 0. split into features and target variable\n",
    "- need to do this on my train, validate, and test dataframe\n",
    "- will end up with the following variables:\n",
    "    - X_train, X_validate, X_test: all the features we plan to put into our model\n",
    "    - y_train, y_validate, y_test: the targete variable"
   ]
  },
  {
   "cell_type": "code",
   "execution_count": null,
   "id": "a80ce0d0",
   "metadata": {},
   "outputs": [],
   "source": [
    "#look at train\n",
    "train.head()"
   ]
  },
  {
   "cell_type": "markdown",
   "id": "ee8ca707",
   "metadata": {},
   "source": [
    "For my first iteration, im going to send all possible features into my model"
   ]
  },
  {
   "cell_type": "code",
   "execution_count": null,
   "id": "0de0a860",
   "metadata": {},
   "outputs": [],
   "source": [
    "#set all my features as my X_train\n",
    "X_train = train.iloc[:,:-1]\n",
    "X_train.head()"
   ]
  },
  {
   "cell_type": "code",
   "execution_count": null,
   "id": "fd51e275",
   "metadata": {},
   "outputs": [],
   "source": [
    "#repeat for validate and test\n",
    "X_validate = validate.iloc[:,:-1]\n",
    "X_test = test.iloc[:,:-1]"
   ]
  },
  {
   "cell_type": "code",
   "execution_count": null,
   "id": "987c7f5b",
   "metadata": {},
   "outputs": [],
   "source": [
    "#set target\n",
    "target = 'species'"
   ]
  },
  {
   "cell_type": "code",
   "execution_count": null,
   "id": "f7b44c8f",
   "metadata": {},
   "outputs": [],
   "source": [
    "#notice im sending in a single column name\n",
    "y_train = train[target]\n",
    "y_train.head()"
   ]
  },
  {
   "cell_type": "code",
   "execution_count": null,
   "id": "31fbe133",
   "metadata": {},
   "outputs": [],
   "source": [
    "#repeat for validate and test\n",
    "y_validate = validate[target]\n",
    "y_test = test[target]"
   ]
  },
  {
   "cell_type": "markdown",
   "id": "5458ed76",
   "metadata": {},
   "source": [
    "Note: our X variables are dataframes, our y variables are series"
   ]
  },
  {
   "cell_type": "markdown",
   "id": "e0625122",
   "metadata": {},
   "source": [
    "#### 1. make the object"
   ]
  },
  {
   "cell_type": "code",
   "execution_count": null,
   "id": "4e91d88d",
   "metadata": {},
   "outputs": [],
   "source": [
    "#new import!\n"
   ]
  },
  {
   "cell_type": "code",
   "execution_count": null,
   "id": "722ab99d",
   "metadata": {},
   "outputs": [],
   "source": []
  },
  {
   "cell_type": "markdown",
   "id": "a2fa5d5c",
   "metadata": {},
   "source": [
    "#### 2. fit the object"
   ]
  },
  {
   "cell_type": "code",
   "execution_count": null,
   "id": "18b33270",
   "metadata": {},
   "outputs": [],
   "source": [
    "#building our model on our train values\n"
   ]
  },
  {
   "cell_type": "markdown",
   "id": "b21c2938",
   "metadata": {},
   "source": [
    "#### 3. transform the object"
   ]
  },
  {
   "cell_type": "code",
   "execution_count": null,
   "id": "7673a4f0",
   "metadata": {},
   "outputs": [],
   "source": [
    "#score on my train data\n"
   ]
  },
  {
   "cell_type": "markdown",
   "id": "f925fce6",
   "metadata": {},
   "source": [
    "#### how does our model work on unseen data?"
   ]
  },
  {
   "cell_type": "code",
   "execution_count": null,
   "id": "e93cf838",
   "metadata": {},
   "outputs": [],
   "source": [
    "#score on validate\n"
   ]
  },
  {
   "cell_type": "markdown",
   "id": "a8f729aa",
   "metadata": {},
   "source": [
    "#### feature importance"
   ]
  },
  {
   "cell_type": "code",
   "execution_count": null,
   "id": "c0e1a6aa",
   "metadata": {},
   "outputs": [],
   "source": []
  },
  {
   "cell_type": "code",
   "execution_count": null,
   "id": "a2c49489",
   "metadata": {},
   "outputs": [],
   "source": []
  },
  {
   "cell_type": "markdown",
   "id": "74cc879d",
   "metadata": {},
   "source": [
    "### change a hyperparameter"
   ]
  },
  {
   "cell_type": "markdown",
   "id": "a53b648c",
   "metadata": {},
   "source": [
    "random forest hyperparameters\n",
    "- n_estimators: The number of trees in the forest (default=100)\n",
    "- bootstrap: whether bootstrap samples are used when building trees (default=True)\n",
    "- random_state: controls randomness of bootstrapping samples (default=None)\n",
    "\n",
    "seen before\n",
    "- criterion (default=”gini”)\n",
    "- max_depth (default=None)\n",
    "- min_samples_split (default=2)\n",
    "- min_samples_leaf (default=1)\n",
    "- max_leaf_nodes (default= None)"
   ]
  },
  {
   "cell_type": "markdown",
   "id": "fd663579",
   "metadata": {},
   "source": [
    "#### 1. create the object"
   ]
  },
  {
   "cell_type": "markdown",
   "id": "e98213cb",
   "metadata": {},
   "source": [
    "this is when you set your hyperparameter"
   ]
  },
  {
   "cell_type": "code",
   "execution_count": null,
   "id": "291f8973",
   "metadata": {},
   "outputs": [],
   "source": [
    "#set max depth & random_state\n"
   ]
  },
  {
   "cell_type": "markdown",
   "id": "ffbcbae3",
   "metadata": {},
   "source": [
    "#### 2. fit the object"
   ]
  },
  {
   "cell_type": "code",
   "execution_count": null,
   "id": "a4717960",
   "metadata": {},
   "outputs": [],
   "source": [
    "#still using train data\n"
   ]
  },
  {
   "cell_type": "markdown",
   "id": "2b9cd57b",
   "metadata": {},
   "source": [
    "#### 3. transform the object"
   ]
  },
  {
   "cell_type": "code",
   "execution_count": null,
   "id": "88b28fb5",
   "metadata": {},
   "outputs": [],
   "source": [
    "#evaluate on train\n"
   ]
  },
  {
   "cell_type": "code",
   "execution_count": null,
   "id": "8f6733b7",
   "metadata": {},
   "outputs": [],
   "source": [
    "#see predictions\n"
   ]
  },
  {
   "cell_type": "code",
   "execution_count": null,
   "id": "193a4459",
   "metadata": {},
   "outputs": [],
   "source": [
    "#see probability of predictions \n"
   ]
  },
  {
   "cell_type": "markdown",
   "id": "f9a18dfc",
   "metadata": {},
   "source": [
    "#### more evaluation"
   ]
  },
  {
   "cell_type": "code",
   "execution_count": null,
   "id": "c957039f",
   "metadata": {},
   "outputs": [],
   "source": [
    "#y_pred\n",
    "y_pred = trees1.predict(X_train)\n",
    "y_pred[:5]"
   ]
  },
  {
   "cell_type": "code",
   "execution_count": null,
   "id": "6b8cc215",
   "metadata": {},
   "outputs": [],
   "source": [
    "#generate confusion matrix!\n",
    "conf = confusion_matrix(y_train, y_pred)\n",
    "conf"
   ]
  },
  {
   "cell_type": "code",
   "execution_count": null,
   "id": "ca3ba7e2",
   "metadata": {},
   "outputs": [],
   "source": [
    "#find labels in our dataset & sort\n",
    "labels = sorted(y_train.unique())\n",
    "labels"
   ]
  },
  {
   "cell_type": "code",
   "execution_count": null,
   "id": "73f72fab",
   "metadata": {},
   "outputs": [],
   "source": [
    "#make pretty with df\n",
    "pd.DataFrame(conf,\n",
    "            index=[label + '_actual'for label in labels],\n",
    "            columns=[label + '_predict'for label in labels])"
   ]
  },
  {
   "cell_type": "code",
   "execution_count": null,
   "id": "c34451e4",
   "metadata": {},
   "outputs": [],
   "source": [
    "#generate classification report\n",
    "print(classification_report(y_train, y_pred))"
   ]
  },
  {
   "cell_type": "markdown",
   "id": "61414316",
   "metadata": {},
   "source": [
    "#### evaluate on unseen data"
   ]
  },
  {
   "cell_type": "code",
   "execution_count": null,
   "id": "5d690765",
   "metadata": {},
   "outputs": [],
   "source": [
    "#score our validate\n"
   ]
  },
  {
   "cell_type": "code",
   "execution_count": null,
   "id": "fe610379",
   "metadata": {},
   "outputs": [],
   "source": []
  }
 ],
 "metadata": {
  "kernelspec": {
   "display_name": "Python 3 (ipykernel)",
   "language": "python",
   "name": "python3"
  },
  "language_info": {
   "codemirror_mode": {
    "name": "ipython",
    "version": 3
   },
   "file_extension": ".py",
   "mimetype": "text/x-python",
   "name": "python",
   "nbconvert_exporter": "python",
   "pygments_lexer": "ipython3",
   "version": "3.9.12"
  }
 },
 "nbformat": 4,
 "nbformat_minor": 5
}
